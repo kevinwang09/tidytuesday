{
 "cells": [
  {
   "cell_type": "markdown",
   "metadata": {},
   "source": [
    "# Loading modules"
   ]
  },
  {
   "cell_type": "code",
   "execution_count": 2,
   "metadata": {},
   "outputs": [],
   "source": [
    "import pandas as pd\n",
    "import numpy as np\n",
    "import seaborn as sns"
   ]
  },
  {
   "cell_type": "markdown",
   "metadata": {},
   "source": [
    "# Loading data"
   ]
  },
  {
   "cell_type": "code",
   "execution_count": 4,
   "metadata": {},
   "outputs": [
    {
     "name": "stderr",
     "output_type": "stream",
     "text": [
      "'wget' is not recognized as an internal or external command,\n",
      "operable program or batch file.\n",
      "'wget' is not recognized as an internal or external command,\n",
      "operable program or batch file.\n",
      "'wget' is not recognized as an internal or external command,\n",
      "operable program or batch file.\n"
     ]
    }
   ],
   "source": [
    "# !wget https://raw.githubusercontent.com/rfordatascience/tidytuesday/master/data/2021/2021-03-23/unvotes.csv ./unvotes.csv\n",
    "# !wget https://raw.githubusercontent.com/rfordatascience/tidytuesday/master/data/2021/2021-03-23/roll_calls.csv ./roll_calls.csv\n",
    "# !wget https://raw.githubusercontent.com/rfordatascience/tidytuesday/master/data/2021/2021-03-23/issues.csv ./issues.csv"
   ]
  },
  {
   "cell_type": "code",
   "execution_count": 5,
   "metadata": {},
   "outputs": [],
   "source": [
    "unvotes = pd.read_csv(\"unvotes.csv\")\n",
    "rollcalls = pd.read_csv(\"roll_calls.csv\")\n",
    "issues = pd.read_csv(\"issues.csv\")"
   ]
  },
  {
   "cell_type": "code",
   "execution_count": 6,
   "metadata": {},
   "outputs": [
    {
     "name": "stdout",
     "output_type": "stream",
     "text": [
      "   rcid        country country_code vote\n",
      "0     3  United States           US  yes\n",
      "1     3         Canada           CA   no\n",
      "2     3           Cuba           CU  yes\n"
     ]
    }
   ],
   "source": [
    "print(unvotes.head(3))"
   ]
  },
  {
   "cell_type": "code",
   "execution_count": 7,
   "metadata": {},
   "outputs": [
    {
     "name": "stdout",
     "output_type": "stream",
     "text": [
      "   rcid  session  importantvote        date   unres  amend  para  \\\n",
      "0     3        1            0.0  1946-01-01  R/1/66    1.0   0.0   \n",
      "1     4        1            0.0  1946-01-02  R/1/79    0.0   0.0   \n",
      "2     5        1            0.0  1946-01-04  R/1/98    0.0   0.0   \n",
      "\n",
      "                            short  \\\n",
      "0  AMENDMENTS, RULES OF PROCEDURE   \n",
      "1      SECURITY COUNCIL ELECTIONS   \n",
      "2                VOTING PROCEDURE   \n",
      "\n",
      "                                               descr  \n",
      "0  TO ADOPT A CUBAN AMENDMENT TO THE UK PROPOSAL ...  \n",
      "1  TO ADOPT A USSR PROPOSAL ADJOURNING DEBATE ON ...  \n",
      "2  TO ADOPT THE KOREAN PROPOSAL THAT INVALID BALL...  \n"
     ]
    }
   ],
   "source": [
    "print(rollcalls.head(3))"
   ]
  },
  {
   "cell_type": "code",
   "execution_count": 8,
   "metadata": {},
   "outputs": [
    {
     "name": "stdout",
     "output_type": "stream",
     "text": [
      "   rcid short_name                 issue\n",
      "0    77         me  Palestinian conflict\n",
      "1  9001         me  Palestinian conflict\n",
      "2  9002         me  Palestinian conflict\n"
     ]
    }
   ],
   "source": [
    "print(issues.head(3))"
   ]
  },
  {
   "cell_type": "markdown",
   "metadata": {},
   "source": [
    "# The 5 permanent members of the security council"
   ]
  },
  {
   "cell_type": "code",
   "execution_count": 9,
   "metadata": {},
   "outputs": [
    {
     "name": "stdout",
     "output_type": "stream",
     "text": [
      "   index  rcid         country country_code vote\n",
      "0      0     3   United States           US  yes\n",
      "1     22     3  United Kingdom           GB   no\n",
      "2     26     3          France           FR   no\n",
      "3     31     3          Russia           RU   no\n",
      "4     51     4   United States           US   no\n"
     ]
    }
   ],
   "source": [
    "unvotes_5 = unvotes.loc[unvotes.country_code.isin([\"US\", \"GB\", \"FR\", \"RU\", \"CN\"]),:].reset_index()\n",
    "print(unvotes_5.head())"
   ]
  },
  {
   "cell_type": "code",
   "execution_count": 10,
   "metadata": {},
   "outputs": [
    {
     "name": "stdout",
     "output_type": "stream",
     "text": [
      "   index  rcid         country country_code vote  session  importantvote  \\\n",
      "0    153     6   United States           US   no        1            0.0   \n",
      "1    173     6  United Kingdom           GB   no        1            0.0   \n",
      "2    177     6          France           FR   no        1            0.0   \n",
      "3    182     6          Russia           RU   no        1            0.0   \n",
      "4    245     8   United States           US   no        1            0.0   \n",
      "\n",
      "         date    unres  amend  para                        short  \\\n",
      "0  1946-01-04  R/1/107    0.0   0.0  DECLARATION OF HUMAN RIGHTS   \n",
      "1  1946-01-04  R/1/107    0.0   0.0  DECLARATION OF HUMAN RIGHTS   \n",
      "2  1946-01-04  R/1/107    0.0   0.0  DECLARATION OF HUMAN RIGHTS   \n",
      "3  1946-01-04  R/1/107    0.0   0.0  DECLARATION OF HUMAN RIGHTS   \n",
      "4  1946-01-05  R/1/297    1.0   0.0                ECOSOC POWERS   \n",
      "\n",
      "                                               descr short_name  \\\n",
      "0  TO ADOPT A CUBAN PROPOSAL (A/3-C) THAT AN ITEM...         hr   \n",
      "1  TO ADOPT A CUBAN PROPOSAL (A/3-C) THAT AN ITEM...         hr   \n",
      "2  TO ADOPT A CUBAN PROPOSAL (A/3-C) THAT AN ITEM...         hr   \n",
      "3  TO ADOPT A CUBAN PROPOSAL (A/3-C) THAT AN ITEM...         hr   \n",
      "4  TO ADOPT A SECOND 6TH COMM. AMENDMENT (A/14) T...         ec   \n",
      "\n",
      "                  issue  year  \n",
      "0          Human rights  1946  \n",
      "1          Human rights  1946  \n",
      "2          Human rights  1946  \n",
      "3          Human rights  1946  \n",
      "4  Economic development  1946  \n"
     ]
    }
   ],
   "source": [
    "unvotes_5_joined = pd.merge(unvotes_5, rollcalls, how='inner', on='rcid')\n",
    "unvotes_5_joined = pd.merge(unvotes_5_joined, issues, how='inner', on='rcid')\n",
    "unvotes_5_joined['year'] = pd.DatetimeIndex(unvotes_5_joined['date']).year\n",
    "print(unvotes_5_joined.head())"
   ]
  },
  {
   "cell_type": "markdown",
   "metadata": {},
   "source": [
    "## Summaising proporions"
   ]
  },
  {
   "cell_type": "code",
   "execution_count": 11,
   "metadata": {},
   "outputs": [
    {
     "name": "stdout",
     "output_type": "stream",
     "text": [
      "   year country_code     vote   n   percent\n",
      "0  1946           FR  abstain   3  0.111111\n",
      "1  1946           FR       no   6  0.222222\n",
      "2  1946           FR      yes  18  0.666667\n",
      "3  1946           GB  abstain   1  0.037037\n",
      "4  1946           GB       no   7  0.259259\n"
     ]
    }
   ],
   "source": [
    "unvotes_5_percent = unvotes_5_joined.groupby(by=['year', 'country_code', 'vote']).size().to_frame(name = 'n').reset_index()\n",
    "unvotes_5_percent[\"percent\"] = unvotes_5_percent.groupby(by=['year', 'country_code'])['n'].transform(lambda x: x/sum(x))\n",
    "print(unvotes_5_percent.head())"
   ]
  },
  {
   "cell_type": "code",
   "execution_count": 12,
   "metadata": {},
   "outputs": [
    {
     "data": {
      "text/plain": [
       "<seaborn.axisgrid.FacetGrid at 0x15645725c10>"
      ]
     },
     "execution_count": 12,
     "metadata": {},
     "output_type": "execute_result"
    },
    {
     "data": {
      "image/png": "[encoded data removed]",
      "text/plain": [
       "<Figure size 435.125x1080 with 3 Axes>"
      ]
     },
     "metadata": {
      "needs_background": "light"
     },
     "output_type": "display_data"
    }
   ],
   "source": [
    "sns.relplot(\n",
    "    data=unvotes_5_percent, x=\"year\", y=\"percent\", hue=\"country_code\",\n",
    "    row=\"vote\",\n",
    "    kind=\"line\")"
   ]
  },
  {
   "cell_type": "markdown",
   "metadata": {},
   "source": [
    "# Hierachical clustering (ignoring temporal nature)"
   ]
  },
  {
   "cell_type": "code",
   "execution_count": 76,
   "metadata": {},
   "outputs": [],
   "source": [
    "## Preparing the matrix\n",
    "unvotes_joined = pd.merge(unvotes, rollcalls, how='inner', on='rcid')\n",
    "unvotes_joined = pd.merge(unvotes_joined, issues, how='inner', on='rcid')\n",
    "unvotes_joined['year'] = pd.DatetimeIndex(unvotes_joined['date']).year"
   ]
  },
  {
   "cell_type": "code",
   "execution_count": 77,
   "metadata": {},
   "outputs": [
    {
     "name": "stdout",
     "output_type": "stream",
     "text": [
      "   year      country vote   n   percent\n",
      "0  1946  Afghanistan  yes   3  0.250000\n",
      "1  1946    Argentina  yes  21  0.777778\n",
      "2  1946    Australia  yes  15  0.555556\n",
      "3  1946      Belarus  yes  10  0.370370\n",
      "4  1946      Belgium  yes  17  0.629630\n"
     ]
    }
   ],
   "source": [
    "unvotes_percent = unvotes_joined.groupby(by=['year', 'country', 'vote']).size().to_frame(name = 'n').reset_index()\n",
    "unvotes_percent[\"percent\"] = unvotes_percent.groupby(by=['year', 'country'])['n'].transform(lambda x: x/sum(x))\n",
    "unvotes_percent = unvotes_percent.loc[unvotes_percent.vote=='yes', :].reset_index(drop=True)\n",
    "print(unvotes_percent.head())"
   ]
  },
  {
   "cell_type": "code",
   "execution_count": 78,
   "metadata": {},
   "outputs": [
    {
     "name": "stdout",
     "output_type": "stream",
     "text": [
      "       year      country   percent\n",
      "0      1946  Afghanistan  0.250000\n",
      "1      1946    Argentina  0.777778\n",
      "2      1946    Australia  0.555556\n",
      "3      1946      Belarus  0.370370\n",
      "4      1946      Belgium  0.629630\n",
      "...     ...          ...       ...\n",
      "10433  2019      Vietnam  0.956989\n",
      "10434  2019        Yemen  0.989247\n",
      "10435  2019   Yugoslavia  0.494382\n",
      "10436  2019       Zambia  0.956044\n",
      "10437  2019     Zimbabwe  0.720430\n",
      "\n",
      "[10438 rows x 3 columns]\n"
     ]
    }
   ],
   "source": [
    "unvotes_percent = unvotes_percent.drop(columns=[\"vote\", \"n\"])\n",
    "print(unvotes_percent)"
   ]
  },
  {
   "cell_type": "code",
   "execution_count": 79,
   "metadata": {},
   "outputs": [
    {
     "name": "stdout",
     "output_type": "stream",
     "text": [
      "country  Afghanistan   Albania   Algeria   Andorra    Angola  \\\n",
      "year                                                           \n",
      "1946        0.250000  0.000000  0.000000  0.000000  0.000000   \n",
      "1947        0.352941  0.000000  0.000000  0.000000  0.000000   \n",
      "1948        0.326531  0.000000  0.000000  0.000000  0.000000   \n",
      "1949        0.533333  0.000000  0.000000  0.000000  0.000000   \n",
      "1950        0.882353  0.000000  0.000000  0.000000  0.000000   \n",
      "...              ...       ...       ...       ...       ...   \n",
      "2015        0.978022  0.527473  0.934783  0.537634  0.886792   \n",
      "2016        0.954955  0.612069  0.879310  0.612069  0.938053   \n",
      "2017        0.985075  0.557143  0.928058  0.585714  0.875912   \n",
      "2018        0.939759  0.586957  0.858696  0.673913  0.975309   \n",
      "2019        0.967391  0.376344  0.892473  0.623656  0.967391   \n",
      "\n",
      "country  Antigua & Barbuda  Argentina   Armenia  Australia   Austria  ...  \\\n",
      "year                                                                  ...   \n",
      "1946              0.000000   0.777778  0.000000   0.555556  0.000000  ...   \n",
      "1947              0.000000   0.444444  0.000000   0.555556  0.000000  ...   \n",
      "1948              0.000000   0.346939  0.000000   0.224490  0.000000  ...   \n",
      "1949              0.000000   0.555556  0.000000   0.560000  0.000000  ...   \n",
      "1950              0.000000   0.588235  0.000000   0.235294  0.000000  ...   \n",
      "...                    ...        ...       ...        ...       ...  ...   \n",
      "2015              0.987013   0.924731  0.673913   0.387097  0.645161  ...   \n",
      "2016              0.956140   0.896552  0.621622   0.560345  0.715517  ...   \n",
      "2017              0.984962   0.893617  0.627737   0.432624  0.687943  ...   \n",
      "2018              0.972973   0.891304  0.673913   0.369565  0.652174  ...   \n",
      "2019              1.000000   0.860215  0.532609   0.271739  0.580645  ...   \n",
      "\n",
      "country  Uzbekistan   Vanuatu  Venezuela   Vietnam     Yemen  \\\n",
      "year                                                           \n",
      "1946       0.000000  0.000000   0.384615  0.000000  0.000000   \n",
      "1947       0.000000  0.000000   0.555556  0.000000  0.000000   \n",
      "1948       0.000000  0.000000   0.375000  0.000000  0.000000   \n",
      "1949       0.000000  0.000000   0.580000  0.000000  0.000000   \n",
      "1950       0.000000  0.000000   0.588235  0.000000  0.000000   \n",
      "...             ...       ...        ...       ...       ...   \n",
      "2015       0.813187  0.850000   0.919540  0.955056  0.945055   \n",
      "2016       0.792453  0.870370   0.853448  0.916667  0.919643   \n",
      "2017       0.848000  0.813008   0.864286  0.949640  0.971223   \n",
      "2018       0.850000  0.733333   0.858696  0.923077  0.945055   \n",
      "2019       0.868132  0.827957   0.881720  0.956989  0.989247   \n",
      "\n",
      "country  Yemen Arab Republic  Yemen People's Republic  Yugoslavia    Zambia  \\\n",
      "year                                                                          \n",
      "1946                0.000000                      0.0    0.370370  0.000000   \n",
      "1947                0.111111                      0.0    0.666667  0.000000   \n",
      "1948                0.236842                      0.0    0.591837  0.000000   \n",
      "1949                0.531915                      0.0    0.400000  0.000000   \n",
      "1950                0.823529                      0.0    0.705882  0.000000   \n",
      "...                      ...                      ...         ...       ...   \n",
      "2015                0.000000                      0.0    0.652174  0.945055   \n",
      "2016                0.000000                      0.0    0.651786  0.944444   \n",
      "2017                0.000000                      0.0    0.601504  0.969231   \n",
      "2018                0.000000                      0.0    0.651685  0.945055   \n",
      "2019                0.000000                      0.0    0.494382  0.956044   \n",
      "\n",
      "country  Zimbabwe  \n",
      "year               \n",
      "1946     0.000000  \n",
      "1947     0.000000  \n",
      "1948     0.000000  \n",
      "1949     0.000000  \n",
      "1950     0.000000  \n",
      "...           ...  \n",
      "2015     0.892473  \n",
      "2016     0.518519  \n",
      "2017     0.867188  \n",
      "2018     0.826087  \n",
      "2019     0.720430  \n",
      "\n",
      "[73 rows x 199 columns]\n"
     ]
    }
   ],
   "source": [
    "unvotes_percent_wide = unvotes_percent.pivot(index=\"year\", columns=\"country\", values=\"percent\")\n",
    "unvotes_percent_wide = unvotes_percent_wide.fillna(0)\n",
    "print(unvotes_percent_wide)"
   ]
  },
  {
   "cell_type": "code",
   "execution_count": 80,
   "metadata": {},
   "outputs": [
    {
     "name": "stdout",
     "output_type": "stream",
     "text": [
      "[[0.25       0.35294118 0.32653061 ... 0.98507463 0.93975904 0.9673913 ]\n",
      " [0.         0.         0.         ... 0.55714286 0.58695652 0.37634409]\n",
      " [0.         0.         0.         ... 0.92805755 0.85869565 0.89247312]\n",
      " ...\n",
      " [0.37037037 0.66666667 0.59183673 ... 0.60150376 0.65168539 0.49438202]\n",
      " [0.         0.         0.         ... 0.96923077 0.94505495 0.95604396]\n",
      " [0.         0.         0.         ... 0.8671875  0.82608696 0.72043011]]\n",
      "(199, 73)\n"
     ]
    }
   ],
   "source": [
    "unvotes_percent_wide_array = np.array(unvotes_percent_wide).transpose()\n",
    "print(unvotes_percent_wide_array)\n",
    "print(unvotes_percent_wide_array.shape)"
   ]
  },
  {
   "cell_type": "code",
   "execution_count": 81,
   "metadata": {},
   "outputs": [],
   "source": [
    "from sklearn.cluster import AgglomerativeClustering"
   ]
  },
  {
   "cell_type": "code",
   "execution_count": 82,
   "metadata": {},
   "outputs": [
    {
     "data": {
      "text/plain": [
       "array([146, 103, 161, 184, 179, 180, 145, 142, 121, 173, 177, 102, 195,\n",
       "       123, 141, 134, 174, 148, 171, 152, 131, 119, 127, 149, 151, 122,\n",
       "       178,  60, 115, 138, 100, 190, 172, 162, 120, 128, 147, 105, 143,\n",
       "       106, 126, 188, 191, 153, 198, 133, 104, 187, 189,  86, 137, 164,\n",
       "       175,  59,  99,  75, 197, 157, 116, 101,  88,  73,  29, 158,  52,\n",
       "        89, 193, 192, 166, 118, 167, 176,  93, 144, 168,  94, 165,  83,\n",
       "        78, 117,  58, 150, 163,  71,  63,  85, 169, 181, 186, 170,  74,\n",
       "        98, 159,  57, 111, 196, 132, 114, 155, 183, 140, 110, 125, 156,\n",
       "       113, 136,  91,  82,  72, 135, 129, 108, 154, 130, 185,  77, 109,\n",
       "        65, 182,  97,  84,  50, 139,  35,  80,  64, 107, 112, 160,  68,\n",
       "        95,  81, 194,  67,  36,  33,  38,  70,  62,  48,  76,  28,  96,\n",
       "        87,  37,  92,  49,  31,  24,  54,  46,  42,  18,  17,  47,  69,\n",
       "        45,  53,  79,  23,   8,  90,  11,  66, 124,  43,  44,  61,  55,\n",
       "        26,  41,  21,  56,  51,  27,  32,  30,  25,  15,  13,  14,  40,\n",
       "        34,  22,  20,  10,  39,  16,  12,  19,   9,   5,   7,   3,   4,\n",
       "         6,   1,   2,   0], dtype=int64)"
      ]
     },
     "execution_count": 82,
     "metadata": {},
     "output_type": "execute_result"
    }
   ],
   "source": [
    "model = AgglomerativeClustering(distance_threshold=0, n_clusters=None)\n",
    "clustering = model.fit(unvotes_percent_wide_array)\n",
    "clustering.labels_"
   ]
  },
  {
   "cell_type": "code",
   "execution_count": 85,
   "metadata": {},
   "outputs": [],
   "source": [
    "import plotly.figure_factory as ff\n",
    "import numpy as np"
   ]
  },
  {
   "cell_type": "code",
   "execution_count": 86,
   "metadata": {},
   "outputs": [],
   "source": [
    "# !pip install plotly"
   ]
  },
  {
   "cell_type": "code",
   "execution_count": 87,
   "metadata": {},
   "outputs": [],
   "source": [
    "from plotly.figure_factory import create_dendrogram"
   ]
  },
  {
   "cell_type": "code",
   "execution_count": 88,
   "metadata": {},
   "outputs": [
    {
     "data": {
      "application/vnd.plotly.v1+json": {
       "config": {
        "plotlyServerURL": "https://plot.ly"
       },
       "data": [
        {
         "hoverinfo": "text",
         "marker": {
          "color": "rgb(61,153,112)"
         },
         "mode": "lines",
         "type": "scatter",
         "x": [
          15,
          15,
          25,
          25
         ],
         "xaxis": "x",
         "y": [
          0,
          1.6348222999207835,
          1.6348222999207835,
          0
         ],
         "yaxis": "y"
        },
        {
         "hoverinfo": "text",
         "marker": {
          "color": "rgb(61,153,112)"
         },
         "mode": "lines",
         "type": "scatter",
         "x": [
          5,
          5,
          20,
          20
         ],
         "xaxis": "x",
         "y": [
          0,
          2.172448530119386,
          2.172448530119386,
          1.6348222999207835
         ],
         "yaxis": "y"
        },
        {
         "hoverinfo": "text",
         "marker": {
          "color": "rgb(61,153,112)"
         },
         "mode": "lines",
         "type": "scatter",
         "x": [
          35,
          35,
          45,
          45
         ],
         "xaxis": "x",
         "y": [
          0,
          2.0171533418999474,
          2.0171533418999474,
          0
         ],
         "yaxis": "y"
        },
        {
         "hoverinfo": "text",
         "marker": {
          "color": "rgb(61,153,112)"
         },
         "mode": "lines",
         "type": "scatter",
         "x": [
          65,
          65,
          75,
          75
         ],
         "xaxis": "x",
         "y": [
          0,
          1.5902333961281467,
          1.5902333961281467,
          0
         ],
         "yaxis": "y"
        },
        {
         "hoverinfo": "text",
         "marker": {
          "color": "rgb(61,153,112)"
         },
         "mode": "lines",
         "type": "scatter",
         "x": [
          55,
          55,
          70,
          70
         ],
         "xaxis": "x",
         "y": [
          0,
          3.087143148720667,
          3.087143148720667,
          1.5902333961281467
         ],
         "yaxis": "y"
        },
        {
         "hoverinfo": "text",
         "marker": {
          "color": "rgb(61,153,112)"
         },
         "mode": "lines",
         "type": "scatter",
         "x": [
          40,
          40,
          62.5,
          62.5
         ],
         "xaxis": "x",
         "y": [
          2.0171533418999474,
          4.400451168539784,
          4.400451168539784,
          3.087143148720667
         ],
         "yaxis": "y"
        },
        {
         "hoverinfo": "text",
         "marker": {
          "color": "rgb(61,153,112)"
         },
         "mode": "lines",
         "type": "scatter",
         "x": [
          12.5,
          12.5,
          51.25,
          51.25
         ],
         "xaxis": "x",
         "y": [
          2.172448530119386,
          5.000906843594925,
          5.000906843594925,
          4.400451168539784
         ],
         "yaxis": "y"
        },
        {
         "hoverinfo": "text",
         "marker": {
          "color": "rgb(255,65,54)"
         },
         "mode": "lines",
         "type": "scatter",
         "x": [
          85,
          85,
          95,
          95
         ],
         "xaxis": "x",
         "y": [
          0,
          1.062575755533862,
          1.062575755533862,
          0
         ],
         "yaxis": "y"
        },
        {
         "hoverinfo": "text",
         "marker": {
          "color": "rgb(255,65,54)"
         },
         "mode": "lines",
         "type": "scatter",
         "x": [
          115,
          115,
          125,
          125
         ],
         "xaxis": "x",
         "y": [
          0,
          0.8769031844923241,
          0.8769031844923241,
          0
         ],
         "yaxis": "y"
        },
        {
         "hoverinfo": "text",
         "marker": {
          "color": "rgb(255,65,54)"
         },
         "mode": "lines",
         "type": "scatter",
         "x": [
          105,
          105,
          120,
          120
         ],
         "xaxis": "x",
         "y": [
          0,
          1.1464931812521457,
          1.1464931812521457,
          0.8769031844923241
         ],
         "yaxis": "y"
        },
        {
         "hoverinfo": "text",
         "marker": {
          "color": "rgb(255,65,54)"
         },
         "mode": "lines",
         "type": "scatter",
         "x": [
          90,
          90,
          112.5,
          112.5
         ],
         "xaxis": "x",
         "y": [
          1.062575755533862,
          1.607445293876076,
          1.607445293876076,
          1.1464931812521457
         ],
         "yaxis": "y"
        },
        {
         "hoverinfo": "text",
         "marker": {
          "color": "rgb(255,65,54)"
         },
         "mode": "lines",
         "type": "scatter",
         "x": [
          135,
          135,
          145,
          145
         ],
         "xaxis": "x",
         "y": [
          0,
          1.5726962376618976,
          1.5726962376618976,
          0
         ],
         "yaxis": "y"
        },
        {
         "hoverinfo": "text",
         "marker": {
          "color": "rgb(255,65,54)"
         },
         "mode": "lines",
         "type": "scatter",
         "x": [
          155,
          155,
          165,
          165
         ],
         "xaxis": "x",
         "y": [
          0,
          0.8362232342758037,
          0.8362232342758037,
          0
         ],
         "yaxis": "y"
        },
        {
         "hoverinfo": "text",
         "marker": {
          "color": "rgb(255,65,54)"
         },
         "mode": "lines",
         "type": "scatter",
         "x": [
          175,
          175,
          185,
          185
         ],
         "xaxis": "x",
         "y": [
          0,
          1.6001491220812758,
          1.6001491220812758,
          0
         ],
         "yaxis": "y"
        },
        {
         "hoverinfo": "text",
         "marker": {
          "color": "rgb(255,65,54)"
         },
         "mode": "lines",
         "type": "scatter",
         "x": [
          160,
          160,
          180,
          180
         ],
         "xaxis": "x",
         "y": [
          0.8362232342758037,
          2.0286377115176517,
          2.0286377115176517,
          1.6001491220812758
         ],
         "yaxis": "y"
        },
        {
         "hoverinfo": "text",
         "marker": {
          "color": "rgb(255,65,54)"
         },
         "mode": "lines",
         "type": "scatter",
         "x": [
          140,
          140,
          170,
          170
         ],
         "xaxis": "x",
         "y": [
          1.5726962376618976,
          2.155654963809121,
          2.155654963809121,
          2.0286377115176517
         ],
         "yaxis": "y"
        },
        {
         "hoverinfo": "text",
         "marker": {
          "color": "rgb(255,65,54)"
         },
         "mode": "lines",
         "type": "scatter",
         "x": [
          101.25,
          101.25,
          155,
          155
         ],
         "xaxis": "x",
         "y": [
          1.607445293876076,
          3.3099197213846785,
          3.3099197213846785,
          2.155654963809121
         ],
         "yaxis": "y"
        },
        {
         "hoverinfo": "text",
         "marker": {
          "color": "rgb(255,65,54)"
         },
         "mode": "lines",
         "type": "scatter",
         "x": [
          215,
          215,
          225,
          225
         ],
         "xaxis": "x",
         "y": [
          0,
          0.47365413943822215,
          0.47365413943822215,
          0
         ],
         "yaxis": "y"
        },
        {
         "hoverinfo": "text",
         "marker": {
          "color": "rgb(255,65,54)"
         },
         "mode": "lines",
         "type": "scatter",
         "x": [
          205,
          205,
          220,
          220
         ],
         "xaxis": "x",
         "y": [
          0,
          0.8015682252888527,
          0.8015682252888527,
          0.47365413943822215
         ],
         "yaxis": "y"
        },
        {
         "hoverinfo": "text",
         "marker": {
          "color": "rgb(255,65,54)"
         },
         "mode": "lines",
         "type": "scatter",
         "x": [
          195,
          195,
          212.5,
          212.5
         ],
         "xaxis": "x",
         "y": [
          0,
          1.1031863400881543,
          1.1031863400881543,
          0.8015682252888527
         ],
         "yaxis": "y"
        },
        {
         "hoverinfo": "text",
         "marker": {
          "color": "rgb(255,65,54)"
         },
         "mode": "lines",
         "type": "scatter",
         "x": [
          245,
          245,
          255,
          255
         ],
         "xaxis": "x",
         "y": [
          0,
          1.2882662257922497,
          1.2882662257922497,
          0
         ],
         "yaxis": "y"
        },
        {
         "hoverinfo": "text",
         "marker": {
          "color": "rgb(255,65,54)"
         },
         "mode": "lines",
         "type": "scatter",
         "x": [
          235,
          235,
          250,
          250
         ],
         "xaxis": "x",
         "y": [
          0,
          1.5508560578907296,
          1.5508560578907296,
          1.2882662257922497
         ],
         "yaxis": "y"
        },
        {
         "hoverinfo": "text",
         "marker": {
          "color": "rgb(255,65,54)"
         },
         "mode": "lines",
         "type": "scatter",
         "x": [
          203.75,
          203.75,
          242.5,
          242.5
         ],
         "xaxis": "x",
         "y": [
          1.1031863400881543,
          1.6645371668541906,
          1.6645371668541906,
          1.5508560578907296
         ],
         "yaxis": "y"
        },
        {
         "hoverinfo": "text",
         "marker": {
          "color": "rgb(255,65,54)"
         },
         "mode": "lines",
         "type": "scatter",
         "x": [
          265,
          265,
          275,
          275
         ],
         "xaxis": "x",
         "y": [
          0,
          0.9736118546992217,
          0.9736118546992217,
          0
         ],
         "yaxis": "y"
        },
        {
         "hoverinfo": "text",
         "marker": {
          "color": "rgb(255,65,54)"
         },
         "mode": "lines",
         "type": "scatter",
         "x": [
          315,
          315,
          325,
          325
         ],
         "xaxis": "x",
         "y": [
          0,
          0.3203329369901581,
          0.3203329369901581,
          0
         ],
         "yaxis": "y"
        },
        {
         "hoverinfo": "text",
         "marker": {
          "color": "rgb(255,65,54)"
         },
         "mode": "lines",
         "type": "scatter",
         "x": [
          305,
          305,
          320,
          320
         ],
         "xaxis": "x",
         "y": [
          0,
          0.6556848931848085,
          0.6556848931848085,
          0.3203329369901581
         ],
         "yaxis": "y"
        },
        {
         "hoverinfo": "text",
         "marker": {
          "color": "rgb(255,65,54)"
         },
         "mode": "lines",
         "type": "scatter",
         "x": [
          295,
          295,
          312.5,
          312.5
         ],
         "xaxis": "x",
         "y": [
          0,
          0.8940926826899782,
          0.8940926826899782,
          0.6556848931848085
         ],
         "yaxis": "y"
        },
        {
         "hoverinfo": "text",
         "marker": {
          "color": "rgb(255,65,54)"
         },
         "mode": "lines",
         "type": "scatter",
         "x": [
          285,
          285,
          303.75,
          303.75
         ],
         "xaxis": "x",
         "y": [
          0,
          0.9338713392199312,
          0.9338713392199312,
          0.8940926826899782
         ],
         "yaxis": "y"
        },
        {
         "hoverinfo": "text",
         "marker": {
          "color": "rgb(255,65,54)"
         },
         "mode": "lines",
         "type": "scatter",
         "x": [
          345,
          345,
          355,
          355
         ],
         "xaxis": "x",
         "y": [
          0,
          0.4715247835934973,
          0.4715247835934973,
          0
         ],
         "yaxis": "y"
        },
        {
         "hoverinfo": "text",
         "marker": {
          "color": "rgb(255,65,54)"
         },
         "mode": "lines",
         "type": "scatter",
         "x": [
          335,
          335,
          350,
          350
         ],
         "xaxis": "x",
         "y": [
          0,
          0.6093227105154587,
          0.6093227105154587,
          0.4715247835934973
         ],
         "yaxis": "y"
        },
        {
         "hoverinfo": "text",
         "marker": {
          "color": "rgb(255,65,54)"
         },
         "mode": "lines",
         "type": "scatter",
         "x": [
          365,
          365,
          375,
          375
         ],
         "xaxis": "x",
         "y": [
          0,
          0.9514620742343279,
          0.9514620742343279,
          0
         ],
         "yaxis": "y"
        },
        {
         "hoverinfo": "text",
         "marker": {
          "color": "rgb(255,65,54)"
         },
         "mode": "lines",
         "type": "scatter",
         "x": [
          342.5,
          342.5,
          370,
          370
         ],
         "xaxis": "x",
         "y": [
          0.6093227105154587,
          1.0982219997210103,
          1.0982219997210103,
          0.9514620742343279
         ],
         "yaxis": "y"
        },
        {
         "hoverinfo": "text",
         "marker": {
          "color": "rgb(255,65,54)"
         },
         "mode": "lines",
         "type": "scatter",
         "x": [
          294.375,
          294.375,
          356.25,
          356.25
         ],
         "xaxis": "x",
         "y": [
          0.9338713392199312,
          1.4343427763598036,
          1.4343427763598036,
          1.0982219997210103
         ],
         "yaxis": "y"
        },
        {
         "hoverinfo": "text",
         "marker": {
          "color": "rgb(255,65,54)"
         },
         "mode": "lines",
         "type": "scatter",
         "x": [
          270,
          270,
          325.3125,
          325.3125
         ],
         "xaxis": "x",
         "y": [
          0.9736118546992217,
          2.0910727852219124,
          2.0910727852219124,
          1.4343427763598036
         ],
         "yaxis": "y"
        },
        {
         "hoverinfo": "text",
         "marker": {
          "color": "rgb(255,65,54)"
         },
         "mode": "lines",
         "type": "scatter",
         "x": [
          223.125,
          223.125,
          297.65625,
          297.65625
         ],
         "xaxis": "x",
         "y": [
          1.6645371668541906,
          2.7618057981147563,
          2.7618057981147563,
          2.0910727852219124
         ],
         "yaxis": "y"
        },
        {
         "hoverinfo": "text",
         "marker": {
          "color": "rgb(255,65,54)"
         },
         "mode": "lines",
         "type": "scatter",
         "x": [
          405,
          405,
          415,
          415
         ],
         "xaxis": "x",
         "y": [
          0,
          0.8256573259197202,
          0.8256573259197202,
          0
         ],
         "yaxis": "y"
        },
        {
         "hoverinfo": "text",
         "marker": {
          "color": "rgb(255,65,54)"
         },
         "mode": "lines",
         "type": "scatter",
         "x": [
          395,
          395,
          410,
          410
         ],
         "xaxis": "x",
         "y": [
          0,
          1.21580866735767,
          1.21580866735767,
          0.8256573259197202
         ],
         "yaxis": "y"
        },
        {
         "hoverinfo": "text",
         "marker": {
          "color": "rgb(255,65,54)"
         },
         "mode": "lines",
         "type": "scatter",
         "x": [
          445,
          445,
          455,
          455
         ],
         "xaxis": "x",
         "y": [
          0,
          0.4324993129849537,
          0.4324993129849537,
          0
         ],
         "yaxis": "y"
        },
        {
         "hoverinfo": "text",
         "marker": {
          "color": "rgb(255,65,54)"
         },
         "mode": "lines",
         "type": "scatter",
         "x": [
          435,
          435,
          450,
          450
         ],
         "xaxis": "x",
         "y": [
          0,
          0.6083349996437617,
          0.6083349996437617,
          0.4324993129849537
         ],
         "yaxis": "y"
        },
        {
         "hoverinfo": "text",
         "marker": {
          "color": "rgb(255,65,54)"
         },
         "mode": "lines",
         "type": "scatter",
         "x": [
          425,
          425,
          442.5,
          442.5
         ],
         "xaxis": "x",
         "y": [
          0,
          1.3019074685434484,
          1.3019074685434484,
          0.6083349996437617
         ],
         "yaxis": "y"
        },
        {
         "hoverinfo": "text",
         "marker": {
          "color": "rgb(255,65,54)"
         },
         "mode": "lines",
         "type": "scatter",
         "x": [
          402.5,
          402.5,
          433.75,
          433.75
         ],
         "xaxis": "x",
         "y": [
          1.21580866735767,
          1.8603610889466018,
          1.8603610889466018,
          1.3019074685434484
         ],
         "yaxis": "y"
        },
        {
         "hoverinfo": "text",
         "marker": {
          "color": "rgb(255,65,54)"
         },
         "mode": "lines",
         "type": "scatter",
         "x": [
          475,
          475,
          485,
          485
         ],
         "xaxis": "x",
         "y": [
          0,
          1.027208958146681,
          1.027208958146681,
          0
         ],
         "yaxis": "y"
        },
        {
         "hoverinfo": "text",
         "marker": {
          "color": "rgb(255,65,54)"
         },
         "mode": "lines",
         "type": "scatter",
         "x": [
          465,
          465,
          480,
          480
         ],
         "xaxis": "x",
         "y": [
          0,
          1.352122707862348,
          1.352122707862348,
          1.027208958146681
         ],
         "yaxis": "y"
        },
        {
         "hoverinfo": "text",
         "marker": {
          "color": "rgb(255,65,54)"
         },
         "mode": "lines",
         "type": "scatter",
         "x": [
          545,
          545,
          555,
          555
         ],
         "xaxis": "x",
         "y": [
          0,
          0.1239396465364362,
          0.1239396465364362,
          0
         ],
         "yaxis": "y"
        },
        {
         "hoverinfo": "text",
         "marker": {
          "color": "rgb(255,65,54)"
         },
         "mode": "lines",
         "type": "scatter",
         "x": [
          535,
          535,
          550,
          550
         ],
         "xaxis": "x",
         "y": [
          0,
          0.13590726666866065,
          0.13590726666866065,
          0.1239396465364362
         ],
         "yaxis": "y"
        },
        {
         "hoverinfo": "text",
         "marker": {
          "color": "rgb(255,65,54)"
         },
         "mode": "lines",
         "type": "scatter",
         "x": [
          525,
          525,
          542.5,
          542.5
         ],
         "xaxis": "x",
         "y": [
          0,
          0.25517342420579586,
          0.25517342420579586,
          0.13590726666866065
         ],
         "yaxis": "y"
        },
        {
         "hoverinfo": "text",
         "marker": {
          "color": "rgb(255,65,54)"
         },
         "mode": "lines",
         "type": "scatter",
         "x": [
          515,
          515,
          533.75,
          533.75
         ],
         "xaxis": "x",
         "y": [
          0,
          0.5447863077413762,
          0.5447863077413762,
          0.25517342420579586
         ],
         "yaxis": "y"
        },
        {
         "hoverinfo": "text",
         "marker": {
          "color": "rgb(255,65,54)"
         },
         "mode": "lines",
         "type": "scatter",
         "x": [
          505,
          505,
          524.375,
          524.375
         ],
         "xaxis": "x",
         "y": [
          0,
          0.7594557047569647,
          0.7594557047569647,
          0.5447863077413762
         ],
         "yaxis": "y"
        },
        {
         "hoverinfo": "text",
         "marker": {
          "color": "rgb(255,65,54)"
         },
         "mode": "lines",
         "type": "scatter",
         "x": [
          615,
          615,
          625,
          625
         ],
         "xaxis": "x",
         "y": [
          0,
          0.10872808606149591,
          0.10872808606149591,
          0
         ],
         "yaxis": "y"
        },
        {
         "hoverinfo": "text",
         "marker": {
          "color": "rgb(255,65,54)"
         },
         "mode": "lines",
         "type": "scatter",
         "x": [
          605,
          605,
          620,
          620
         ],
         "xaxis": "x",
         "y": [
          0,
          0.24863100643992617,
          0.24863100643992617,
          0.10872808606149591
         ],
         "yaxis": "y"
        },
        {
         "hoverinfo": "text",
         "marker": {
          "color": "rgb(255,65,54)"
         },
         "mode": "lines",
         "type": "scatter",
         "x": [
          595,
          595,
          612.5,
          612.5
         ],
         "xaxis": "x",
         "y": [
          0,
          0.3103596504067757,
          0.3103596504067757,
          0.24863100643992617
         ],
         "yaxis": "y"
        },
        {
         "hoverinfo": "text",
         "marker": {
          "color": "rgb(255,65,54)"
         },
         "mode": "lines",
         "type": "scatter",
         "x": [
          585,
          585,
          603.75,
          603.75
         ],
         "xaxis": "x",
         "y": [
          0,
          0.34052289052949625,
          0.34052289052949625,
          0.3103596504067757
         ],
         "yaxis": "y"
        },
        {
         "hoverinfo": "text",
         "marker": {
          "color": "rgb(255,65,54)"
         },
         "mode": "lines",
         "type": "scatter",
         "x": [
          575,
          575,
          594.375,
          594.375
         ],
         "xaxis": "x",
         "y": [
          0,
          0.4580224612154701,
          0.4580224612154701,
          0.34052289052949625
         ],
         "yaxis": "y"
        },
        {
         "hoverinfo": "text",
         "marker": {
          "color": "rgb(255,65,54)"
         },
         "mode": "lines",
         "type": "scatter",
         "x": [
          565,
          565,
          584.6875,
          584.6875
         ],
         "xaxis": "x",
         "y": [
          0,
          0.6328596409716509,
          0.6328596409716509,
          0.4580224612154701
         ],
         "yaxis": "y"
        },
        {
         "hoverinfo": "text",
         "marker": {
          "color": "rgb(255,65,54)"
         },
         "mode": "lines",
         "type": "scatter",
         "x": [
          655,
          655,
          665,
          665
         ],
         "xaxis": "x",
         "y": [
          0,
          0.330122493660732,
          0.330122493660732,
          0
         ],
         "yaxis": "y"
        },
        {
         "hoverinfo": "text",
         "marker": {
          "color": "rgb(255,65,54)"
         },
         "mode": "lines",
         "type": "scatter",
         "x": [
          645,
          645,
          660,
          660
         ],
         "xaxis": "x",
         "y": [
          0,
          0.7305485179375668,
          0.7305485179375668,
          0.330122493660732
         ],
         "yaxis": "y"
        },
        {
         "hoverinfo": "text",
         "marker": {
          "color": "rgb(255,65,54)"
         },
         "mode": "lines",
         "type": "scatter",
         "x": [
          635,
          635,
          652.5,
          652.5
         ],
         "xaxis": "x",
         "y": [
          0,
          0.9038792124938694,
          0.9038792124938694,
          0.7305485179375668
         ],
         "yaxis": "y"
        },
        {
         "hoverinfo": "text",
         "marker": {
          "color": "rgb(255,65,54)"
         },
         "mode": "lines",
         "type": "scatter",
         "x": [
          574.84375,
          574.84375,
          643.75,
          643.75
         ],
         "xaxis": "x",
         "y": [
          0.6328596409716509,
          1.129430703939148,
          1.129430703939148,
          0.9038792124938694
         ],
         "yaxis": "y"
        },
        {
         "hoverinfo": "text",
         "marker": {
          "color": "rgb(255,65,54)"
         },
         "mode": "lines",
         "type": "scatter",
         "x": [
          514.6875,
          514.6875,
          609.296875,
          609.296875
         ],
         "xaxis": "x",
         "y": [
          0.7594557047569647,
          1.2347821691300163,
          1.2347821691300163,
          1.129430703939148
         ],
         "yaxis": "y"
        },
        {
         "hoverinfo": "text",
         "marker": {
          "color": "rgb(255,65,54)"
         },
         "mode": "lines",
         "type": "scatter",
         "x": [
          495,
          495,
          561.9921875,
          561.9921875
         ],
         "xaxis": "x",
         "y": [
          0,
          1.6169388733732888,
          1.6169388733732888,
          1.2347821691300163
         ],
         "yaxis": "y"
        },
        {
         "hoverinfo": "text",
         "marker": {
          "color": "rgb(255,65,54)"
         },
         "mode": "lines",
         "type": "scatter",
         "x": [
          472.5,
          472.5,
          528.49609375,
          528.49609375
         ],
         "xaxis": "x",
         "y": [
          1.352122707862348,
          2.036524424815918,
          2.036524424815918,
          1.6169388733732888
         ],
         "yaxis": "y"
        },
        {
         "hoverinfo": "text",
         "marker": {
          "color": "rgb(255,65,54)"
         },
         "mode": "lines",
         "type": "scatter",
         "x": [
          418.125,
          418.125,
          500.498046875,
          500.498046875
         ],
         "xaxis": "x",
         "y": [
          1.8603610889466018,
          2.5621735847387357,
          2.5621735847387357,
          2.036524424815918
         ],
         "yaxis": "y"
        },
        {
         "hoverinfo": "text",
         "marker": {
          "color": "rgb(255,65,54)"
         },
         "mode": "lines",
         "type": "scatter",
         "x": [
          385,
          385,
          459.3115234375,
          459.3115234375
         ],
         "xaxis": "x",
         "y": [
          0,
          3.0148220420543335,
          3.0148220420543335,
          2.5621735847387357
         ],
         "yaxis": "y"
        },
        {
         "hoverinfo": "text",
         "marker": {
          "color": "rgb(255,65,54)"
         },
         "mode": "lines",
         "type": "scatter",
         "x": [
          260.390625,
          260.390625,
          422.15576171875,
          422.15576171875
         ],
         "xaxis": "x",
         "y": [
          2.7618057981147563,
          4.3143933869238005,
          4.3143933869238005,
          3.0148220420543335
         ],
         "yaxis": "y"
        },
        {
         "hoverinfo": "text",
         "marker": {
          "color": "rgb(255,65,54)"
         },
         "mode": "lines",
         "type": "scatter",
         "x": [
          128.125,
          128.125,
          341.273193359375,
          341.273193359375
         ],
         "xaxis": "x",
         "y": [
          3.3099197213846785,
          4.861010239056859,
          4.861010239056859,
          4.3143933869238005
         ],
         "yaxis": "y"
        },
        {
         "hoverinfo": "text",
         "marker": {
          "color": "rgb(35,205,205)"
         },
         "mode": "lines",
         "type": "scatter",
         "x": [
          705,
          705,
          715,
          715
         ],
         "xaxis": "x",
         "y": [
          0,
          0.8086400230164167,
          0.8086400230164167,
          0
         ],
         "yaxis": "y"
        },
        {
         "hoverinfo": "text",
         "marker": {
          "color": "rgb(35,205,205)"
         },
         "mode": "lines",
         "type": "scatter",
         "x": [
          695,
          695,
          710,
          710
         ],
         "xaxis": "x",
         "y": [
          0,
          1.2870697435665612,
          1.2870697435665612,
          0.8086400230164167
         ],
         "yaxis": "y"
        },
        {
         "hoverinfo": "text",
         "marker": {
          "color": "rgb(35,205,205)"
         },
         "mode": "lines",
         "type": "scatter",
         "x": [
          685,
          685,
          702.5,
          702.5
         ],
         "xaxis": "x",
         "y": [
          0,
          1.588654722308903,
          1.588654722308903,
          1.2870697435665612
         ],
         "yaxis": "y"
        },
        {
         "hoverinfo": "text",
         "marker": {
          "color": "rgb(35,205,205)"
         },
         "mode": "lines",
         "type": "scatter",
         "x": [
          675,
          675,
          693.75,
          693.75
         ],
         "xaxis": "x",
         "y": [
          0,
          1.9471226840298794,
          1.9471226840298794,
          1.588654722308903
         ],
         "yaxis": "y"
        },
        {
         "hoverinfo": "text",
         "marker": {
          "color": "rgb(35,205,205)"
         },
         "mode": "lines",
         "type": "scatter",
         "x": [
          755,
          755,
          765,
          765
         ],
         "xaxis": "x",
         "y": [
          0,
          0.4010036862916853,
          0.4010036862916853,
          0
         ],
         "yaxis": "y"
        },
        {
         "hoverinfo": "text",
         "marker": {
          "color": "rgb(35,205,205)"
         },
         "mode": "lines",
         "type": "scatter",
         "x": [
          745,
          745,
          760,
          760
         ],
         "xaxis": "x",
         "y": [
          0,
          0.6847457794527139,
          0.6847457794527139,
          0.4010036862916853
         ],
         "yaxis": "y"
        },
        {
         "hoverinfo": "text",
         "marker": {
          "color": "rgb(35,205,205)"
         },
         "mode": "lines",
         "type": "scatter",
         "x": [
          735,
          735,
          752.5,
          752.5
         ],
         "xaxis": "x",
         "y": [
          0,
          1.2479633533479373,
          1.2479633533479373,
          0.6847457794527139
         ],
         "yaxis": "y"
        },
        {
         "hoverinfo": "text",
         "marker": {
          "color": "rgb(35,205,205)"
         },
         "mode": "lines",
         "type": "scatter",
         "x": [
          775,
          775,
          785,
          785
         ],
         "xaxis": "x",
         "y": [
          0,
          1.412130302484102,
          1.412130302484102,
          0
         ],
         "yaxis": "y"
        },
        {
         "hoverinfo": "text",
         "marker": {
          "color": "rgb(35,205,205)"
         },
         "mode": "lines",
         "type": "scatter",
         "x": [
          743.75,
          743.75,
          780,
          780
         ],
         "xaxis": "x",
         "y": [
          1.2479633533479373,
          1.8009147414360183,
          1.8009147414360183,
          1.412130302484102
         ],
         "yaxis": "y"
        },
        {
         "hoverinfo": "text",
         "marker": {
          "color": "rgb(35,205,205)"
         },
         "mode": "lines",
         "type": "scatter",
         "x": [
          725,
          725,
          761.875,
          761.875
         ],
         "xaxis": "x",
         "y": [
          0,
          2.5757262292839482,
          2.5757262292839482,
          1.8009147414360183
         ],
         "yaxis": "y"
        },
        {
         "hoverinfo": "text",
         "marker": {
          "color": "rgb(35,205,205)"
         },
         "mode": "lines",
         "type": "scatter",
         "x": [
          684.375,
          684.375,
          743.4375,
          743.4375
         ],
         "xaxis": "x",
         "y": [
          1.9471226840298794,
          2.845134346736344,
          2.845134346736344,
          2.5757262292839482
         ],
         "yaxis": "y"
        },
        {
         "hoverinfo": "text",
         "marker": {
          "color": "rgb(35,205,205)"
         },
         "mode": "lines",
         "type": "scatter",
         "x": [
          805,
          805,
          815,
          815
         ],
         "xaxis": "x",
         "y": [
          0,
          0.9264410510933155,
          0.9264410510933155,
          0
         ],
         "yaxis": "y"
        },
        {
         "hoverinfo": "text",
         "marker": {
          "color": "rgb(35,205,205)"
         },
         "mode": "lines",
         "type": "scatter",
         "x": [
          875,
          875,
          885,
          885
         ],
         "xaxis": "x",
         "y": [
          0,
          0.13729557173289111,
          0.13729557173289111,
          0
         ],
         "yaxis": "y"
        },
        {
         "hoverinfo": "text",
         "marker": {
          "color": "rgb(35,205,205)"
         },
         "mode": "lines",
         "type": "scatter",
         "x": [
          865,
          865,
          880,
          880
         ],
         "xaxis": "x",
         "y": [
          0,
          0.17495097634924864,
          0.17495097634924864,
          0.13729557173289111
         ],
         "yaxis": "y"
        },
        {
         "hoverinfo": "text",
         "marker": {
          "color": "rgb(35,205,205)"
         },
         "mode": "lines",
         "type": "scatter",
         "x": [
          855,
          855,
          872.5,
          872.5
         ],
         "xaxis": "x",
         "y": [
          0,
          0.2315953472643804,
          0.2315953472643804,
          0.17495097634924864
         ],
         "yaxis": "y"
        },
        {
         "hoverinfo": "text",
         "marker": {
          "color": "rgb(35,205,205)"
         },
         "mode": "lines",
         "type": "scatter",
         "x": [
          845,
          845,
          863.75,
          863.75
         ],
         "xaxis": "x",
         "y": [
          0,
          0.5629548743096849,
          0.5629548743096849,
          0.2315953472643804
         ],
         "yaxis": "y"
        },
        {
         "hoverinfo": "text",
         "marker": {
          "color": "rgb(35,205,205)"
         },
         "mode": "lines",
         "type": "scatter",
         "x": [
          835,
          835,
          854.375,
          854.375
         ],
         "xaxis": "x",
         "y": [
          0,
          0.8507335368491594,
          0.8507335368491594,
          0.5629548743096849
         ],
         "yaxis": "y"
        },
        {
         "hoverinfo": "text",
         "marker": {
          "color": "rgb(35,205,205)"
         },
         "mode": "lines",
         "type": "scatter",
         "x": [
          825,
          825,
          844.6875,
          844.6875
         ],
         "xaxis": "x",
         "y": [
          0,
          1.0465669562706594,
          1.0465669562706594,
          0.8507335368491594
         ],
         "yaxis": "y"
        },
        {
         "hoverinfo": "text",
         "marker": {
          "color": "rgb(35,205,205)"
         },
         "mode": "lines",
         "type": "scatter",
         "x": [
          810,
          810,
          834.84375,
          834.84375
         ],
         "xaxis": "x",
         "y": [
          0.9264410510933155,
          1.1627422027307432,
          1.1627422027307432,
          1.0465669562706594
         ],
         "yaxis": "y"
        },
        {
         "hoverinfo": "text",
         "marker": {
          "color": "rgb(35,205,205)"
         },
         "mode": "lines",
         "type": "scatter",
         "x": [
          925,
          925,
          935,
          935
         ],
         "xaxis": "x",
         "y": [
          0,
          0.6785099936792176,
          0.6785099936792176,
          0
         ],
         "yaxis": "y"
        },
        {
         "hoverinfo": "text",
         "marker": {
          "color": "rgb(35,205,205)"
         },
         "mode": "lines",
         "type": "scatter",
         "x": [
          955,
          955,
          965,
          965
         ],
         "xaxis": "x",
         "y": [
          0,
          0.5542752515812555,
          0.5542752515812555,
          0
         ],
         "yaxis": "y"
        },
        {
         "hoverinfo": "text",
         "marker": {
          "color": "rgb(35,205,205)"
         },
         "mode": "lines",
         "type": "scatter",
         "x": [
          945,
          945,
          960,
          960
         ],
         "xaxis": "x",
         "y": [
          0,
          0.7895663379990205,
          0.7895663379990205,
          0.5542752515812555
         ],
         "yaxis": "y"
        },
        {
         "hoverinfo": "text",
         "marker": {
          "color": "rgb(35,205,205)"
         },
         "mode": "lines",
         "type": "scatter",
         "x": [
          930,
          930,
          952.5,
          952.5
         ],
         "xaxis": "x",
         "y": [
          0.6785099936792176,
          1.277014101479904,
          1.277014101479904,
          0.7895663379990205
         ],
         "yaxis": "y"
        },
        {
         "hoverinfo": "text",
         "marker": {
          "color": "rgb(35,205,205)"
         },
         "mode": "lines",
         "type": "scatter",
         "x": [
          915,
          915,
          941.25,
          941.25
         ],
         "xaxis": "x",
         "y": [
          0,
          1.5220055593226465,
          1.5220055593226465,
          1.277014101479904
         ],
         "yaxis": "y"
        },
        {
         "hoverinfo": "text",
         "marker": {
          "color": "rgb(35,205,205)"
         },
         "mode": "lines",
         "type": "scatter",
         "x": [
          905,
          905,
          928.125,
          928.125
         ],
         "xaxis": "x",
         "y": [
          0,
          1.7219257355046713,
          1.7219257355046713,
          1.5220055593226465
         ],
         "yaxis": "y"
        },
        {
         "hoverinfo": "text",
         "marker": {
          "color": "rgb(35,205,205)"
         },
         "mode": "lines",
         "type": "scatter",
         "x": [
          895,
          895,
          916.5625,
          916.5625
         ],
         "xaxis": "x",
         "y": [
          0,
          2.0429773464897436,
          2.0429773464897436,
          1.7219257355046713
         ],
         "yaxis": "y"
        },
        {
         "hoverinfo": "text",
         "marker": {
          "color": "rgb(35,205,205)"
         },
         "mode": "lines",
         "type": "scatter",
         "x": [
          822.421875,
          822.421875,
          905.78125,
          905.78125
         ],
         "xaxis": "x",
         "y": [
          1.1627422027307432,
          2.293396696058748,
          2.293396696058748,
          2.0429773464897436
         ],
         "yaxis": "y"
        },
        {
         "hoverinfo": "text",
         "marker": {
          "color": "rgb(35,205,205)"
         },
         "mode": "lines",
         "type": "scatter",
         "x": [
          795,
          795,
          864.1015625,
          864.1015625
         ],
         "xaxis": "x",
         "y": [
          0,
          2.8597815760374994,
          2.8597815760374994,
          2.293396696058748
         ],
         "yaxis": "y"
        },
        {
         "hoverinfo": "text",
         "marker": {
          "color": "rgb(35,205,205)"
         },
         "mode": "lines",
         "type": "scatter",
         "x": [
          1005,
          1005,
          1015,
          1015
         ],
         "xaxis": "x",
         "y": [
          0,
          0.291132500612128,
          0.291132500612128,
          0
         ],
         "yaxis": "y"
        },
        {
         "hoverinfo": "text",
         "marker": {
          "color": "rgb(35,205,205)"
         },
         "mode": "lines",
         "type": "scatter",
         "x": [
          995,
          995,
          1010,
          1010
         ],
         "xaxis": "x",
         "y": [
          0,
          1.084482073802253,
          1.084482073802253,
          0.291132500612128
         ],
         "yaxis": "y"
        },
        {
         "hoverinfo": "text",
         "marker": {
          "color": "rgb(35,205,205)"
         },
         "mode": "lines",
         "type": "scatter",
         "x": [
          1025,
          1025,
          1035,
          1035
         ],
         "xaxis": "x",
         "y": [
          0,
          1.1246555717169064,
          1.1246555717169064,
          0
         ],
         "yaxis": "y"
        },
        {
         "hoverinfo": "text",
         "marker": {
          "color": "rgb(35,205,205)"
         },
         "mode": "lines",
         "type": "scatter",
         "x": [
          1085,
          1085,
          1095,
          1095
         ],
         "xaxis": "x",
         "y": [
          0,
          0.25826292061729894,
          0.25826292061729894,
          0
         ],
         "yaxis": "y"
        },
        {
         "hoverinfo": "text",
         "marker": {
          "color": "rgb(35,205,205)"
         },
         "mode": "lines",
         "type": "scatter",
         "x": [
          1075,
          1075,
          1090,
          1090
         ],
         "xaxis": "x",
         "y": [
          0,
          0.36275191452364636,
          0.36275191452364636,
          0.25826292061729894
         ],
         "yaxis": "y"
        },
        {
         "hoverinfo": "text",
         "marker": {
          "color": "rgb(35,205,205)"
         },
         "mode": "lines",
         "type": "scatter",
         "x": [
          1065,
          1065,
          1082.5,
          1082.5
         ],
         "xaxis": "x",
         "y": [
          0,
          0.9336398439104784,
          0.9336398439104784,
          0.36275191452364636
         ],
         "yaxis": "y"
        },
        {
         "hoverinfo": "text",
         "marker": {
          "color": "rgb(35,205,205)"
         },
         "mode": "lines",
         "type": "scatter",
         "x": [
          1055,
          1055,
          1073.75,
          1073.75
         ],
         "xaxis": "x",
         "y": [
          0,
          1.315399335346702,
          1.315399335346702,
          0.9336398439104784
         ],
         "yaxis": "y"
        },
        {
         "hoverinfo": "text",
         "marker": {
          "color": "rgb(35,205,205)"
         },
         "mode": "lines",
         "type": "scatter",
         "x": [
          1045,
          1045,
          1064.375,
          1064.375
         ],
         "xaxis": "x",
         "y": [
          0,
          1.4049408503722443,
          1.4049408503722443,
          1.315399335346702
         ],
         "yaxis": "y"
        },
        {
         "hoverinfo": "text",
         "marker": {
          "color": "rgb(35,205,205)"
         },
         "mode": "lines",
         "type": "scatter",
         "x": [
          1030,
          1030,
          1054.6875,
          1054.6875
         ],
         "xaxis": "x",
         "y": [
          1.1246555717169064,
          1.5888238800843124,
          1.5888238800843124,
          1.4049408503722443
         ],
         "yaxis": "y"
        },
        {
         "hoverinfo": "text",
         "marker": {
          "color": "rgb(35,205,205)"
         },
         "mode": "lines",
         "type": "scatter",
         "x": [
          1002.5,
          1002.5,
          1042.34375,
          1042.34375
         ],
         "xaxis": "x",
         "y": [
          1.084482073802253,
          1.7518638353282772,
          1.7518638353282772,
          1.5888238800843124
         ],
         "yaxis": "y"
        },
        {
         "hoverinfo": "text",
         "marker": {
          "color": "rgb(35,205,205)"
         },
         "mode": "lines",
         "type": "scatter",
         "x": [
          1105,
          1105,
          1115,
          1115
         ],
         "xaxis": "x",
         "y": [
          0,
          1.7688165643266283,
          1.7688165643266283,
          0
         ],
         "yaxis": "y"
        },
        {
         "hoverinfo": "text",
         "marker": {
          "color": "rgb(35,205,205)"
         },
         "mode": "lines",
         "type": "scatter",
         "x": [
          1022.421875,
          1022.421875,
          1110,
          1110
         ],
         "xaxis": "x",
         "y": [
          1.7518638353282772,
          2.3257346493806472,
          2.3257346493806472,
          1.7688165643266283
         ],
         "yaxis": "y"
        },
        {
         "hoverinfo": "text",
         "marker": {
          "color": "rgb(35,205,205)"
         },
         "mode": "lines",
         "type": "scatter",
         "x": [
          985,
          985,
          1066.2109375,
          1066.2109375
         ],
         "xaxis": "x",
         "y": [
          0,
          2.73467393400662,
          2.73467393400662,
          2.3257346493806472
         ],
         "yaxis": "y"
        },
        {
         "hoverinfo": "text",
         "marker": {
          "color": "rgb(35,205,205)"
         },
         "mode": "lines",
         "type": "scatter",
         "x": [
          975,
          975,
          1025.60546875,
          1025.60546875
         ],
         "xaxis": "x",
         "y": [
          0,
          3.430327497734827,
          3.430327497734827,
          2.73467393400662
         ],
         "yaxis": "y"
        },
        {
         "hoverinfo": "text",
         "marker": {
          "color": "rgb(35,205,205)"
         },
         "mode": "lines",
         "type": "scatter",
         "x": [
          829.55078125,
          829.55078125,
          1000.302734375,
          1000.302734375
         ],
         "xaxis": "x",
         "y": [
          2.8597815760374994,
          3.9158660659990447,
          3.9158660659990447,
          3.430327497734827
         ],
         "yaxis": "y"
        },
        {
         "hoverinfo": "text",
         "marker": {
          "color": "rgb(35,205,205)"
         },
         "mode": "lines",
         "type": "scatter",
         "x": [
          713.90625,
          713.90625,
          914.9267578125,
          914.9267578125
         ],
         "xaxis": "x",
         "y": [
          2.845134346736344,
          4.328349859458111,
          4.328349859458111,
          3.9158660659990447
         ],
         "yaxis": "y"
        },
        {
         "hoverinfo": "text",
         "marker": {
          "color": "rgb(133,20,75)"
         },
         "mode": "lines",
         "type": "scatter",
         "x": [
          1135,
          1135,
          1145,
          1145
         ],
         "xaxis": "x",
         "y": [
          0,
          0.9472166423690749,
          0.9472166423690749,
          0
         ],
         "yaxis": "y"
        },
        {
         "hoverinfo": "text",
         "marker": {
          "color": "rgb(133,20,75)"
         },
         "mode": "lines",
         "type": "scatter",
         "x": [
          1165,
          1165,
          1175,
          1175
         ],
         "xaxis": "x",
         "y": [
          0,
          0.7171904212330531,
          0.7171904212330531,
          0
         ],
         "yaxis": "y"
        },
        {
         "hoverinfo": "text",
         "marker": {
          "color": "rgb(133,20,75)"
         },
         "mode": "lines",
         "type": "scatter",
         "x": [
          1185,
          1185,
          1195,
          1195
         ],
         "xaxis": "x",
         "y": [
          0,
          0.5123309061105095,
          0.5123309061105095,
          0
         ],
         "yaxis": "y"
        },
        {
         "hoverinfo": "text",
         "marker": {
          "color": "rgb(133,20,75)"
         },
         "mode": "lines",
         "type": "scatter",
         "x": [
          1205,
          1205,
          1215,
          1215
         ],
         "xaxis": "x",
         "y": [
          0,
          0.6181723223139393,
          0.6181723223139393,
          0
         ],
         "yaxis": "y"
        },
        {
         "hoverinfo": "text",
         "marker": {
          "color": "rgb(133,20,75)"
         },
         "mode": "lines",
         "type": "scatter",
         "x": [
          1190,
          1190,
          1210,
          1210
         ],
         "xaxis": "x",
         "y": [
          0.5123309061105095,
          0.7980762137196117,
          0.7980762137196117,
          0.6181723223139393
         ],
         "yaxis": "y"
        },
        {
         "hoverinfo": "text",
         "marker": {
          "color": "rgb(133,20,75)"
         },
         "mode": "lines",
         "type": "scatter",
         "x": [
          1170,
          1170,
          1200,
          1200
         ],
         "xaxis": "x",
         "y": [
          0.7171904212330531,
          1.0477146199606455,
          1.0477146199606455,
          0.7980762137196117
         ],
         "yaxis": "y"
        },
        {
         "hoverinfo": "text",
         "marker": {
          "color": "rgb(133,20,75)"
         },
         "mode": "lines",
         "type": "scatter",
         "x": [
          1155,
          1155,
          1185,
          1185
         ],
         "xaxis": "x",
         "y": [
          0,
          1.2841887849808005,
          1.2841887849808005,
          1.0477146199606455
         ],
         "yaxis": "y"
        },
        {
         "hoverinfo": "text",
         "marker": {
          "color": "rgb(133,20,75)"
         },
         "mode": "lines",
         "type": "scatter",
         "x": [
          1140,
          1140,
          1170,
          1170
         ],
         "xaxis": "x",
         "y": [
          0.9472166423690749,
          1.557586300845052,
          1.557586300845052,
          1.2841887849808005
         ],
         "yaxis": "y"
        },
        {
         "hoverinfo": "text",
         "marker": {
          "color": "rgb(133,20,75)"
         },
         "mode": "lines",
         "type": "scatter",
         "x": [
          1225,
          1225,
          1235,
          1235
         ],
         "xaxis": "x",
         "y": [
          0,
          0.8247365350176993,
          0.8247365350176993,
          0
         ],
         "yaxis": "y"
        },
        {
         "hoverinfo": "text",
         "marker": {
          "color": "rgb(133,20,75)"
         },
         "mode": "lines",
         "type": "scatter",
         "x": [
          1275,
          1275,
          1285,
          1285
         ],
         "xaxis": "x",
         "y": [
          0,
          0.5759731982906122,
          0.5759731982906122,
          0
         ],
         "yaxis": "y"
        },
        {
         "hoverinfo": "text",
         "marker": {
          "color": "rgb(133,20,75)"
         },
         "mode": "lines",
         "type": "scatter",
         "x": [
          1265,
          1265,
          1280,
          1280
         ],
         "xaxis": "x",
         "y": [
          0,
          0.640343153259477,
          0.640343153259477,
          0.5759731982906122
         ],
         "yaxis": "y"
        },
        {
         "hoverinfo": "text",
         "marker": {
          "color": "rgb(133,20,75)"
         },
         "mode": "lines",
         "type": "scatter",
         "x": [
          1255,
          1255,
          1272.5,
          1272.5
         ],
         "xaxis": "x",
         "y": [
          0,
          1.0500933727300912,
          1.0500933727300912,
          0.640343153259477
         ],
         "yaxis": "y"
        },
        {
         "hoverinfo": "text",
         "marker": {
          "color": "rgb(133,20,75)"
         },
         "mode": "lines",
         "type": "scatter",
         "x": [
          1245,
          1245,
          1263.75,
          1263.75
         ],
         "xaxis": "x",
         "y": [
          0,
          1.3806881445257053,
          1.3806881445257053,
          1.0500933727300912
         ],
         "yaxis": "y"
        },
        {
         "hoverinfo": "text",
         "marker": {
          "color": "rgb(133,20,75)"
         },
         "mode": "lines",
         "type": "scatter",
         "x": [
          1295,
          1295,
          1305,
          1305
         ],
         "xaxis": "x",
         "y": [
          0,
          1.124180410621597,
          1.124180410621597,
          0
         ],
         "yaxis": "y"
        },
        {
         "hoverinfo": "text",
         "marker": {
          "color": "rgb(133,20,75)"
         },
         "mode": "lines",
         "type": "scatter",
         "x": [
          1335,
          1335,
          1345,
          1345
         ],
         "xaxis": "x",
         "y": [
          0,
          0.4268164142342821,
          0.4268164142342821,
          0
         ],
         "yaxis": "y"
        },
        {
         "hoverinfo": "text",
         "marker": {
          "color": "rgb(133,20,75)"
         },
         "mode": "lines",
         "type": "scatter",
         "x": [
          1355,
          1355,
          1365,
          1365
         ],
         "xaxis": "x",
         "y": [
          0,
          0.503100267264685,
          0.503100267264685,
          0
         ],
         "yaxis": "y"
        },
        {
         "hoverinfo": "text",
         "marker": {
          "color": "rgb(133,20,75)"
         },
         "mode": "lines",
         "type": "scatter",
         "x": [
          1340,
          1340,
          1360,
          1360
         ],
         "xaxis": "x",
         "y": [
          0.4268164142342821,
          0.6126726759108446,
          0.6126726759108446,
          0.503100267264685
         ],
         "yaxis": "y"
        },
        {
         "hoverinfo": "text",
         "marker": {
          "color": "rgb(133,20,75)"
         },
         "mode": "lines",
         "type": "scatter",
         "x": [
          1325,
          1325,
          1350,
          1350
         ],
         "xaxis": "x",
         "y": [
          0,
          0.7024184313556522,
          0.7024184313556522,
          0.6126726759108446
         ],
         "yaxis": "y"
        },
        {
         "hoverinfo": "text",
         "marker": {
          "color": "rgb(133,20,75)"
         },
         "mode": "lines",
         "type": "scatter",
         "x": [
          1385,
          1385,
          1395,
          1395
         ],
         "xaxis": "x",
         "y": [
          0,
          0.4764533136657125,
          0.4764533136657125,
          0
         ],
         "yaxis": "y"
        },
        {
         "hoverinfo": "text",
         "marker": {
          "color": "rgb(133,20,75)"
         },
         "mode": "lines",
         "type": "scatter",
         "x": [
          1375,
          1375,
          1390,
          1390
         ],
         "xaxis": "x",
         "y": [
          0,
          0.7376346119358557,
          0.7376346119358557,
          0.4764533136657125
         ],
         "yaxis": "y"
        },
        {
         "hoverinfo": "text",
         "marker": {
          "color": "rgb(133,20,75)"
         },
         "mode": "lines",
         "type": "scatter",
         "x": [
          1337.5,
          1337.5,
          1382.5,
          1382.5
         ],
         "xaxis": "x",
         "y": [
          0.7024184313556522,
          0.861561551516474,
          0.861561551516474,
          0.7376346119358557
         ],
         "yaxis": "y"
        },
        {
         "hoverinfo": "text",
         "marker": {
          "color": "rgb(133,20,75)"
         },
         "mode": "lines",
         "type": "scatter",
         "x": [
          1315,
          1315,
          1360,
          1360
         ],
         "xaxis": "x",
         "y": [
          0,
          1.1489716626442634,
          1.1489716626442634,
          0.861561551516474
         ],
         "yaxis": "y"
        },
        {
         "hoverinfo": "text",
         "marker": {
          "color": "rgb(133,20,75)"
         },
         "mode": "lines",
         "type": "scatter",
         "x": [
          1300,
          1300,
          1337.5,
          1337.5
         ],
         "xaxis": "x",
         "y": [
          1.124180410621597,
          1.405690543438375,
          1.405690543438375,
          1.1489716626442634
         ],
         "yaxis": "y"
        },
        {
         "hoverinfo": "text",
         "marker": {
          "color": "rgb(133,20,75)"
         },
         "mode": "lines",
         "type": "scatter",
         "x": [
          1254.375,
          1254.375,
          1318.75,
          1318.75
         ],
         "xaxis": "x",
         "y": [
          1.3806881445257053,
          1.5647054607823747,
          1.5647054607823747,
          1.405690543438375
         ],
         "yaxis": "y"
        },
        {
         "hoverinfo": "text",
         "marker": {
          "color": "rgb(133,20,75)"
         },
         "mode": "lines",
         "type": "scatter",
         "x": [
          1230,
          1230,
          1286.5625,
          1286.5625
         ],
         "xaxis": "x",
         "y": [
          0.8247365350176993,
          1.7485228162426067,
          1.7485228162426067,
          1.5647054607823747
         ],
         "yaxis": "y"
        },
        {
         "hoverinfo": "text",
         "marker": {
          "color": "rgb(133,20,75)"
         },
         "mode": "lines",
         "type": "scatter",
         "x": [
          1155,
          1155,
          1258.28125,
          1258.28125
         ],
         "xaxis": "x",
         "y": [
          1.557586300845052,
          1.7883481622652795,
          1.7883481622652795,
          1.7485228162426067
         ],
         "yaxis": "y"
        },
        {
         "hoverinfo": "text",
         "marker": {
          "color": "rgb(133,20,75)"
         },
         "mode": "lines",
         "type": "scatter",
         "x": [
          1125,
          1125,
          1206.640625,
          1206.640625
         ],
         "xaxis": "x",
         "y": [
          0,
          2.0897999924787616,
          2.0897999924787616,
          1.7883481622652795
         ],
         "yaxis": "y"
        },
        {
         "hoverinfo": "text",
         "marker": {
          "color": "rgb(133,20,75)"
         },
         "mode": "lines",
         "type": "scatter",
         "x": [
          1425,
          1425,
          1435,
          1435
         ],
         "xaxis": "x",
         "y": [
          0,
          0.5738280482366581,
          0.5738280482366581,
          0
         ],
         "yaxis": "y"
        },
        {
         "hoverinfo": "text",
         "marker": {
          "color": "rgb(133,20,75)"
         },
         "mode": "lines",
         "type": "scatter",
         "x": [
          1455,
          1455,
          1465,
          1465
         ],
         "xaxis": "x",
         "y": [
          0,
          0.36746809124276864,
          0.36746809124276864,
          0
         ],
         "yaxis": "y"
        },
        {
         "hoverinfo": "text",
         "marker": {
          "color": "rgb(133,20,75)"
         },
         "mode": "lines",
         "type": "scatter",
         "x": [
          1495,
          1495,
          1505,
          1505
         ],
         "xaxis": "x",
         "y": [
          0,
          0.3258950690792139,
          0.3258950690792139,
          0
         ],
         "yaxis": "y"
        },
        {
         "hoverinfo": "text",
         "marker": {
          "color": "rgb(133,20,75)"
         },
         "mode": "lines",
         "type": "scatter",
         "x": [
          1485,
          1485,
          1500,
          1500
         ],
         "xaxis": "x",
         "y": [
          0,
          0.3631647006025561,
          0.3631647006025561,
          0.3258950690792139
         ],
         "yaxis": "y"
        },
        {
         "hoverinfo": "text",
         "marker": {
          "color": "rgb(133,20,75)"
         },
         "mode": "lines",
         "type": "scatter",
         "x": [
          1475,
          1475,
          1492.5,
          1492.5
         ],
         "xaxis": "x",
         "y": [
          0,
          0.42221518887062254,
          0.42221518887062254,
          0.3631647006025561
         ],
         "yaxis": "y"
        },
        {
         "hoverinfo": "text",
         "marker": {
          "color": "rgb(133,20,75)"
         },
         "mode": "lines",
         "type": "scatter",
         "x": [
          1460,
          1460,
          1483.75,
          1483.75
         ],
         "xaxis": "x",
         "y": [
          0.36746809124276864,
          0.5386576706932094,
          0.5386576706932094,
          0.42221518887062254
         ],
         "yaxis": "y"
        },
        {
         "hoverinfo": "text",
         "marker": {
          "color": "rgb(133,20,75)"
         },
         "mode": "lines",
         "type": "scatter",
         "x": [
          1445,
          1445,
          1471.875,
          1471.875
         ],
         "xaxis": "x",
         "y": [
          0,
          0.701108478065463,
          0.701108478065463,
          0.5386576706932094
         ],
         "yaxis": "y"
        },
        {
         "hoverinfo": "text",
         "marker": {
          "color": "rgb(133,20,75)"
         },
         "mode": "lines",
         "type": "scatter",
         "x": [
          1430,
          1430,
          1458.4375,
          1458.4375
         ],
         "xaxis": "x",
         "y": [
          0.5738280482366581,
          0.8977653494054177,
          0.8977653494054177,
          0.701108478065463
         ],
         "yaxis": "y"
        },
        {
         "hoverinfo": "text",
         "marker": {
          "color": "rgb(133,20,75)"
         },
         "mode": "lines",
         "type": "scatter",
         "x": [
          1415,
          1415,
          1444.21875,
          1444.21875
         ],
         "xaxis": "x",
         "y": [
          0,
          0.980948994126785,
          0.980948994126785,
          0.8977653494054177
         ],
         "yaxis": "y"
        },
        {
         "hoverinfo": "text",
         "marker": {
          "color": "rgb(133,20,75)"
         },
         "mode": "lines",
         "type": "scatter",
         "x": [
          1405,
          1405,
          1429.609375,
          1429.609375
         ],
         "xaxis": "x",
         "y": [
          0,
          2.2473847309534145,
          2.2473847309534145,
          0.980948994126785
         ],
         "yaxis": "y"
        },
        {
         "hoverinfo": "text",
         "marker": {
          "color": "rgb(133,20,75)"
         },
         "mode": "lines",
         "type": "scatter",
         "x": [
          1165.8203125,
          1165.8203125,
          1417.3046875,
          1417.3046875
         ],
         "xaxis": "x",
         "y": [
          2.0897999924787616,
          2.9514277556055313,
          2.9514277556055313,
          2.2473847309534145
         ],
         "yaxis": "y"
        },
        {
         "hoverinfo": "text",
         "marker": {
          "color": "rgb(133,20,75)"
         },
         "mode": "lines",
         "type": "scatter",
         "x": [
          1545,
          1545,
          1555,
          1555
         ],
         "xaxis": "x",
         "y": [
          0,
          1.0050481144319425,
          1.0050481144319425,
          0
         ],
         "yaxis": "y"
        },
        {
         "hoverinfo": "text",
         "marker": {
          "color": "rgb(133,20,75)"
         },
         "mode": "lines",
         "type": "scatter",
         "x": [
          1535,
          1535,
          1550,
          1550
         ],
         "xaxis": "x",
         "y": [
          0,
          1.2778189534828512,
          1.2778189534828512,
          1.0050481144319425
         ],
         "yaxis": "y"
        },
        {
         "hoverinfo": "text",
         "marker": {
          "color": "rgb(133,20,75)"
         },
         "mode": "lines",
         "type": "scatter",
         "x": [
          1525,
          1525,
          1542.5,
          1542.5
         ],
         "xaxis": "x",
         "y": [
          0,
          1.704463932411568,
          1.704463932411568,
          1.2778189534828512
         ],
         "yaxis": "y"
        },
        {
         "hoverinfo": "text",
         "marker": {
          "color": "rgb(133,20,75)"
         },
         "mode": "lines",
         "type": "scatter",
         "x": [
          1515,
          1515,
          1533.75,
          1533.75
         ],
         "xaxis": "x",
         "y": [
          0,
          1.8578059976279966,
          1.8578059976279966,
          1.704463932411568
         ],
         "yaxis": "y"
        },
        {
         "hoverinfo": "text",
         "marker": {
          "color": "rgb(133,20,75)"
         },
         "mode": "lines",
         "type": "scatter",
         "x": [
          1565,
          1565,
          1575,
          1575
         ],
         "xaxis": "x",
         "y": [
          0,
          1.5134973498930375,
          1.5134973498930375,
          0
         ],
         "yaxis": "y"
        },
        {
         "hoverinfo": "text",
         "marker": {
          "color": "rgb(133,20,75)"
         },
         "mode": "lines",
         "type": "scatter",
         "x": [
          1585,
          1585,
          1595,
          1595
         ],
         "xaxis": "x",
         "y": [
          0,
          1.3130159912555963,
          1.3130159912555963,
          0
         ],
         "yaxis": "y"
        },
        {
         "hoverinfo": "text",
         "marker": {
          "color": "rgb(133,20,75)"
         },
         "mode": "lines",
         "type": "scatter",
         "x": [
          1605,
          1605,
          1615,
          1615
         ],
         "xaxis": "x",
         "y": [
          0,
          0.8953358279479795,
          0.8953358279479795,
          0
         ],
         "yaxis": "y"
        },
        {
         "hoverinfo": "text",
         "marker": {
          "color": "rgb(133,20,75)"
         },
         "mode": "lines",
         "type": "scatter",
         "x": [
          1635,
          1635,
          1645,
          1645
         ],
         "xaxis": "x",
         "y": [
          0,
          0.9594901238442005,
          0.9594901238442005,
          0
         ],
         "yaxis": "y"
        },
        {
         "hoverinfo": "text",
         "marker": {
          "color": "rgb(133,20,75)"
         },
         "mode": "lines",
         "type": "scatter",
         "x": [
          1625,
          1625,
          1640,
          1640
         ],
         "xaxis": "x",
         "y": [
          0,
          1.1124403350867766,
          1.1124403350867766,
          0.9594901238442005
         ],
         "yaxis": "y"
        },
        {
         "hoverinfo": "text",
         "marker": {
          "color": "rgb(133,20,75)"
         },
         "mode": "lines",
         "type": "scatter",
         "x": [
          1610,
          1610,
          1632.5,
          1632.5
         ],
         "xaxis": "x",
         "y": [
          0.8953358279479795,
          1.1460080102218144,
          1.1460080102218144,
          1.1124403350867766
         ],
         "yaxis": "y"
        },
        {
         "hoverinfo": "text",
         "marker": {
          "color": "rgb(133,20,75)"
         },
         "mode": "lines",
         "type": "scatter",
         "x": [
          1655,
          1655,
          1665,
          1665
         ],
         "xaxis": "x",
         "y": [
          0,
          0.9280566944840736,
          0.9280566944840736,
          0
         ],
         "yaxis": "y"
        },
        {
         "hoverinfo": "text",
         "marker": {
          "color": "rgb(133,20,75)"
         },
         "mode": "lines",
         "type": "scatter",
         "x": [
          1675,
          1675,
          1685,
          1685
         ],
         "xaxis": "x",
         "y": [
          0,
          1.1147053921907586,
          1.1147053921907586,
          0
         ],
         "yaxis": "y"
        },
        {
         "hoverinfo": "text",
         "marker": {
          "color": "rgb(133,20,75)"
         },
         "mode": "lines",
         "type": "scatter",
         "x": [
          1660,
          1660,
          1680,
          1680
         ],
         "xaxis": "x",
         "y": [
          0.9280566944840736,
          1.1929677856187777,
          1.1929677856187777,
          1.1147053921907586
         ],
         "yaxis": "y"
        },
        {
         "hoverinfo": "text",
         "marker": {
          "color": "rgb(133,20,75)"
         },
         "mode": "lines",
         "type": "scatter",
         "x": [
          1621.25,
          1621.25,
          1670,
          1670
         ],
         "xaxis": "x",
         "y": [
          1.1460080102218144,
          1.336185070684337,
          1.336185070684337,
          1.1929677856187777
         ],
         "yaxis": "y"
        },
        {
         "hoverinfo": "text",
         "marker": {
          "color": "rgb(133,20,75)"
         },
         "mode": "lines",
         "type": "scatter",
         "x": [
          1590,
          1590,
          1645.625,
          1645.625
         ],
         "xaxis": "x",
         "y": [
          1.3130159912555963,
          1.4725231832229908,
          1.4725231832229908,
          1.336185070684337
         ],
         "yaxis": "y"
        },
        {
         "hoverinfo": "text",
         "marker": {
          "color": "rgb(133,20,75)"
         },
         "mode": "lines",
         "type": "scatter",
         "x": [
          1695,
          1695,
          1705,
          1705
         ],
         "xaxis": "x",
         "y": [
          0,
          1.2194136954483168,
          1.2194136954483168,
          0
         ],
         "yaxis": "y"
        },
        {
         "hoverinfo": "text",
         "marker": {
          "color": "rgb(133,20,75)"
         },
         "mode": "lines",
         "type": "scatter",
         "x": [
          1745,
          1745,
          1755,
          1755
         ],
         "xaxis": "x",
         "y": [
          0,
          0.46241195921671313,
          0.46241195921671313,
          0
         ],
         "yaxis": "y"
        },
        {
         "hoverinfo": "text",
         "marker": {
          "color": "rgb(133,20,75)"
         },
         "mode": "lines",
         "type": "scatter",
         "x": [
          1735,
          1735,
          1750,
          1750
         ],
         "xaxis": "x",
         "y": [
          0,
          0.7072449298263318,
          0.7072449298263318,
          0.46241195921671313
         ],
         "yaxis": "y"
        },
        {
         "hoverinfo": "text",
         "marker": {
          "color": "rgb(133,20,75)"
         },
         "mode": "lines",
         "type": "scatter",
         "x": [
          1725,
          1725,
          1742.5,
          1742.5
         ],
         "xaxis": "x",
         "y": [
          0,
          0.9811448889459967,
          0.9811448889459967,
          0.7072449298263318
         ],
         "yaxis": "y"
        },
        {
         "hoverinfo": "text",
         "marker": {
          "color": "rgb(133,20,75)"
         },
         "mode": "lines",
         "type": "scatter",
         "x": [
          1715,
          1715,
          1733.75,
          1733.75
         ],
         "xaxis": "x",
         "y": [
          0,
          1.0372847053842713,
          1.0372847053842713,
          0.9811448889459967
         ],
         "yaxis": "y"
        },
        {
         "hoverinfo": "text",
         "marker": {
          "color": "rgb(133,20,75)"
         },
         "mode": "lines",
         "type": "scatter",
         "x": [
          1775,
          1775,
          1785,
          1785
         ],
         "xaxis": "x",
         "y": [
          0,
          0.675842053144635,
          0.675842053144635,
          0
         ],
         "yaxis": "y"
        },
        {
         "hoverinfo": "text",
         "marker": {
          "color": "rgb(133,20,75)"
         },
         "mode": "lines",
         "type": "scatter",
         "x": [
          1765,
          1765,
          1780,
          1780
         ],
         "xaxis": "x",
         "y": [
          0,
          0.7052434135660876,
          0.7052434135660876,
          0.675842053144635
         ],
         "yaxis": "y"
        },
        {
         "hoverinfo": "text",
         "marker": {
          "color": "rgb(133,20,75)"
         },
         "mode": "lines",
         "type": "scatter",
         "x": [
          1825,
          1825,
          1835,
          1835
         ],
         "xaxis": "x",
         "y": [
          0,
          0.5793110404025077,
          0.5793110404025077,
          0
         ],
         "yaxis": "y"
        },
        {
         "hoverinfo": "text",
         "marker": {
          "color": "rgb(133,20,75)"
         },
         "mode": "lines",
         "type": "scatter",
         "x": [
          1815,
          1815,
          1830,
          1830
         ],
         "xaxis": "x",
         "y": [
          0,
          0.7252152359002728,
          0.7252152359002728,
          0.5793110404025077
         ],
         "yaxis": "y"
        },
        {
         "hoverinfo": "text",
         "marker": {
          "color": "rgb(133,20,75)"
         },
         "mode": "lines",
         "type": "scatter",
         "x": [
          1805,
          1805,
          1822.5,
          1822.5
         ],
         "xaxis": "x",
         "y": [
          0,
          0.9077741506980866,
          0.9077741506980866,
          0.7252152359002728
         ],
         "yaxis": "y"
        },
        {
         "hoverinfo": "text",
         "marker": {
          "color": "rgb(133,20,75)"
         },
         "mode": "lines",
         "type": "scatter",
         "x": [
          1795,
          1795,
          1813.75,
          1813.75
         ],
         "xaxis": "x",
         "y": [
          0,
          1.0302402760430887,
          1.0302402760430887,
          0.9077741506980866
         ],
         "yaxis": "y"
        },
        {
         "hoverinfo": "text",
         "marker": {
          "color": "rgb(133,20,75)"
         },
         "mode": "lines",
         "type": "scatter",
         "x": [
          1772.5,
          1772.5,
          1804.375,
          1804.375
         ],
         "xaxis": "x",
         "y": [
          0.7052434135660876,
          1.136209208744486,
          1.136209208744486,
          1.0302402760430887
         ],
         "yaxis": "y"
        },
        {
         "hoverinfo": "text",
         "marker": {
          "color": "rgb(133,20,75)"
         },
         "mode": "lines",
         "type": "scatter",
         "x": [
          1724.375,
          1724.375,
          1788.4375,
          1788.4375
         ],
         "xaxis": "x",
         "y": [
          1.0372847053842713,
          1.439237783350233,
          1.439237783350233,
          1.136209208744486
         ],
         "yaxis": "y"
        },
        {
         "hoverinfo": "text",
         "marker": {
          "color": "rgb(133,20,75)"
         },
         "mode": "lines",
         "type": "scatter",
         "x": [
          1700,
          1700,
          1756.40625,
          1756.40625
         ],
         "xaxis": "x",
         "y": [
          1.2194136954483168,
          1.5910522385178207,
          1.5910522385178207,
          1.439237783350233
         ],
         "yaxis": "y"
        },
        {
         "hoverinfo": "text",
         "marker": {
          "color": "rgb(133,20,75)"
         },
         "mode": "lines",
         "type": "scatter",
         "x": [
          1617.8125,
          1617.8125,
          1728.203125,
          1728.203125
         ],
         "xaxis": "x",
         "y": [
          1.4725231832229908,
          1.8974199584107434,
          1.8974199584107434,
          1.5910522385178207
         ],
         "yaxis": "y"
        },
        {
         "hoverinfo": "text",
         "marker": {
          "color": "rgb(133,20,75)"
         },
         "mode": "lines",
         "type": "scatter",
         "x": [
          1570,
          1570,
          1673.0078125,
          1673.0078125
         ],
         "xaxis": "x",
         "y": [
          1.5134973498930375,
          2.110193112521661,
          2.110193112521661,
          1.8974199584107434
         ],
         "yaxis": "y"
        },
        {
         "hoverinfo": "text",
         "marker": {
          "color": "rgb(133,20,75)"
         },
         "mode": "lines",
         "type": "scatter",
         "x": [
          1524.375,
          1524.375,
          1621.50390625,
          1621.50390625
         ],
         "xaxis": "x",
         "y": [
          1.8578059976279966,
          2.3582422748797565,
          2.3582422748797565,
          2.110193112521661
         ],
         "yaxis": "y"
        },
        {
         "hoverinfo": "text",
         "marker": {
          "color": "rgb(133,20,75)"
         },
         "mode": "lines",
         "type": "scatter",
         "x": [
          1865,
          1865,
          1875,
          1875
         ],
         "xaxis": "x",
         "y": [
          0,
          0.5455947935076166,
          0.5455947935076166,
          0
         ],
         "yaxis": "y"
        },
        {
         "hoverinfo": "text",
         "marker": {
          "color": "rgb(133,20,75)"
         },
         "mode": "lines",
         "type": "scatter",
         "x": [
          1855,
          1855,
          1870,
          1870
         ],
         "xaxis": "x",
         "y": [
          0,
          1.140007546955612,
          1.140007546955612,
          0.5455947935076166
         ],
         "yaxis": "y"
        },
        {
         "hoverinfo": "text",
         "marker": {
          "color": "rgb(133,20,75)"
         },
         "mode": "lines",
         "type": "scatter",
         "x": [
          1845,
          1845,
          1862.5,
          1862.5
         ],
         "xaxis": "x",
         "y": [
          0,
          1.536561711271489,
          1.536561711271489,
          1.140007546955612
         ],
         "yaxis": "y"
        },
        {
         "hoverinfo": "text",
         "marker": {
          "color": "rgb(133,20,75)"
         },
         "mode": "lines",
         "type": "scatter",
         "x": [
          1885,
          1885,
          1895,
          1895
         ],
         "xaxis": "x",
         "y": [
          0,
          0.998932617792837,
          0.998932617792837,
          0
         ],
         "yaxis": "y"
        },
        {
         "hoverinfo": "text",
         "marker": {
          "color": "rgb(133,20,75)"
         },
         "mode": "lines",
         "type": "scatter",
         "x": [
          1925,
          1925,
          1935,
          1935
         ],
         "xaxis": "x",
         "y": [
          0,
          0.6962311741830545,
          0.6962311741830545,
          0
         ],
         "yaxis": "y"
        },
        {
         "hoverinfo": "text",
         "marker": {
          "color": "rgb(133,20,75)"
         },
         "mode": "lines",
         "type": "scatter",
         "x": [
          1915,
          1915,
          1930,
          1930
         ],
         "xaxis": "x",
         "y": [
          0,
          0.8562301894151102,
          0.8562301894151102,
          0.6962311741830545
         ],
         "yaxis": "y"
        },
        {
         "hoverinfo": "text",
         "marker": {
          "color": "rgb(133,20,75)"
         },
         "mode": "lines",
         "type": "scatter",
         "x": [
          1905,
          1905,
          1922.5,
          1922.5
         ],
         "xaxis": "x",
         "y": [
          0,
          1.249087543232558,
          1.249087543232558,
          0.8562301894151102
         ],
         "yaxis": "y"
        },
        {
         "hoverinfo": "text",
         "marker": {
          "color": "rgb(133,20,75)"
         },
         "mode": "lines",
         "type": "scatter",
         "x": [
          1890,
          1890,
          1913.75,
          1913.75
         ],
         "xaxis": "x",
         "y": [
          0.998932617792837,
          2.0885090324661126,
          2.0885090324661126,
          1.249087543232558
         ],
         "yaxis": "y"
        },
        {
         "hoverinfo": "text",
         "marker": {
          "color": "rgb(133,20,75)"
         },
         "mode": "lines",
         "type": "scatter",
         "x": [
          1853.75,
          1853.75,
          1901.875,
          1901.875
         ],
         "xaxis": "x",
         "y": [
          1.536561711271489,
          2.4570403300798604,
          2.4570403300798604,
          2.0885090324661126
         ],
         "yaxis": "y"
        },
        {
         "hoverinfo": "text",
         "marker": {
          "color": "rgb(133,20,75)"
         },
         "mode": "lines",
         "type": "scatter",
         "x": [
          1572.939453125,
          1572.939453125,
          1877.8125,
          1877.8125
         ],
         "xaxis": "x",
         "y": [
          2.3582422748797565,
          3.299486446976151,
          3.299486446976151,
          2.4570403300798604
         ],
         "yaxis": "y"
        },
        {
         "hoverinfo": "text",
         "marker": {
          "color": "rgb(133,20,75)"
         },
         "mode": "lines",
         "type": "scatter",
         "x": [
          1291.5625,
          1291.5625,
          1725.3759765625,
          1725.3759765625
         ],
         "xaxis": "x",
         "y": [
          2.9514277556055313,
          3.3950603989386128,
          3.3950603989386128,
          3.299486446976151
         ],
         "yaxis": "y"
        },
        {
         "hoverinfo": "text",
         "marker": {
          "color": "rgb(133,20,75)"
         },
         "mode": "lines",
         "type": "scatter",
         "x": [
          1945,
          1945,
          1955,
          1955
         ],
         "xaxis": "x",
         "y": [
          0,
          2.1739034111464273,
          2.1739034111464273,
          0
         ],
         "yaxis": "y"
        },
        {
         "hoverinfo": "text",
         "marker": {
          "color": "rgb(133,20,75)"
         },
         "mode": "lines",
         "type": "scatter",
         "x": [
          1975,
          1975,
          1985,
          1985
         ],
         "xaxis": "x",
         "y": [
          0,
          2.2323136611519097,
          2.2323136611519097,
          0
         ],
         "yaxis": "y"
        },
        {
         "hoverinfo": "text",
         "marker": {
          "color": "rgb(133,20,75)"
         },
         "mode": "lines",
         "type": "scatter",
         "x": [
          1965,
          1965,
          1980,
          1980
         ],
         "xaxis": "x",
         "y": [
          0,
          2.6791155207511923,
          2.6791155207511923,
          2.2323136611519097
         ],
         "yaxis": "y"
        },
        {
         "hoverinfo": "text",
         "marker": {
          "color": "rgb(133,20,75)"
         },
         "mode": "lines",
         "type": "scatter",
         "x": [
          1950,
          1950,
          1972.5,
          1972.5
         ],
         "xaxis": "x",
         "y": [
          2.1739034111464273,
          3.5562236244409573,
          3.5562236244409573,
          2.6791155207511923
         ],
         "yaxis": "y"
        },
        {
         "hoverinfo": "text",
         "marker": {
          "color": "rgb(133,20,75)"
         },
         "mode": "lines",
         "type": "scatter",
         "x": [
          1508.46923828125,
          1508.46923828125,
          1961.25,
          1961.25
         ],
         "xaxis": "x",
         "y": [
          3.3950603989386128,
          4.3813266897175644,
          4.3813266897175644,
          3.5562236244409573
         ],
         "yaxis": "y"
        },
        {
         "hoverinfo": "text",
         "marker": {
          "color": "rgb(0,116,217)"
         },
         "mode": "lines",
         "type": "scatter",
         "x": [
          814.41650390625,
          814.41650390625,
          1734.859619140625,
          1734.859619140625
         ],
         "xaxis": "x",
         "y": [
          4.328349859458111,
          5.8238059049147735,
          5.8238059049147735,
          4.3813266897175644
         ],
         "yaxis": "y"
        },
        {
         "hoverinfo": "text",
         "marker": {
          "color": "rgb(0,116,217)"
         },
         "mode": "lines",
         "type": "scatter",
         "x": [
          234.6990966796875,
          234.6990966796875,
          1274.6380615234375,
          1274.6380615234375
         ],
         "xaxis": "x",
         "y": [
          4.861010239056859,
          7.120874163821361,
          7.120874163821361,
          5.8238059049147735
         ],
         "yaxis": "y"
        },
        {
         "hoverinfo": "text",
         "marker": {
          "color": "rgb(0,116,217)"
         },
         "mode": "lines",
         "type": "scatter",
         "x": [
          31.875,
          31.875,
          754.6685791015625,
          754.6685791015625
         ],
         "xaxis": "x",
         "y": [
          5.000906843594925,
          7.472739900262246,
          7.472739900262246,
          7.120874163821361
         ],
         "yaxis": "y"
        }
       ],
       "layout": {
        "autosize": false,
        "height": null,
        "hovermode": "closest",
        "showlegend": false,
        "template": {
         "data": {
          "bar": [
           {
            "error_x": {
             "color": "#2a3f5f"
            },
            "error_y": {
             "color": "#2a3f5f"
            },
            "marker": {
             "line": {
              "color": "#E5ECF6",
              "width": 0.5
             },
             "pattern": {
              "fillmode": "overlay",
              "size": 10,
              "solidity": 0.2
             }
            },
            "type": "bar"
           }
          ],
          "barpolar": [
           {
            "marker": {
             "line": {
              "color": "#E5ECF6",
              "width": 0.5
             },
             "pattern": {
              "fillmode": "overlay",
              "size": 10,
              "solidity": 0.2
             }
            },
            "type": "barpolar"
           }
          ],
          "carpet": [
           {
            "aaxis": {
             "endlinecolor": "#2a3f5f",
             "gridcolor": "white",
             "linecolor": "white",
             "minorgridcolor": "white",
             "startlinecolor": "#2a3f5f"
            },
            "baxis": {
             "endlinecolor": "#2a3f5f",
             "gridcolor": "white",
             "linecolor": "white",
             "minorgridcolor": "white",
             "startlinecolor": "#2a3f5f"
            },
            "type": "carpet"
           }
          ],
          "choropleth": [
           {
            "colorbar": {
             "outlinewidth": 0,
             "ticks": ""
            },
            "type": "choropleth"
           }
          ],
          "contour": [
           {
            "colorbar": {
             "outlinewidth": 0,
             "ticks": ""
            },
            "colorscale": [
             [
              0,
              "#0d0887"
             ],
             [
              0.1111111111111111,
              "#46039f"
             ],
             [
              0.2222222222222222,
              "#7201a8"
             ],
             [
              0.3333333333333333,
              "#9c179e"
             ],
             [
              0.4444444444444444,
              "#bd3786"
             ],
             [
              0.5555555555555556,
              "#d8576b"
             ],
             [
              0.6666666666666666,
              "#ed7953"
             ],
             [
              0.7777777777777778,
              "#fb9f3a"
             ],
             [
              0.8888888888888888,
              "#fdca26"
             ],
             [
              1,
              "#f0f921"
             ]
            ],
            "type": "contour"
           }
          ],
          "contourcarpet": [
           {
            "colorbar": {
             "outlinewidth": 0,
             "ticks": ""
            },
            "type": "contourcarpet"
           }
          ],
          "heatmap": [
           {
            "colorbar": {
             "outlinewidth": 0,
             "ticks": ""
            },
            "colorscale": [
             [
              0,
              "#0d0887"
             ],
             [
              0.1111111111111111,
              "#46039f"
             ],
             [
              0.2222222222222222,
              "#7201a8"
             ],
             [
              0.3333333333333333,
              "#9c179e"
             ],
             [
              0.4444444444444444,
              "#bd3786"
             ],
             [
              0.5555555555555556,
              "#d8576b"
             ],
             [
              0.6666666666666666,
              "#ed7953"
             ],
             [
              0.7777777777777778,
              "#fb9f3a"
             ],
             [
              0.8888888888888888,
              "#fdca26"
             ],
             [
              1,
              "#f0f921"
             ]
            ],
            "type": "heatmap"
           }
          ],
          "heatmapgl": [
           {
            "colorbar": {
             "outlinewidth": 0,
             "ticks": ""
            },
            "colorscale": [
             [
              0,
              "#0d0887"
             ],
             [
              0.1111111111111111,
              "#46039f"
             ],
             [
              0.2222222222222222,
              "#7201a8"
             ],
             [
              0.3333333333333333,
              "#9c179e"
             ],
             [
              0.4444444444444444,
              "#bd3786"
             ],
             [
              0.5555555555555556,
              "#d8576b"
             ],
             [
              0.6666666666666666,
              "#ed7953"
             ],
             [
              0.7777777777777778,
              "#fb9f3a"
             ],
             [
              0.8888888888888888,
              "#fdca26"
             ],
             [
              1,
              "#f0f921"
             ]
            ],
            "type": "heatmapgl"
           }
          ],
          "histogram": [
           {
            "marker": {
             "pattern": {
              "fillmode": "overlay",
              "size": 10,
              "solidity": 0.2
             }
            },
            "type": "histogram"
           }
          ],
          "histogram2d": [
           {
            "colorbar": {
             "outlinewidth": 0,
             "ticks": ""
            },
            "colorscale": [
             [
              0,
              "#0d0887"
             ],
             [
              0.1111111111111111,
              "#46039f"
             ],
             [
              0.2222222222222222,
              "#7201a8"
             ],
             [
              0.3333333333333333,
              "#9c179e"
             ],
             [
              0.4444444444444444,
              "#bd3786"
             ],
             [
              0.5555555555555556,
              "#d8576b"
             ],
             [
              0.6666666666666666,
              "#ed7953"
             ],
             [
              0.7777777777777778,
              "#fb9f3a"
             ],
             [
              0.8888888888888888,
              "#fdca26"
             ],
             [
              1,
              "#f0f921"
             ]
            ],
            "type": "histogram2d"
           }
          ],
          "histogram2dcontour": [
           {
            "colorbar": {
             "outlinewidth": 0,
             "ticks": ""
            },
            "colorscale": [
             [
              0,
              "#0d0887"
             ],
             [
              0.1111111111111111,
              "#46039f"
             ],
             [
              0.2222222222222222,
              "#7201a8"
             ],
             [
              0.3333333333333333,
              "#9c179e"
             ],
             [
              0.4444444444444444,
              "#bd3786"
             ],
             [
              0.5555555555555556,
              "#d8576b"
             ],
             [
              0.6666666666666666,
              "#ed7953"
             ],
             [
              0.7777777777777778,
              "#fb9f3a"
             ],
             [
              0.8888888888888888,
              "#fdca26"
             ],
             [
              1,
              "#f0f921"
             ]
            ],
            "type": "histogram2dcontour"
           }
          ],
          "mesh3d": [
           {
            "colorbar": {
             "outlinewidth": 0,
             "ticks": ""
            },
            "type": "mesh3d"
           }
          ],
          "parcoords": [
           {
            "line": {
             "colorbar": {
              "outlinewidth": 0,
              "ticks": ""
             }
            },
            "type": "parcoords"
           }
          ],
          "pie": [
           {
            "automargin": true,
            "type": "pie"
           }
          ],
          "scatter": [
           {
            "marker": {
             "colorbar": {
              "outlinewidth": 0,
              "ticks": ""
             }
            },
            "type": "scatter"
           }
          ],
          "scatter3d": [
           {
            "line": {
             "colorbar": {
              "outlinewidth": 0,
              "ticks": ""
             }
            },
            "marker": {
             "colorbar": {
              "outlinewidth": 0,
              "ticks": ""
             }
            },
            "type": "scatter3d"
           }
          ],
          "scattercarpet": [
           {
            "marker": {
             "colorbar": {
              "outlinewidth": 0,
              "ticks": ""
             }
            },
            "type": "scattercarpet"
           }
          ],
          "scattergeo": [
           {
            "marker": {
             "colorbar": {
              "outlinewidth": 0,
              "ticks": ""
             }
            },
            "type": "scattergeo"
           }
          ],
          "scattergl": [
           {
            "marker": {
             "colorbar": {
              "outlinewidth": 0,
              "ticks": ""
             }
            },
            "type": "scattergl"
           }
          ],
          "scattermapbox": [
           {
            "marker": {
             "colorbar": {
              "outlinewidth": 0,
              "ticks": ""
             }
            },
            "type": "scattermapbox"
           }
          ],
          "scatterpolar": [
           {
            "marker": {
             "colorbar": {
              "outlinewidth": 0,
              "ticks": ""
             }
            },
            "type": "scatterpolar"
           }
          ],
          "scatterpolargl": [
           {
            "marker": {
             "colorbar": {
              "outlinewidth": 0,
              "ticks": ""
             }
            },
            "type": "scatterpolargl"
           }
          ],
          "scatterternary": [
           {
            "marker": {
             "colorbar": {
              "outlinewidth": 0,
              "ticks": ""
             }
            },
            "type": "scatterternary"
           }
          ],
          "surface": [
           {
            "colorbar": {
             "outlinewidth": 0,
             "ticks": ""
            },
            "colorscale": [
             [
              0,
              "#0d0887"
             ],
             [
              0.1111111111111111,
              "#46039f"
             ],
             [
              0.2222222222222222,
              "#7201a8"
             ],
             [
              0.3333333333333333,
              "#9c179e"
             ],
             [
              0.4444444444444444,
              "#bd3786"
             ],
             [
              0.5555555555555556,
              "#d8576b"
             ],
             [
              0.6666666666666666,
              "#ed7953"
             ],
             [
              0.7777777777777778,
              "#fb9f3a"
             ],
             [
              0.8888888888888888,
              "#fdca26"
             ],
             [
              1,
              "#f0f921"
             ]
            ],
            "type": "surface"
           }
          ],
          "table": [
           {
            "cells": {
             "fill": {
              "color": "#EBF0F8"
             },
             "line": {
              "color": "white"
             }
            },
            "header": {
             "fill": {
              "color": "#C8D4E3"
             },
             "line": {
              "color": "white"
             }
            },
            "type": "table"
           }
          ]
         },
         "layout": {
          "annotationdefaults": {
           "arrowcolor": "#2a3f5f",
           "arrowhead": 0,
           "arrowwidth": 1
          },
          "autotypenumbers": "strict",
          "coloraxis": {
           "colorbar": {
            "outlinewidth": 0,
            "ticks": ""
           }
          },
          "colorscale": {
           "diverging": [
            [
             0,
             "#8e0152"
            ],
            [
             0.1,
             "#c51b7d"
            ],
            [
             0.2,
             "#de77ae"
            ],
            [
             0.3,
             "#f1b6da"
            ],
            [
             0.4,
             "#fde0ef"
            ],
            [
             0.5,
             "#f7f7f7"
            ],
            [
             0.6,
             "#e6f5d0"
            ],
            [
             0.7,
             "#b8e186"
            ],
            [
             0.8,
             "#7fbc41"
            ],
            [
             0.9,
             "#4d9221"
            ],
            [
             1,
             "#276419"
            ]
           ],
           "sequential": [
            [
             0,
             "#0d0887"
            ],
            [
             0.1111111111111111,
             "#46039f"
            ],
            [
             0.2222222222222222,
             "#7201a8"
            ],
            [
             0.3333333333333333,
             "#9c179e"
            ],
            [
             0.4444444444444444,
             "#bd3786"
            ],
            [
             0.5555555555555556,
             "#d8576b"
            ],
            [
             0.6666666666666666,
             "#ed7953"
            ],
            [
             0.7777777777777778,
             "#fb9f3a"
            ],
            [
             0.8888888888888888,
             "#fdca26"
            ],
            [
             1,
             "#f0f921"
            ]
           ],
           "sequentialminus": [
            [
             0,
             "#0d0887"
            ],
            [
             0.1111111111111111,
             "#46039f"
            ],
            [
             0.2222222222222222,
             "#7201a8"
            ],
            [
             0.3333333333333333,
             "#9c179e"
            ],
            [
             0.4444444444444444,
             "#bd3786"
            ],
            [
             0.5555555555555556,
             "#d8576b"
            ],
            [
             0.6666666666666666,
             "#ed7953"
            ],
            [
             0.7777777777777778,
             "#fb9f3a"
            ],
            [
             0.8888888888888888,
             "#fdca26"
            ],
            [
             1,
             "#f0f921"
            ]
           ]
          },
          "colorway": [
           "#636efa",
           "#EF553B",
           "#00cc96",
           "#ab63fa",
           "#FFA15A",
           "#19d3f3",
           "#FF6692",
           "#B6E880",
           "#FF97FF",
           "#FECB52"
          ],
          "font": {
           "color": "#2a3f5f"
          },
          "geo": {
           "bgcolor": "white",
           "lakecolor": "white",
           "landcolor": "#E5ECF6",
           "showlakes": true,
           "showland": true,
           "subunitcolor": "white"
          },
          "hoverlabel": {
           "align": "left"
          },
          "hovermode": "closest",
          "mapbox": {
           "style": "light"
          },
          "paper_bgcolor": "white",
          "plot_bgcolor": "#E5ECF6",
          "polar": {
           "angularaxis": {
            "gridcolor": "white",
            "linecolor": "white",
            "ticks": ""
           },
           "bgcolor": "#E5ECF6",
           "radialaxis": {
            "gridcolor": "white",
            "linecolor": "white",
            "ticks": ""
           }
          },
          "scene": {
           "xaxis": {
            "backgroundcolor": "#E5ECF6",
            "gridcolor": "white",
            "gridwidth": 2,
            "linecolor": "white",
            "showbackground": true,
            "ticks": "",
            "zerolinecolor": "white"
           },
           "yaxis": {
            "backgroundcolor": "#E5ECF6",
            "gridcolor": "white",
            "gridwidth": 2,
            "linecolor": "white",
            "showbackground": true,
            "ticks": "",
            "zerolinecolor": "white"
           },
           "zaxis": {
            "backgroundcolor": "#E5ECF6",
            "gridcolor": "white",
            "gridwidth": 2,
            "linecolor": "white",
            "showbackground": true,
            "ticks": "",
            "zerolinecolor": "white"
           }
          },
          "shapedefaults": {
           "line": {
            "color": "#2a3f5f"
           }
          },
          "ternary": {
           "aaxis": {
            "gridcolor": "white",
            "linecolor": "white",
            "ticks": ""
           },
           "baxis": {
            "gridcolor": "white",
            "linecolor": "white",
            "ticks": ""
           },
           "bgcolor": "#E5ECF6",
           "caxis": {
            "gridcolor": "white",
            "linecolor": "white",
            "ticks": ""
           }
          },
          "title": {
           "x": 0.05
          },
          "xaxis": {
           "automargin": true,
           "gridcolor": "white",
           "linecolor": "white",
           "ticks": "",
           "title": {
            "standoff": 15
           },
           "zerolinecolor": "white",
           "zerolinewidth": 2
          },
          "yaxis": {
           "automargin": true,
           "gridcolor": "white",
           "linecolor": "white",
           "ticks": "",
           "title": {
            "standoff": 15
           },
           "zerolinecolor": "white",
           "zerolinewidth": 2
          }
         }
        },
        "width": null,
        "xaxis": {
         "mirror": "allticks",
         "rangemode": "tozero",
         "showgrid": false,
         "showline": true,
         "showticklabels": true,
         "tickmode": "array",
         "ticks": "outside",
         "ticktext": [
          "Taiwan",
          "Israel",
          "United States",
          "Federal Republic of Germany",
          "German Democratic Republic",
          "Yemen People's Republic",
          "Czechoslovakia",
          "Yemen Arab Republic",
          "Switzerland",
          "Tonga",
          "Kiribati",
          "Timor-Leste",
          "Tuvalu",
          "Nauru",
          "Palau",
          "Marshall Islands",
          "Micronesia (Federated States of)",
          "Montenegro",
          "South Sudan",
          "Japan",
          "Ireland",
          "Austria",
          "Finland",
          "Spain",
          "Italy",
          "Portugal",
          "France",
          "United Kingdom",
          "Sweden",
          "New Zealand",
          "Iceland",
          "Denmark",
          "Norway",
          "Netherlands",
          "Belgium",
          "Luxembourg",
          "Australia",
          "Canada",
          "South Africa",
          "Namibia",
          "North Korea",
          "Yemen",
          "Eritrea",
          "Turkmenistan",
          "Azerbaijan",
          "Kazakhstan",
          "Uzbekistan",
          "Kyrgyzstan",
          "Tajikistan",
          "Bosnia & Herzegovina",
          "Liechtenstein",
          "South Korea",
          "Germany",
          "Latvia",
          "Estonia",
          "Lithuania",
          "Monaco",
          "Georgia",
          "Andorra",
          "Croatia",
          "North Macedonia",
          "Czechia",
          "Slovakia",
          "San Marino",
          "Armenia",
          "Moldova",
          "Slovenia",
          "Seychelles",
          "Zimbabwe",
          "Samoa",
          "Solomon Islands",
          "St. Lucia",
          "Vanuatu",
          "Dominica",
          "Belize",
          "Antigua & Barbuda",
          "St. Vincent & Grenadines",
          "Brunei",
          "St. Kitts & Nevis",
          "Equatorial Guinea",
          "Botswana",
          "Eswatini",
          "Fiji",
          "China",
          "Bhutan",
          "Oman",
          "Qatar",
          "Bahrain",
          "United Arab Emirates",
          "Gambia",
          "Malta",
          "Mauritius",
          "Singapore",
          "Zambia",
          "Barbados",
          "Guyana",
          "Lesotho",
          "São Tomé & Príncipe",
          "Guinea-Bissau",
          "Angola",
          "Djibouti",
          "Vietnam",
          "Bahamas",
          "Grenada",
          "Papua New Guinea",
          "Comoros",
          "Bangladesh",
          "Suriname",
          "Cape Verde",
          "Mozambique",
          "Malawi",
          "Maldives",
          "Niger",
          "Burundi",
          "Mauritania",
          "Rwanda",
          "Kenya",
          "Kuwait",
          "Jamaica",
          "Trinidad & Tobago",
          "Algeria",
          "Uganda",
          "Cameroon",
          "Cyprus",
          "Chad",
          "Guinea",
          "Nigeria",
          "Mali",
          "Togo",
          "Congo - Kinshasa",
          "Côte d’Ivoire",
          "Mongolia",
          "Gabon",
          "Burkina Faso",
          "Senegal",
          "Benin",
          "Madagascar",
          "Congo - Brazzaville",
          "Sierra Leone",
          "Tanzania",
          "Cambodia",
          "Laos",
          "Ghana",
          "Malaysia",
          "Nepal",
          "Sri Lanka",
          "Tunisia",
          "Sudan",
          "Libya",
          "Jordan",
          "Morocco",
          "Syria",
          "Indonesia",
          "Myanmar (Burma)",
          "India",
          "Pakistan",
          "Argentina",
          "Dominican Republic",
          "Guatemala",
          "Haiti",
          "Bolivia",
          "Brazil",
          "Uruguay",
          "Chile",
          "El Salvador",
          "Costa Rica",
          "Honduras",
          "Nicaragua",
          "Paraguay",
          "Cuba",
          "Panama",
          "Ethiopia",
          "Lebanon",
          "Afghanistan",
          "Egypt",
          "Saudi Arabia",
          "Iran",
          "Mexico",
          "Philippines",
          "Thailand",
          "Peru",
          "Colombia",
          "Ecuador",
          "Venezuela",
          "Albania",
          "Bulgaria",
          "Hungary",
          "Romania",
          "Greece",
          "Turkey",
          "Belarus",
          "Ukraine",
          "Poland",
          "Russia",
          "Central African Republic",
          "Somalia",
          "Yugoslavia",
          "Iraq",
          "Liberia"
         ],
         "tickvals": [
          5,
          15,
          25,
          35,
          45,
          55,
          65,
          75,
          85,
          95,
          105,
          115,
          125,
          135,
          145,
          155,
          165,
          175,
          185,
          195,
          205,
          215,
          225,
          235,
          245,
          255,
          265,
          275,
          285,
          295,
          305,
          315,
          325,
          335,
          345,
          355,
          365,
          375,
          385,
          395,
          405,
          415,
          425,
          435,
          445,
          455,
          465,
          475,
          485,
          495,
          505,
          515,
          525,
          535,
          545,
          555,
          565,
          575,
          585,
          595,
          605,
          615,
          625,
          635,
          645,
          655,
          665,
          675,
          685,
          695,
          705,
          715,
          725,
          735,
          745,
          755,
          765,
          775,
          785,
          795,
          805,
          815,
          825,
          835,
          845,
          855,
          865,
          875,
          885,
          895,
          905,
          915,
          925,
          935,
          945,
          955,
          965,
          975,
          985,
          995,
          1005,
          1015,
          1025,
          1035,
          1045,
          1055,
          1065,
          1075,
          1085,
          1095,
          1105,
          1115,
          1125,
          1135,
          1145,
          1155,
          1165,
          1175,
          1185,
          1195,
          1205,
          1215,
          1225,
          1235,
          1245,
          1255,
          1265,
          1275,
          1285,
          1295,
          1305,
          1315,
          1325,
          1335,
          1345,
          1355,
          1365,
          1375,
          1385,
          1395,
          1405,
          1415,
          1425,
          1435,
          1445,
          1455,
          1465,
          1475,
          1485,
          1495,
          1505,
          1515,
          1525,
          1535,
          1545,
          1555,
          1565,
          1575,
          1585,
          1595,
          1605,
          1615,
          1625,
          1635,
          1645,
          1655,
          1665,
          1675,
          1685,
          1695,
          1705,
          1715,
          1725,
          1735,
          1745,
          1755,
          1765,
          1775,
          1785,
          1795,
          1805,
          1815,
          1825,
          1835,
          1845,
          1855,
          1865,
          1875,
          1885,
          1895,
          1905,
          1915,
          1925,
          1935,
          1945,
          1955,
          1965,
          1975,
          1985
         ],
         "type": "linear",
         "zeroline": false
        },
        "yaxis": {
         "mirror": "allticks",
         "rangemode": "tozero",
         "showgrid": false,
         "showline": true,
         "showticklabels": true,
         "ticks": "outside",
         "type": "linear",
         "zeroline": false
        }
       }
      },
      "text/html": [
       "<div>                            <div id=\"115b0e46-e44c-4d3b-9972-dd1b8fe52924\" class=\"plotly-graph-div\" style=\"height:infpx; width:infpx;\"></div>            <script type=\"text/javascript\">                require([\"plotly\"], function(Plotly) {                    window.PLOTLYENV=window.PLOTLYENV || {};                                    if (document.getElementById(\"115b0e46-e44c-4d3b-9972-dd1b8fe52924\")) {                    Plotly.newPlot(                        \"115b0e46-e44c-4d3b-9972-dd1b8fe52924\",                        [{\"hoverinfo\":\"text\",\"marker\":{\"color\":\"rgb(61,153,112)\"},\"mode\":\"lines\",\"type\":\"scatter\",\"x\":[15.0,15.0,25.0,25.0],\"xaxis\":\"x\",\"y\":[0.0,1.6348222999207835,1.6348222999207835,0.0],\"yaxis\":\"y\"},{\"hoverinfo\":\"text\",\"marker\":{\"color\":\"rgb(61,153,112)\"},\"mode\":\"lines\",\"type\":\"scatter\",\"x\":[5.0,5.0,20.0,20.0],\"xaxis\":\"x\",\"y\":[0.0,2.172448530119386,2.172448530119386,1.6348222999207835],\"yaxis\":\"y\"},{\"hoverinfo\":\"text\",\"marker\":{\"color\":\"rgb(61,153,112)\"},\"mode\":\"lines\",\"type\":\"scatter\",\"x\":[35.0,35.0,45.0,45.0],\"xaxis\":\"x\",\"y\":[0.0,2.0171533418999474,2.0171533418999474,0.0],\"yaxis\":\"y\"},{\"hoverinfo\":\"text\",\"marker\":{\"color\":\"rgb(61,153,112)\"},\"mode\":\"lines\",\"type\":\"scatter\",\"x\":[65.0,65.0,75.0,75.0],\"xaxis\":\"x\",\"y\":[0.0,1.5902333961281467,1.5902333961281467,0.0],\"yaxis\":\"y\"},{\"hoverinfo\":\"text\",\"marker\":{\"color\":\"rgb(61,153,112)\"},\"mode\":\"lines\",\"type\":\"scatter\",\"x\":[55.0,55.0,70.0,70.0],\"xaxis\":\"x\",\"y\":[0.0,3.087143148720667,3.087143148720667,1.5902333961281467],\"yaxis\":\"y\"},{\"hoverinfo\":\"text\",\"marker\":{\"color\":\"rgb(61,153,112)\"},\"mode\":\"lines\",\"type\":\"scatter\",\"x\":[40.0,40.0,62.5,62.5],\"xaxis\":\"x\",\"y\":[2.0171533418999474,4.400451168539784,4.400451168539784,3.087143148720667],\"yaxis\":\"y\"},{\"hoverinfo\":\"text\",\"marker\":{\"color\":\"rgb(61,153,112)\"},\"mode\":\"lines\",\"type\":\"scatter\",\"x\":[12.5,12.5,51.25,51.25],\"xaxis\":\"x\",\"y\":[2.172448530119386,5.000906843594925,5.000906843594925,4.400451168539784],\"yaxis\":\"y\"},{\"hoverinfo\":\"text\",\"marker\":{\"color\":\"rgb(255,65,54)\"},\"mode\":\"lines\",\"type\":\"scatter\",\"x\":[85.0,85.0,95.0,95.0],\"xaxis\":\"x\",\"y\":[0.0,1.062575755533862,1.062575755533862,0.0],\"yaxis\":\"y\"},{\"hoverinfo\":\"text\",\"marker\":{\"color\":\"rgb(255,65,54)\"},\"mode\":\"lines\",\"type\":\"scatter\",\"x\":[115.0,115.0,125.0,125.0],\"xaxis\":\"x\",\"y\":[0.0,0.8769031844923241,0.8769031844923241,0.0],\"yaxis\":\"y\"},{\"hoverinfo\":\"text\",\"marker\":{\"color\":\"rgb(255,65,54)\"},\"mode\":\"lines\",\"type\":\"scatter\",\"x\":[105.0,105.0,120.0,120.0],\"xaxis\":\"x\",\"y\":[0.0,1.1464931812521457,1.1464931812521457,0.8769031844923241],\"yaxis\":\"y\"},{\"hoverinfo\":\"text\",\"marker\":{\"color\":\"rgb(255,65,54)\"},\"mode\":\"lines\",\"type\":\"scatter\",\"x\":[90.0,90.0,112.5,112.5],\"xaxis\":\"x\",\"y\":[1.062575755533862,1.607445293876076,1.607445293876076,1.1464931812521457],\"yaxis\":\"y\"},{\"hoverinfo\":\"text\",\"marker\":{\"color\":\"rgb(255,65,54)\"},\"mode\":\"lines\",\"type\":\"scatter\",\"x\":[135.0,135.0,145.0,145.0],\"xaxis\":\"x\",\"y\":[0.0,1.5726962376618976,1.5726962376618976,0.0],\"yaxis\":\"y\"},{\"hoverinfo\":\"text\",\"marker\":{\"color\":\"rgb(255,65,54)\"},\"mode\":\"lines\",\"type\":\"scatter\",\"x\":[155.0,155.0,165.0,165.0],\"xaxis\":\"x\",\"y\":[0.0,0.8362232342758037,0.8362232342758037,0.0],\"yaxis\":\"y\"},{\"hoverinfo\":\"text\",\"marker\":{\"color\":\"rgb(255,65,54)\"},\"mode\":\"lines\",\"type\":\"scatter\",\"x\":[175.0,175.0,185.0,185.0],\"xaxis\":\"x\",\"y\":[0.0,1.6001491220812758,1.6001491220812758,0.0],\"yaxis\":\"y\"},{\"hoverinfo\":\"text\",\"marker\":{\"color\":\"rgb(255,65,54)\"},\"mode\":\"lines\",\"type\":\"scatter\",\"x\":[160.0,160.0,180.0,180.0],\"xaxis\":\"x\",\"y\":[0.8362232342758037,2.0286377115176517,2.0286377115176517,1.6001491220812758],\"yaxis\":\"y\"},{\"hoverinfo\":\"text\",\"marker\":{\"color\":\"rgb(255,65,54)\"},\"mode\":\"lines\",\"type\":\"scatter\",\"x\":[140.0,140.0,170.0,170.0],\"xaxis\":\"x\",\"y\":[1.5726962376618976,2.155654963809121,2.155654963809121,2.0286377115176517],\"yaxis\":\"y\"},{\"hoverinfo\":\"text\",\"marker\":{\"color\":\"rgb(255,65,54)\"},\"mode\":\"lines\",\"type\":\"scatter\",\"x\":[101.25,101.25,155.0,155.0],\"xaxis\":\"x\",\"y\":[1.607445293876076,3.3099197213846785,3.3099197213846785,2.155654963809121],\"yaxis\":\"y\"},{\"hoverinfo\":\"text\",\"marker\":{\"color\":\"rgb(255,65,54)\"},\"mode\":\"lines\",\"type\":\"scatter\",\"x\":[215.0,215.0,225.0,225.0],\"xaxis\":\"x\",\"y\":[0.0,0.47365413943822215,0.47365413943822215,0.0],\"yaxis\":\"y\"},{\"hoverinfo\":\"text\",\"marker\":{\"color\":\"rgb(255,65,54)\"},\"mode\":\"lines\",\"type\":\"scatter\",\"x\":[205.0,205.0,220.0,220.0],\"xaxis\":\"x\",\"y\":[0.0,0.8015682252888527,0.8015682252888527,0.47365413943822215],\"yaxis\":\"y\"},{\"hoverinfo\":\"text\",\"marker\":{\"color\":\"rgb(255,65,54)\"},\"mode\":\"lines\",\"type\":\"scatter\",\"x\":[195.0,195.0,212.5,212.5],\"xaxis\":\"x\",\"y\":[0.0,1.1031863400881543,1.1031863400881543,0.8015682252888527],\"yaxis\":\"y\"},{\"hoverinfo\":\"text\",\"marker\":{\"color\":\"rgb(255,65,54)\"},\"mode\":\"lines\",\"type\":\"scatter\",\"x\":[245.0,245.0,255.0,255.0],\"xaxis\":\"x\",\"y\":[0.0,1.2882662257922497,1.2882662257922497,0.0],\"yaxis\":\"y\"},{\"hoverinfo\":\"text\",\"marker\":{\"color\":\"rgb(255,65,54)\"},\"mode\":\"lines\",\"type\":\"scatter\",\"x\":[235.0,235.0,250.0,250.0],\"xaxis\":\"x\",\"y\":[0.0,1.5508560578907296,1.5508560578907296,1.2882662257922497],\"yaxis\":\"y\"},{\"hoverinfo\":\"text\",\"marker\":{\"color\":\"rgb(255,65,54)\"},\"mode\":\"lines\",\"type\":\"scatter\",\"x\":[203.75,203.75,242.5,242.5],\"xaxis\":\"x\",\"y\":[1.1031863400881543,1.6645371668541906,1.6645371668541906,1.5508560578907296],\"yaxis\":\"y\"},{\"hoverinfo\":\"text\",\"marker\":{\"color\":\"rgb(255,65,54)\"},\"mode\":\"lines\",\"type\":\"scatter\",\"x\":[265.0,265.0,275.0,275.0],\"xaxis\":\"x\",\"y\":[0.0,0.9736118546992217,0.9736118546992217,0.0],\"yaxis\":\"y\"},{\"hoverinfo\":\"text\",\"marker\":{\"color\":\"rgb(255,65,54)\"},\"mode\":\"lines\",\"type\":\"scatter\",\"x\":[315.0,315.0,325.0,325.0],\"xaxis\":\"x\",\"y\":[0.0,0.3203329369901581,0.3203329369901581,0.0],\"yaxis\":\"y\"},{\"hoverinfo\":\"text\",\"marker\":{\"color\":\"rgb(255,65,54)\"},\"mode\":\"lines\",\"type\":\"scatter\",\"x\":[305.0,305.0,320.0,320.0],\"xaxis\":\"x\",\"y\":[0.0,0.6556848931848085,0.6556848931848085,0.3203329369901581],\"yaxis\":\"y\"},{\"hoverinfo\":\"text\",\"marker\":{\"color\":\"rgb(255,65,54)\"},\"mode\":\"lines\",\"type\":\"scatter\",\"x\":[295.0,295.0,312.5,312.5],\"xaxis\":\"x\",\"y\":[0.0,0.8940926826899782,0.8940926826899782,0.6556848931848085],\"yaxis\":\"y\"},{\"hoverinfo\":\"text\",\"marker\":{\"color\":\"rgb(255,65,54)\"},\"mode\":\"lines\",\"type\":\"scatter\",\"x\":[285.0,285.0,303.75,303.75],\"xaxis\":\"x\",\"y\":[0.0,0.9338713392199312,0.9338713392199312,0.8940926826899782],\"yaxis\":\"y\"},{\"hoverinfo\":\"text\",\"marker\":{\"color\":\"rgb(255,65,54)\"},\"mode\":\"lines\",\"type\":\"scatter\",\"x\":[345.0,345.0,355.0,355.0],\"xaxis\":\"x\",\"y\":[0.0,0.4715247835934973,0.4715247835934973,0.0],\"yaxis\":\"y\"},{\"hoverinfo\":\"text\",\"marker\":{\"color\":\"rgb(255,65,54)\"},\"mode\":\"lines\",\"type\":\"scatter\",\"x\":[335.0,335.0,350.0,350.0],\"xaxis\":\"x\",\"y\":[0.0,0.6093227105154587,0.6093227105154587,0.4715247835934973],\"yaxis\":\"y\"},{\"hoverinfo\":\"text\",\"marker\":{\"color\":\"rgb(255,65,54)\"},\"mode\":\"lines\",\"type\":\"scatter\",\"x\":[365.0,365.0,375.0,375.0],\"xaxis\":\"x\",\"y\":[0.0,0.9514620742343279,0.9514620742343279,0.0],\"yaxis\":\"y\"},{\"hoverinfo\":\"text\",\"marker\":{\"color\":\"rgb(255,65,54)\"},\"mode\":\"lines\",\"type\":\"scatter\",\"x\":[342.5,342.5,370.0,370.0],\"xaxis\":\"x\",\"y\":[0.6093227105154587,1.0982219997210103,1.0982219997210103,0.9514620742343279],\"yaxis\":\"y\"},{\"hoverinfo\":\"text\",\"marker\":{\"color\":\"rgb(255,65,54)\"},\"mode\":\"lines\",\"type\":\"scatter\",\"x\":[294.375,294.375,356.25,356.25],\"xaxis\":\"x\",\"y\":[0.9338713392199312,1.4343427763598036,1.4343427763598036,1.0982219997210103],\"yaxis\":\"y\"},{\"hoverinfo\":\"text\",\"marker\":{\"color\":\"rgb(255,65,54)\"},\"mode\":\"lines\",\"type\":\"scatter\",\"x\":[270.0,270.0,325.3125,325.3125],\"xaxis\":\"x\",\"y\":[0.9736118546992217,2.0910727852219124,2.0910727852219124,1.4343427763598036],\"yaxis\":\"y\"},{\"hoverinfo\":\"text\",\"marker\":{\"color\":\"rgb(255,65,54)\"},\"mode\":\"lines\",\"type\":\"scatter\",\"x\":[223.125,223.125,297.65625,297.65625],\"xaxis\":\"x\",\"y\":[1.6645371668541906,2.7618057981147563,2.7618057981147563,2.0910727852219124],\"yaxis\":\"y\"},{\"hoverinfo\":\"text\",\"marker\":{\"color\":\"rgb(255,65,54)\"},\"mode\":\"lines\",\"type\":\"scatter\",\"x\":[405.0,405.0,415.0,415.0],\"xaxis\":\"x\",\"y\":[0.0,0.8256573259197202,0.8256573259197202,0.0],\"yaxis\":\"y\"},{\"hoverinfo\":\"text\",\"marker\":{\"color\":\"rgb(255,65,54)\"},\"mode\":\"lines\",\"type\":\"scatter\",\"x\":[395.0,395.0,410.0,410.0],\"xaxis\":\"x\",\"y\":[0.0,1.21580866735767,1.21580866735767,0.8256573259197202],\"yaxis\":\"y\"},{\"hoverinfo\":\"text\",\"marker\":{\"color\":\"rgb(255,65,54)\"},\"mode\":\"lines\",\"type\":\"scatter\",\"x\":[445.0,445.0,455.0,455.0],\"xaxis\":\"x\",\"y\":[0.0,0.4324993129849537,0.4324993129849537,0.0],\"yaxis\":\"y\"},{\"hoverinfo\":\"text\",\"marker\":{\"color\":\"rgb(255,65,54)\"},\"mode\":\"lines\",\"type\":\"scatter\",\"x\":[435.0,435.0,450.0,450.0],\"xaxis\":\"x\",\"y\":[0.0,0.6083349996437617,0.6083349996437617,0.4324993129849537],\"yaxis\":\"y\"},{\"hoverinfo\":\"text\",\"marker\":{\"color\":\"rgb(255,65,54)\"},\"mode\":\"lines\",\"type\":\"scatter\",\"x\":[425.0,425.0,442.5,442.5],\"xaxis\":\"x\",\"y\":[0.0,1.3019074685434484,1.3019074685434484,0.6083349996437617],\"yaxis\":\"y\"},{\"hoverinfo\":\"text\",\"marker\":{\"color\":\"rgb(255,65,54)\"},\"mode\":\"lines\",\"type\":\"scatter\",\"x\":[402.5,402.5,433.75,433.75],\"xaxis\":\"x\",\"y\":[1.21580866735767,1.8603610889466018,1.8603610889466018,1.3019074685434484],\"yaxis\":\"y\"},{\"hoverinfo\":\"text\",\"marker\":{\"color\":\"rgb(255,65,54)\"},\"mode\":\"lines\",\"type\":\"scatter\",\"x\":[475.0,475.0,485.0,485.0],\"xaxis\":\"x\",\"y\":[0.0,1.027208958146681,1.027208958146681,0.0],\"yaxis\":\"y\"},{\"hoverinfo\":\"text\",\"marker\":{\"color\":\"rgb(255,65,54)\"},\"mode\":\"lines\",\"type\":\"scatter\",\"x\":[465.0,465.0,480.0,480.0],\"xaxis\":\"x\",\"y\":[0.0,1.352122707862348,1.352122707862348,1.027208958146681],\"yaxis\":\"y\"},{\"hoverinfo\":\"text\",\"marker\":{\"color\":\"rgb(255,65,54)\"},\"mode\":\"lines\",\"type\":\"scatter\",\"x\":[545.0,545.0,555.0,555.0],\"xaxis\":\"x\",\"y\":[0.0,0.1239396465364362,0.1239396465364362,0.0],\"yaxis\":\"y\"},{\"hoverinfo\":\"text\",\"marker\":{\"color\":\"rgb(255,65,54)\"},\"mode\":\"lines\",\"type\":\"scatter\",\"x\":[535.0,535.0,550.0,550.0],\"xaxis\":\"x\",\"y\":[0.0,0.13590726666866065,0.13590726666866065,0.1239396465364362],\"yaxis\":\"y\"},{\"hoverinfo\":\"text\",\"marker\":{\"color\":\"rgb(255,65,54)\"},\"mode\":\"lines\",\"type\":\"scatter\",\"x\":[525.0,525.0,542.5,542.5],\"xaxis\":\"x\",\"y\":[0.0,0.25517342420579586,0.25517342420579586,0.13590726666866065],\"yaxis\":\"y\"},{\"hoverinfo\":\"text\",\"marker\":{\"color\":\"rgb(255,65,54)\"},\"mode\":\"lines\",\"type\":\"scatter\",\"x\":[515.0,515.0,533.75,533.75],\"xaxis\":\"x\",\"y\":[0.0,0.5447863077413762,0.5447863077413762,0.25517342420579586],\"yaxis\":\"y\"},{\"hoverinfo\":\"text\",\"marker\":{\"color\":\"rgb(255,65,54)\"},\"mode\":\"lines\",\"type\":\"scatter\",\"x\":[505.0,505.0,524.375,524.375],\"xaxis\":\"x\",\"y\":[0.0,0.7594557047569647,0.7594557047569647,0.5447863077413762],\"yaxis\":\"y\"},{\"hoverinfo\":\"text\",\"marker\":{\"color\":\"rgb(255,65,54)\"},\"mode\":\"lines\",\"type\":\"scatter\",\"x\":[615.0,615.0,625.0,625.0],\"xaxis\":\"x\",\"y\":[0.0,0.10872808606149591,0.10872808606149591,0.0],\"yaxis\":\"y\"},{\"hoverinfo\":\"text\",\"marker\":{\"color\":\"rgb(255,65,54)\"},\"mode\":\"lines\",\"type\":\"scatter\",\"x\":[605.0,605.0,620.0,620.0],\"xaxis\":\"x\",\"y\":[0.0,0.24863100643992617,0.24863100643992617,0.10872808606149591],\"yaxis\":\"y\"},{\"hoverinfo\":\"text\",\"marker\":{\"color\":\"rgb(255,65,54)\"},\"mode\":\"lines\",\"type\":\"scatter\",\"x\":[595.0,595.0,612.5,612.5],\"xaxis\":\"x\",\"y\":[0.0,0.3103596504067757,0.3103596504067757,0.24863100643992617],\"yaxis\":\"y\"},{\"hoverinfo\":\"text\",\"marker\":{\"color\":\"rgb(255,65,54)\"},\"mode\":\"lines\",\"type\":\"scatter\",\"x\":[585.0,585.0,603.75,603.75],\"xaxis\":\"x\",\"y\":[0.0,0.34052289052949625,0.34052289052949625,0.3103596504067757],\"yaxis\":\"y\"},{\"hoverinfo\":\"text\",\"marker\":{\"color\":\"rgb(255,65,54)\"},\"mode\":\"lines\",\"type\":\"scatter\",\"x\":[575.0,575.0,594.375,594.375],\"xaxis\":\"x\",\"y\":[0.0,0.4580224612154701,0.4580224612154701,0.34052289052949625],\"yaxis\":\"y\"},{\"hoverinfo\":\"text\",\"marker\":{\"color\":\"rgb(255,65,54)\"},\"mode\":\"lines\",\"type\":\"scatter\",\"x\":[565.0,565.0,584.6875,584.6875],\"xaxis\":\"x\",\"y\":[0.0,0.6328596409716509,0.6328596409716509,0.4580224612154701],\"yaxis\":\"y\"},{\"hoverinfo\":\"text\",\"marker\":{\"color\":\"rgb(255,65,54)\"},\"mode\":\"lines\",\"type\":\"scatter\",\"x\":[655.0,655.0,665.0,665.0],\"xaxis\":\"x\",\"y\":[0.0,0.330122493660732,0.330122493660732,0.0],\"yaxis\":\"y\"},{\"hoverinfo\":\"text\",\"marker\":{\"color\":\"rgb(255,65,54)\"},\"mode\":\"lines\",\"type\":\"scatter\",\"x\":[645.0,645.0,660.0,660.0],\"xaxis\":\"x\",\"y\":[0.0,0.7305485179375668,0.7305485179375668,0.330122493660732],\"yaxis\":\"y\"},{\"hoverinfo\":\"text\",\"marker\":{\"color\":\"rgb(255,65,54)\"},\"mode\":\"lines\",\"type\":\"scatter\",\"x\":[635.0,635.0,652.5,652.5],\"xaxis\":\"x\",\"y\":[0.0,0.9038792124938694,0.9038792124938694,0.7305485179375668],\"yaxis\":\"y\"},{\"hoverinfo\":\"text\",\"marker\":{\"color\":\"rgb(255,65,54)\"},\"mode\":\"lines\",\"type\":\"scatter\",\"x\":[574.84375,574.84375,643.75,643.75],\"xaxis\":\"x\",\"y\":[0.6328596409716509,1.129430703939148,1.129430703939148,0.9038792124938694],\"yaxis\":\"y\"},{\"hoverinfo\":\"text\",\"marker\":{\"color\":\"rgb(255,65,54)\"},\"mode\":\"lines\",\"type\":\"scatter\",\"x\":[514.6875,514.6875,609.296875,609.296875],\"xaxis\":\"x\",\"y\":[0.7594557047569647,1.2347821691300163,1.2347821691300163,1.129430703939148],\"yaxis\":\"y\"},{\"hoverinfo\":\"text\",\"marker\":{\"color\":\"rgb(255,65,54)\"},\"mode\":\"lines\",\"type\":\"scatter\",\"x\":[495.0,495.0,561.9921875,561.9921875],\"xaxis\":\"x\",\"y\":[0.0,1.6169388733732888,1.6169388733732888,1.2347821691300163],\"yaxis\":\"y\"},{\"hoverinfo\":\"text\",\"marker\":{\"color\":\"rgb(255,65,54)\"},\"mode\":\"lines\",\"type\":\"scatter\",\"x\":[472.5,472.5,528.49609375,528.49609375],\"xaxis\":\"x\",\"y\":[1.352122707862348,2.036524424815918,2.036524424815918,1.6169388733732888],\"yaxis\":\"y\"},{\"hoverinfo\":\"text\",\"marker\":{\"color\":\"rgb(255,65,54)\"},\"mode\":\"lines\",\"type\":\"scatter\",\"x\":[418.125,418.125,500.498046875,500.498046875],\"xaxis\":\"x\",\"y\":[1.8603610889466018,2.5621735847387357,2.5621735847387357,2.036524424815918],\"yaxis\":\"y\"},{\"hoverinfo\":\"text\",\"marker\":{\"color\":\"rgb(255,65,54)\"},\"mode\":\"lines\",\"type\":\"scatter\",\"x\":[385.0,385.0,459.3115234375,459.3115234375],\"xaxis\":\"x\",\"y\":[0.0,3.0148220420543335,3.0148220420543335,2.5621735847387357],\"yaxis\":\"y\"},{\"hoverinfo\":\"text\",\"marker\":{\"color\":\"rgb(255,65,54)\"},\"mode\":\"lines\",\"type\":\"scatter\",\"x\":[260.390625,260.390625,422.15576171875,422.15576171875],\"xaxis\":\"x\",\"y\":[2.7618057981147563,4.3143933869238005,4.3143933869238005,3.0148220420543335],\"yaxis\":\"y\"},{\"hoverinfo\":\"text\",\"marker\":{\"color\":\"rgb(255,65,54)\"},\"mode\":\"lines\",\"type\":\"scatter\",\"x\":[128.125,128.125,341.273193359375,341.273193359375],\"xaxis\":\"x\",\"y\":[3.3099197213846785,4.861010239056859,4.861010239056859,4.3143933869238005],\"yaxis\":\"y\"},{\"hoverinfo\":\"text\",\"marker\":{\"color\":\"rgb(35,205,205)\"},\"mode\":\"lines\",\"type\":\"scatter\",\"x\":[705.0,705.0,715.0,715.0],\"xaxis\":\"x\",\"y\":[0.0,0.8086400230164167,0.8086400230164167,0.0],\"yaxis\":\"y\"},{\"hoverinfo\":\"text\",\"marker\":{\"color\":\"rgb(35,205,205)\"},\"mode\":\"lines\",\"type\":\"scatter\",\"x\":[695.0,695.0,710.0,710.0],\"xaxis\":\"x\",\"y\":[0.0,1.2870697435665612,1.2870697435665612,0.8086400230164167],\"yaxis\":\"y\"},{\"hoverinfo\":\"text\",\"marker\":{\"color\":\"rgb(35,205,205)\"},\"mode\":\"lines\",\"type\":\"scatter\",\"x\":[685.0,685.0,702.5,702.5],\"xaxis\":\"x\",\"y\":[0.0,1.588654722308903,1.588654722308903,1.2870697435665612],\"yaxis\":\"y\"},{\"hoverinfo\":\"text\",\"marker\":{\"color\":\"rgb(35,205,205)\"},\"mode\":\"lines\",\"type\":\"scatter\",\"x\":[675.0,675.0,693.75,693.75],\"xaxis\":\"x\",\"y\":[0.0,1.9471226840298794,1.9471226840298794,1.588654722308903],\"yaxis\":\"y\"},{\"hoverinfo\":\"text\",\"marker\":{\"color\":\"rgb(35,205,205)\"},\"mode\":\"lines\",\"type\":\"scatter\",\"x\":[755.0,755.0,765.0,765.0],\"xaxis\":\"x\",\"y\":[0.0,0.4010036862916853,0.4010036862916853,0.0],\"yaxis\":\"y\"},{\"hoverinfo\":\"text\",\"marker\":{\"color\":\"rgb(35,205,205)\"},\"mode\":\"lines\",\"type\":\"scatter\",\"x\":[745.0,745.0,760.0,760.0],\"xaxis\":\"x\",\"y\":[0.0,0.6847457794527139,0.6847457794527139,0.4010036862916853],\"yaxis\":\"y\"},{\"hoverinfo\":\"text\",\"marker\":{\"color\":\"rgb(35,205,205)\"},\"mode\":\"lines\",\"type\":\"scatter\",\"x\":[735.0,735.0,752.5,752.5],\"xaxis\":\"x\",\"y\":[0.0,1.2479633533479373,1.2479633533479373,0.6847457794527139],\"yaxis\":\"y\"},{\"hoverinfo\":\"text\",\"marker\":{\"color\":\"rgb(35,205,205)\"},\"mode\":\"lines\",\"type\":\"scatter\",\"x\":[775.0,775.0,785.0,785.0],\"xaxis\":\"x\",\"y\":[0.0,1.412130302484102,1.412130302484102,0.0],\"yaxis\":\"y\"},{\"hoverinfo\":\"text\",\"marker\":{\"color\":\"rgb(35,205,205)\"},\"mode\":\"lines\",\"type\":\"scatter\",\"x\":[743.75,743.75,780.0,780.0],\"xaxis\":\"x\",\"y\":[1.2479633533479373,1.8009147414360183,1.8009147414360183,1.412130302484102],\"yaxis\":\"y\"},{\"hoverinfo\":\"text\",\"marker\":{\"color\":\"rgb(35,205,205)\"},\"mode\":\"lines\",\"type\":\"scatter\",\"x\":[725.0,725.0,761.875,761.875],\"xaxis\":\"x\",\"y\":[0.0,2.5757262292839482,2.5757262292839482,1.8009147414360183],\"yaxis\":\"y\"},{\"hoverinfo\":\"text\",\"marker\":{\"color\":\"rgb(35,205,205)\"},\"mode\":\"lines\",\"type\":\"scatter\",\"x\":[684.375,684.375,743.4375,743.4375],\"xaxis\":\"x\",\"y\":[1.9471226840298794,2.845134346736344,2.845134346736344,2.5757262292839482],\"yaxis\":\"y\"},{\"hoverinfo\":\"text\",\"marker\":{\"color\":\"rgb(35,205,205)\"},\"mode\":\"lines\",\"type\":\"scatter\",\"x\":[805.0,805.0,815.0,815.0],\"xaxis\":\"x\",\"y\":[0.0,0.9264410510933155,0.9264410510933155,0.0],\"yaxis\":\"y\"},{\"hoverinfo\":\"text\",\"marker\":{\"color\":\"rgb(35,205,205)\"},\"mode\":\"lines\",\"type\":\"scatter\",\"x\":[875.0,875.0,885.0,885.0],\"xaxis\":\"x\",\"y\":[0.0,0.13729557173289111,0.13729557173289111,0.0],\"yaxis\":\"y\"},{\"hoverinfo\":\"text\",\"marker\":{\"color\":\"rgb(35,205,205)\"},\"mode\":\"lines\",\"type\":\"scatter\",\"x\":[865.0,865.0,880.0,880.0],\"xaxis\":\"x\",\"y\":[0.0,0.17495097634924864,0.17495097634924864,0.13729557173289111],\"yaxis\":\"y\"},{\"hoverinfo\":\"text\",\"marker\":{\"color\":\"rgb(35,205,205)\"},\"mode\":\"lines\",\"type\":\"scatter\",\"x\":[855.0,855.0,872.5,872.5],\"xaxis\":\"x\",\"y\":[0.0,0.2315953472643804,0.2315953472643804,0.17495097634924864],\"yaxis\":\"y\"},{\"hoverinfo\":\"text\",\"marker\":{\"color\":\"rgb(35,205,205)\"},\"mode\":\"lines\",\"type\":\"scatter\",\"x\":[845.0,845.0,863.75,863.75],\"xaxis\":\"x\",\"y\":[0.0,0.5629548743096849,0.5629548743096849,0.2315953472643804],\"yaxis\":\"y\"},{\"hoverinfo\":\"text\",\"marker\":{\"color\":\"rgb(35,205,205)\"},\"mode\":\"lines\",\"type\":\"scatter\",\"x\":[835.0,835.0,854.375,854.375],\"xaxis\":\"x\",\"y\":[0.0,0.8507335368491594,0.8507335368491594,0.5629548743096849],\"yaxis\":\"y\"},{\"hoverinfo\":\"text\",\"marker\":{\"color\":\"rgb(35,205,205)\"},\"mode\":\"lines\",\"type\":\"scatter\",\"x\":[825.0,825.0,844.6875,844.6875],\"xaxis\":\"x\",\"y\":[0.0,1.0465669562706594,1.0465669562706594,0.8507335368491594],\"yaxis\":\"y\"},{\"hoverinfo\":\"text\",\"marker\":{\"color\":\"rgb(35,205,205)\"},\"mode\":\"lines\",\"type\":\"scatter\",\"x\":[810.0,810.0,834.84375,834.84375],\"xaxis\":\"x\",\"y\":[0.9264410510933155,1.1627422027307432,1.1627422027307432,1.0465669562706594],\"yaxis\":\"y\"},{\"hoverinfo\":\"text\",\"marker\":{\"color\":\"rgb(35,205,205)\"},\"mode\":\"lines\",\"type\":\"scatter\",\"x\":[925.0,925.0,935.0,935.0],\"xaxis\":\"x\",\"y\":[0.0,0.6785099936792176,0.6785099936792176,0.0],\"yaxis\":\"y\"},{\"hoverinfo\":\"text\",\"marker\":{\"color\":\"rgb(35,205,205)\"},\"mode\":\"lines\",\"type\":\"scatter\",\"x\":[955.0,955.0,965.0,965.0],\"xaxis\":\"x\",\"y\":[0.0,0.5542752515812555,0.5542752515812555,0.0],\"yaxis\":\"y\"},{\"hoverinfo\":\"text\",\"marker\":{\"color\":\"rgb(35,205,205)\"},\"mode\":\"lines\",\"type\":\"scatter\",\"x\":[945.0,945.0,960.0,960.0],\"xaxis\":\"x\",\"y\":[0.0,0.7895663379990205,0.7895663379990205,0.5542752515812555],\"yaxis\":\"y\"},{\"hoverinfo\":\"text\",\"marker\":{\"color\":\"rgb(35,205,205)\"},\"mode\":\"lines\",\"type\":\"scatter\",\"x\":[930.0,930.0,952.5,952.5],\"xaxis\":\"x\",\"y\":[0.6785099936792176,1.277014101479904,1.277014101479904,0.7895663379990205],\"yaxis\":\"y\"},{\"hoverinfo\":\"text\",\"marker\":{\"color\":\"rgb(35,205,205)\"},\"mode\":\"lines\",\"type\":\"scatter\",\"x\":[915.0,915.0,941.25,941.25],\"xaxis\":\"x\",\"y\":[0.0,1.5220055593226465,1.5220055593226465,1.277014101479904],\"yaxis\":\"y\"},{\"hoverinfo\":\"text\",\"marker\":{\"color\":\"rgb(35,205,205)\"},\"mode\":\"lines\",\"type\":\"scatter\",\"x\":[905.0,905.0,928.125,928.125],\"xaxis\":\"x\",\"y\":[0.0,1.7219257355046713,1.7219257355046713,1.5220055593226465],\"yaxis\":\"y\"},{\"hoverinfo\":\"text\",\"marker\":{\"color\":\"rgb(35,205,205)\"},\"mode\":\"lines\",\"type\":\"scatter\",\"x\":[895.0,895.0,916.5625,916.5625],\"xaxis\":\"x\",\"y\":[0.0,2.0429773464897436,2.0429773464897436,1.7219257355046713],\"yaxis\":\"y\"},{\"hoverinfo\":\"text\",\"marker\":{\"color\":\"rgb(35,205,205)\"},\"mode\":\"lines\",\"type\":\"scatter\",\"x\":[822.421875,822.421875,905.78125,905.78125],\"xaxis\":\"x\",\"y\":[1.1627422027307432,2.293396696058748,2.293396696058748,2.0429773464897436],\"yaxis\":\"y\"},{\"hoverinfo\":\"text\",\"marker\":{\"color\":\"rgb(35,205,205)\"},\"mode\":\"lines\",\"type\":\"scatter\",\"x\":[795.0,795.0,864.1015625,864.1015625],\"xaxis\":\"x\",\"y\":[0.0,2.8597815760374994,2.8597815760374994,2.293396696058748],\"yaxis\":\"y\"},{\"hoverinfo\":\"text\",\"marker\":{\"color\":\"rgb(35,205,205)\"},\"mode\":\"lines\",\"type\":\"scatter\",\"x\":[1005.0,1005.0,1015.0,1015.0],\"xaxis\":\"x\",\"y\":[0.0,0.291132500612128,0.291132500612128,0.0],\"yaxis\":\"y\"},{\"hoverinfo\":\"text\",\"marker\":{\"color\":\"rgb(35,205,205)\"},\"mode\":\"lines\",\"type\":\"scatter\",\"x\":[995.0,995.0,1010.0,1010.0],\"xaxis\":\"x\",\"y\":[0.0,1.084482073802253,1.084482073802253,0.291132500612128],\"yaxis\":\"y\"},{\"hoverinfo\":\"text\",\"marker\":{\"color\":\"rgb(35,205,205)\"},\"mode\":\"lines\",\"type\":\"scatter\",\"x\":[1025.0,1025.0,1035.0,1035.0],\"xaxis\":\"x\",\"y\":[0.0,1.1246555717169064,1.1246555717169064,0.0],\"yaxis\":\"y\"},{\"hoverinfo\":\"text\",\"marker\":{\"color\":\"rgb(35,205,205)\"},\"mode\":\"lines\",\"type\":\"scatter\",\"x\":[1085.0,1085.0,1095.0,1095.0],\"xaxis\":\"x\",\"y\":[0.0,0.25826292061729894,0.25826292061729894,0.0],\"yaxis\":\"y\"},{\"hoverinfo\":\"text\",\"marker\":{\"color\":\"rgb(35,205,205)\"},\"mode\":\"lines\",\"type\":\"scatter\",\"x\":[1075.0,1075.0,1090.0,1090.0],\"xaxis\":\"x\",\"y\":[0.0,0.36275191452364636,0.36275191452364636,0.25826292061729894],\"yaxis\":\"y\"},{\"hoverinfo\":\"text\",\"marker\":{\"color\":\"rgb(35,205,205)\"},\"mode\":\"lines\",\"type\":\"scatter\",\"x\":[1065.0,1065.0,1082.5,1082.5],\"xaxis\":\"x\",\"y\":[0.0,0.9336398439104784,0.9336398439104784,0.36275191452364636],\"yaxis\":\"y\"},{\"hoverinfo\":\"text\",\"marker\":{\"color\":\"rgb(35,205,205)\"},\"mode\":\"lines\",\"type\":\"scatter\",\"x\":[1055.0,1055.0,1073.75,1073.75],\"xaxis\":\"x\",\"y\":[0.0,1.315399335346702,1.315399335346702,0.9336398439104784],\"yaxis\":\"y\"},{\"hoverinfo\":\"text\",\"marker\":{\"color\":\"rgb(35,205,205)\"},\"mode\":\"lines\",\"type\":\"scatter\",\"x\":[1045.0,1045.0,1064.375,1064.375],\"xaxis\":\"x\",\"y\":[0.0,1.4049408503722443,1.4049408503722443,1.315399335346702],\"yaxis\":\"y\"},{\"hoverinfo\":\"text\",\"marker\":{\"color\":\"rgb(35,205,205)\"},\"mode\":\"lines\",\"type\":\"scatter\",\"x\":[1030.0,1030.0,1054.6875,1054.6875],\"xaxis\":\"x\",\"y\":[1.1246555717169064,1.5888238800843124,1.5888238800843124,1.4049408503722443],\"yaxis\":\"y\"},{\"hoverinfo\":\"text\",\"marker\":{\"color\":\"rgb(35,205,205)\"},\"mode\":\"lines\",\"type\":\"scatter\",\"x\":[1002.5,1002.5,1042.34375,1042.34375],\"xaxis\":\"x\",\"y\":[1.084482073802253,1.7518638353282772,1.7518638353282772,1.5888238800843124],\"yaxis\":\"y\"},{\"hoverinfo\":\"text\",\"marker\":{\"color\":\"rgb(35,205,205)\"},\"mode\":\"lines\",\"type\":\"scatter\",\"x\":[1105.0,1105.0,1115.0,1115.0],\"xaxis\":\"x\",\"y\":[0.0,1.7688165643266283,1.7688165643266283,0.0],\"yaxis\":\"y\"},{\"hoverinfo\":\"text\",\"marker\":{\"color\":\"rgb(35,205,205)\"},\"mode\":\"lines\",\"type\":\"scatter\",\"x\":[1022.421875,1022.421875,1110.0,1110.0],\"xaxis\":\"x\",\"y\":[1.7518638353282772,2.3257346493806472,2.3257346493806472,1.7688165643266283],\"yaxis\":\"y\"},{\"hoverinfo\":\"text\",\"marker\":{\"color\":\"rgb(35,205,205)\"},\"mode\":\"lines\",\"type\":\"scatter\",\"x\":[985.0,985.0,1066.2109375,1066.2109375],\"xaxis\":\"x\",\"y\":[0.0,2.73467393400662,2.73467393400662,2.3257346493806472],\"yaxis\":\"y\"},{\"hoverinfo\":\"text\",\"marker\":{\"color\":\"rgb(35,205,205)\"},\"mode\":\"lines\",\"type\":\"scatter\",\"x\":[975.0,975.0,1025.60546875,1025.60546875],\"xaxis\":\"x\",\"y\":[0.0,3.430327497734827,3.430327497734827,2.73467393400662],\"yaxis\":\"y\"},{\"hoverinfo\":\"text\",\"marker\":{\"color\":\"rgb(35,205,205)\"},\"mode\":\"lines\",\"type\":\"scatter\",\"x\":[829.55078125,829.55078125,1000.302734375,1000.302734375],\"xaxis\":\"x\",\"y\":[2.8597815760374994,3.9158660659990447,3.9158660659990447,3.430327497734827],\"yaxis\":\"y\"},{\"hoverinfo\":\"text\",\"marker\":{\"color\":\"rgb(35,205,205)\"},\"mode\":\"lines\",\"type\":\"scatter\",\"x\":[713.90625,713.90625,914.9267578125,914.9267578125],\"xaxis\":\"x\",\"y\":[2.845134346736344,4.328349859458111,4.328349859458111,3.9158660659990447],\"yaxis\":\"y\"},{\"hoverinfo\":\"text\",\"marker\":{\"color\":\"rgb(133,20,75)\"},\"mode\":\"lines\",\"type\":\"scatter\",\"x\":[1135.0,1135.0,1145.0,1145.0],\"xaxis\":\"x\",\"y\":[0.0,0.9472166423690749,0.9472166423690749,0.0],\"yaxis\":\"y\"},{\"hoverinfo\":\"text\",\"marker\":{\"color\":\"rgb(133,20,75)\"},\"mode\":\"lines\",\"type\":\"scatter\",\"x\":[1165.0,1165.0,1175.0,1175.0],\"xaxis\":\"x\",\"y\":[0.0,0.7171904212330531,0.7171904212330531,0.0],\"yaxis\":\"y\"},{\"hoverinfo\":\"text\",\"marker\":{\"color\":\"rgb(133,20,75)\"},\"mode\":\"lines\",\"type\":\"scatter\",\"x\":[1185.0,1185.0,1195.0,1195.0],\"xaxis\":\"x\",\"y\":[0.0,0.5123309061105095,0.5123309061105095,0.0],\"yaxis\":\"y\"},{\"hoverinfo\":\"text\",\"marker\":{\"color\":\"rgb(133,20,75)\"},\"mode\":\"lines\",\"type\":\"scatter\",\"x\":[1205.0,1205.0,1215.0,1215.0],\"xaxis\":\"x\",\"y\":[0.0,0.6181723223139393,0.6181723223139393,0.0],\"yaxis\":\"y\"},{\"hoverinfo\":\"text\",\"marker\":{\"color\":\"rgb(133,20,75)\"},\"mode\":\"lines\",\"type\":\"scatter\",\"x\":[1190.0,1190.0,1210.0,1210.0],\"xaxis\":\"x\",\"y\":[0.5123309061105095,0.7980762137196117,0.7980762137196117,0.6181723223139393],\"yaxis\":\"y\"},{\"hoverinfo\":\"text\",\"marker\":{\"color\":\"rgb(133,20,75)\"},\"mode\":\"lines\",\"type\":\"scatter\",\"x\":[1170.0,1170.0,1200.0,1200.0],\"xaxis\":\"x\",\"y\":[0.7171904212330531,1.0477146199606455,1.0477146199606455,0.7980762137196117],\"yaxis\":\"y\"},{\"hoverinfo\":\"text\",\"marker\":{\"color\":\"rgb(133,20,75)\"},\"mode\":\"lines\",\"type\":\"scatter\",\"x\":[1155.0,1155.0,1185.0,1185.0],\"xaxis\":\"x\",\"y\":[0.0,1.2841887849808005,1.2841887849808005,1.0477146199606455],\"yaxis\":\"y\"},{\"hoverinfo\":\"text\",\"marker\":{\"color\":\"rgb(133,20,75)\"},\"mode\":\"lines\",\"type\":\"scatter\",\"x\":[1140.0,1140.0,1170.0,1170.0],\"xaxis\":\"x\",\"y\":[0.9472166423690749,1.557586300845052,1.557586300845052,1.2841887849808005],\"yaxis\":\"y\"},{\"hoverinfo\":\"text\",\"marker\":{\"color\":\"rgb(133,20,75)\"},\"mode\":\"lines\",\"type\":\"scatter\",\"x\":[1225.0,1225.0,1235.0,1235.0],\"xaxis\":\"x\",\"y\":[0.0,0.8247365350176993,0.8247365350176993,0.0],\"yaxis\":\"y\"},{\"hoverinfo\":\"text\",\"marker\":{\"color\":\"rgb(133,20,75)\"},\"mode\":\"lines\",\"type\":\"scatter\",\"x\":[1275.0,1275.0,1285.0,1285.0],\"xaxis\":\"x\",\"y\":[0.0,0.5759731982906122,0.5759731982906122,0.0],\"yaxis\":\"y\"},{\"hoverinfo\":\"text\",\"marker\":{\"color\":\"rgb(133,20,75)\"},\"mode\":\"lines\",\"type\":\"scatter\",\"x\":[1265.0,1265.0,1280.0,1280.0],\"xaxis\":\"x\",\"y\":[0.0,0.640343153259477,0.640343153259477,0.5759731982906122],\"yaxis\":\"y\"},{\"hoverinfo\":\"text\",\"marker\":{\"color\":\"rgb(133,20,75)\"},\"mode\":\"lines\",\"type\":\"scatter\",\"x\":[1255.0,1255.0,1272.5,1272.5],\"xaxis\":\"x\",\"y\":[0.0,1.0500933727300912,1.0500933727300912,0.640343153259477],\"yaxis\":\"y\"},{\"hoverinfo\":\"text\",\"marker\":{\"color\":\"rgb(133,20,75)\"},\"mode\":\"lines\",\"type\":\"scatter\",\"x\":[1245.0,1245.0,1263.75,1263.75],\"xaxis\":\"x\",\"y\":[0.0,1.3806881445257053,1.3806881445257053,1.0500933727300912],\"yaxis\":\"y\"},{\"hoverinfo\":\"text\",\"marker\":{\"color\":\"rgb(133,20,75)\"},\"mode\":\"lines\",\"type\":\"scatter\",\"x\":[1295.0,1295.0,1305.0,1305.0],\"xaxis\":\"x\",\"y\":[0.0,1.124180410621597,1.124180410621597,0.0],\"yaxis\":\"y\"},{\"hoverinfo\":\"text\",\"marker\":{\"color\":\"rgb(133,20,75)\"},\"mode\":\"lines\",\"type\":\"scatter\",\"x\":[1335.0,1335.0,1345.0,1345.0],\"xaxis\":\"x\",\"y\":[0.0,0.4268164142342821,0.4268164142342821,0.0],\"yaxis\":\"y\"},{\"hoverinfo\":\"text\",\"marker\":{\"color\":\"rgb(133,20,75)\"},\"mode\":\"lines\",\"type\":\"scatter\",\"x\":[1355.0,1355.0,1365.0,1365.0],\"xaxis\":\"x\",\"y\":[0.0,0.503100267264685,0.503100267264685,0.0],\"yaxis\":\"y\"},{\"hoverinfo\":\"text\",\"marker\":{\"color\":\"rgb(133,20,75)\"},\"mode\":\"lines\",\"type\":\"scatter\",\"x\":[1340.0,1340.0,1360.0,1360.0],\"xaxis\":\"x\",\"y\":[0.4268164142342821,0.6126726759108446,0.6126726759108446,0.503100267264685],\"yaxis\":\"y\"},{\"hoverinfo\":\"text\",\"marker\":{\"color\":\"rgb(133,20,75)\"},\"mode\":\"lines\",\"type\":\"scatter\",\"x\":[1325.0,1325.0,1350.0,1350.0],\"xaxis\":\"x\",\"y\":[0.0,0.7024184313556522,0.7024184313556522,0.6126726759108446],\"yaxis\":\"y\"},{\"hoverinfo\":\"text\",\"marker\":{\"color\":\"rgb(133,20,75)\"},\"mode\":\"lines\",\"type\":\"scatter\",\"x\":[1385.0,1385.0,1395.0,1395.0],\"xaxis\":\"x\",\"y\":[0.0,0.4764533136657125,0.4764533136657125,0.0],\"yaxis\":\"y\"},{\"hoverinfo\":\"text\",\"marker\":{\"color\":\"rgb(133,20,75)\"},\"mode\":\"lines\",\"type\":\"scatter\",\"x\":[1375.0,1375.0,1390.0,1390.0],\"xaxis\":\"x\",\"y\":[0.0,0.7376346119358557,0.7376346119358557,0.4764533136657125],\"yaxis\":\"y\"},{\"hoverinfo\":\"text\",\"marker\":{\"color\":\"rgb(133,20,75)\"},\"mode\":\"lines\",\"type\":\"scatter\",\"x\":[1337.5,1337.5,1382.5,1382.5],\"xaxis\":\"x\",\"y\":[0.7024184313556522,0.861561551516474,0.861561551516474,0.7376346119358557],\"yaxis\":\"y\"},{\"hoverinfo\":\"text\",\"marker\":{\"color\":\"rgb(133,20,75)\"},\"mode\":\"lines\",\"type\":\"scatter\",\"x\":[1315.0,1315.0,1360.0,1360.0],\"xaxis\":\"x\",\"y\":[0.0,1.1489716626442634,1.1489716626442634,0.861561551516474],\"yaxis\":\"y\"},{\"hoverinfo\":\"text\",\"marker\":{\"color\":\"rgb(133,20,75)\"},\"mode\":\"lines\",\"type\":\"scatter\",\"x\":[1300.0,1300.0,1337.5,1337.5],\"xaxis\":\"x\",\"y\":[1.124180410621597,1.405690543438375,1.405690543438375,1.1489716626442634],\"yaxis\":\"y\"},{\"hoverinfo\":\"text\",\"marker\":{\"color\":\"rgb(133,20,75)\"},\"mode\":\"lines\",\"type\":\"scatter\",\"x\":[1254.375,1254.375,1318.75,1318.75],\"xaxis\":\"x\",\"y\":[1.3806881445257053,1.5647054607823747,1.5647054607823747,1.405690543438375],\"yaxis\":\"y\"},{\"hoverinfo\":\"text\",\"marker\":{\"color\":\"rgb(133,20,75)\"},\"mode\":\"lines\",\"type\":\"scatter\",\"x\":[1230.0,1230.0,1286.5625,1286.5625],\"xaxis\":\"x\",\"y\":[0.8247365350176993,1.7485228162426067,1.7485228162426067,1.5647054607823747],\"yaxis\":\"y\"},{\"hoverinfo\":\"text\",\"marker\":{\"color\":\"rgb(133,20,75)\"},\"mode\":\"lines\",\"type\":\"scatter\",\"x\":[1155.0,1155.0,1258.28125,1258.28125],\"xaxis\":\"x\",\"y\":[1.557586300845052,1.7883481622652795,1.7883481622652795,1.7485228162426067],\"yaxis\":\"y\"},{\"hoverinfo\":\"text\",\"marker\":{\"color\":\"rgb(133,20,75)\"},\"mode\":\"lines\",\"type\":\"scatter\",\"x\":[1125.0,1125.0,1206.640625,1206.640625],\"xaxis\":\"x\",\"y\":[0.0,2.0897999924787616,2.0897999924787616,1.7883481622652795],\"yaxis\":\"y\"},{\"hoverinfo\":\"text\",\"marker\":{\"color\":\"rgb(133,20,75)\"},\"mode\":\"lines\",\"type\":\"scatter\",\"x\":[1425.0,1425.0,1435.0,1435.0],\"xaxis\":\"x\",\"y\":[0.0,0.5738280482366581,0.5738280482366581,0.0],\"yaxis\":\"y\"},{\"hoverinfo\":\"text\",\"marker\":{\"color\":\"rgb(133,20,75)\"},\"mode\":\"lines\",\"type\":\"scatter\",\"x\":[1455.0,1455.0,1465.0,1465.0],\"xaxis\":\"x\",\"y\":[0.0,0.36746809124276864,0.36746809124276864,0.0],\"yaxis\":\"y\"},{\"hoverinfo\":\"text\",\"marker\":{\"color\":\"rgb(133,20,75)\"},\"mode\":\"lines\",\"type\":\"scatter\",\"x\":[1495.0,1495.0,1505.0,1505.0],\"xaxis\":\"x\",\"y\":[0.0,0.3258950690792139,0.3258950690792139,0.0],\"yaxis\":\"y\"},{\"hoverinfo\":\"text\",\"marker\":{\"color\":\"rgb(133,20,75)\"},\"mode\":\"lines\",\"type\":\"scatter\",\"x\":[1485.0,1485.0,1500.0,1500.0],\"xaxis\":\"x\",\"y\":[0.0,0.3631647006025561,0.3631647006025561,0.3258950690792139],\"yaxis\":\"y\"},{\"hoverinfo\":\"text\",\"marker\":{\"color\":\"rgb(133,20,75)\"},\"mode\":\"lines\",\"type\":\"scatter\",\"x\":[1475.0,1475.0,1492.5,1492.5],\"xaxis\":\"x\",\"y\":[0.0,0.42221518887062254,0.42221518887062254,0.3631647006025561],\"yaxis\":\"y\"},{\"hoverinfo\":\"text\",\"marker\":{\"color\":\"rgb(133,20,75)\"},\"mode\":\"lines\",\"type\":\"scatter\",\"x\":[1460.0,1460.0,1483.75,1483.75],\"xaxis\":\"x\",\"y\":[0.36746809124276864,0.5386576706932094,0.5386576706932094,0.42221518887062254],\"yaxis\":\"y\"},{\"hoverinfo\":\"text\",\"marker\":{\"color\":\"rgb(133,20,75)\"},\"mode\":\"lines\",\"type\":\"scatter\",\"x\":[1445.0,1445.0,1471.875,1471.875],\"xaxis\":\"x\",\"y\":[0.0,0.701108478065463,0.701108478065463,0.5386576706932094],\"yaxis\":\"y\"},{\"hoverinfo\":\"text\",\"marker\":{\"color\":\"rgb(133,20,75)\"},\"mode\":\"lines\",\"type\":\"scatter\",\"x\":[1430.0,1430.0,1458.4375,1458.4375],\"xaxis\":\"x\",\"y\":[0.5738280482366581,0.8977653494054177,0.8977653494054177,0.701108478065463],\"yaxis\":\"y\"},{\"hoverinfo\":\"text\",\"marker\":{\"color\":\"rgb(133,20,75)\"},\"mode\":\"lines\",\"type\":\"scatter\",\"x\":[1415.0,1415.0,1444.21875,1444.21875],\"xaxis\":\"x\",\"y\":[0.0,0.980948994126785,0.980948994126785,0.8977653494054177],\"yaxis\":\"y\"},{\"hoverinfo\":\"text\",\"marker\":{\"color\":\"rgb(133,20,75)\"},\"mode\":\"lines\",\"type\":\"scatter\",\"x\":[1405.0,1405.0,1429.609375,1429.609375],\"xaxis\":\"x\",\"y\":[0.0,2.2473847309534145,2.2473847309534145,0.980948994126785],\"yaxis\":\"y\"},{\"hoverinfo\":\"text\",\"marker\":{\"color\":\"rgb(133,20,75)\"},\"mode\":\"lines\",\"type\":\"scatter\",\"x\":[1165.8203125,1165.8203125,1417.3046875,1417.3046875],\"xaxis\":\"x\",\"y\":[2.0897999924787616,2.9514277556055313,2.9514277556055313,2.2473847309534145],\"yaxis\":\"y\"},{\"hoverinfo\":\"text\",\"marker\":{\"color\":\"rgb(133,20,75)\"},\"mode\":\"lines\",\"type\":\"scatter\",\"x\":[1545.0,1545.0,1555.0,1555.0],\"xaxis\":\"x\",\"y\":[0.0,1.0050481144319425,1.0050481144319425,0.0],\"yaxis\":\"y\"},{\"hoverinfo\":\"text\",\"marker\":{\"color\":\"rgb(133,20,75)\"},\"mode\":\"lines\",\"type\":\"scatter\",\"x\":[1535.0,1535.0,1550.0,1550.0],\"xaxis\":\"x\",\"y\":[0.0,1.2778189534828512,1.2778189534828512,1.0050481144319425],\"yaxis\":\"y\"},{\"hoverinfo\":\"text\",\"marker\":{\"color\":\"rgb(133,20,75)\"},\"mode\":\"lines\",\"type\":\"scatter\",\"x\":[1525.0,1525.0,1542.5,1542.5],\"xaxis\":\"x\",\"y\":[0.0,1.704463932411568,1.704463932411568,1.2778189534828512],\"yaxis\":\"y\"},{\"hoverinfo\":\"text\",\"marker\":{\"color\":\"rgb(133,20,75)\"},\"mode\":\"lines\",\"type\":\"scatter\",\"x\":[1515.0,1515.0,1533.75,1533.75],\"xaxis\":\"x\",\"y\":[0.0,1.8578059976279966,1.8578059976279966,1.704463932411568],\"yaxis\":\"y\"},{\"hoverinfo\":\"text\",\"marker\":{\"color\":\"rgb(133,20,75)\"},\"mode\":\"lines\",\"type\":\"scatter\",\"x\":[1565.0,1565.0,1575.0,1575.0],\"xaxis\":\"x\",\"y\":[0.0,1.5134973498930375,1.5134973498930375,0.0],\"yaxis\":\"y\"},{\"hoverinfo\":\"text\",\"marker\":{\"color\":\"rgb(133,20,75)\"},\"mode\":\"lines\",\"type\":\"scatter\",\"x\":[1585.0,1585.0,1595.0,1595.0],\"xaxis\":\"x\",\"y\":[0.0,1.3130159912555963,1.3130159912555963,0.0],\"yaxis\":\"y\"},{\"hoverinfo\":\"text\",\"marker\":{\"color\":\"rgb(133,20,75)\"},\"mode\":\"lines\",\"type\":\"scatter\",\"x\":[1605.0,1605.0,1615.0,1615.0],\"xaxis\":\"x\",\"y\":[0.0,0.8953358279479795,0.8953358279479795,0.0],\"yaxis\":\"y\"},{\"hoverinfo\":\"text\",\"marker\":{\"color\":\"rgb(133,20,75)\"},\"mode\":\"lines\",\"type\":\"scatter\",\"x\":[1635.0,1635.0,1645.0,1645.0],\"xaxis\":\"x\",\"y\":[0.0,0.9594901238442005,0.9594901238442005,0.0],\"yaxis\":\"y\"},{\"hoverinfo\":\"text\",\"marker\":{\"color\":\"rgb(133,20,75)\"},\"mode\":\"lines\",\"type\":\"scatter\",\"x\":[1625.0,1625.0,1640.0,1640.0],\"xaxis\":\"x\",\"y\":[0.0,1.1124403350867766,1.1124403350867766,0.9594901238442005],\"yaxis\":\"y\"},{\"hoverinfo\":\"text\",\"marker\":{\"color\":\"rgb(133,20,75)\"},\"mode\":\"lines\",\"type\":\"scatter\",\"x\":[1610.0,1610.0,1632.5,1632.5],\"xaxis\":\"x\",\"y\":[0.8953358279479795,1.1460080102218144,1.1460080102218144,1.1124403350867766],\"yaxis\":\"y\"},{\"hoverinfo\":\"text\",\"marker\":{\"color\":\"rgb(133,20,75)\"},\"mode\":\"lines\",\"type\":\"scatter\",\"x\":[1655.0,1655.0,1665.0,1665.0],\"xaxis\":\"x\",\"y\":[0.0,0.9280566944840736,0.9280566944840736,0.0],\"yaxis\":\"y\"},{\"hoverinfo\":\"text\",\"marker\":{\"color\":\"rgb(133,20,75)\"},\"mode\":\"lines\",\"type\":\"scatter\",\"x\":[1675.0,1675.0,1685.0,1685.0],\"xaxis\":\"x\",\"y\":[0.0,1.1147053921907586,1.1147053921907586,0.0],\"yaxis\":\"y\"},{\"hoverinfo\":\"text\",\"marker\":{\"color\":\"rgb(133,20,75)\"},\"mode\":\"lines\",\"type\":\"scatter\",\"x\":[1660.0,1660.0,1680.0,1680.0],\"xaxis\":\"x\",\"y\":[0.9280566944840736,1.1929677856187777,1.1929677856187777,1.1147053921907586],\"yaxis\":\"y\"},{\"hoverinfo\":\"text\",\"marker\":{\"color\":\"rgb(133,20,75)\"},\"mode\":\"lines\",\"type\":\"scatter\",\"x\":[1621.25,1621.25,1670.0,1670.0],\"xaxis\":\"x\",\"y\":[1.1460080102218144,1.336185070684337,1.336185070684337,1.1929677856187777],\"yaxis\":\"y\"},{\"hoverinfo\":\"text\",\"marker\":{\"color\":\"rgb(133,20,75)\"},\"mode\":\"lines\",\"type\":\"scatter\",\"x\":[1590.0,1590.0,1645.625,1645.625],\"xaxis\":\"x\",\"y\":[1.3130159912555963,1.4725231832229908,1.4725231832229908,1.336185070684337],\"yaxis\":\"y\"},{\"hoverinfo\":\"text\",\"marker\":{\"color\":\"rgb(133,20,75)\"},\"mode\":\"lines\",\"type\":\"scatter\",\"x\":[1695.0,1695.0,1705.0,1705.0],\"xaxis\":\"x\",\"y\":[0.0,1.2194136954483168,1.2194136954483168,0.0],\"yaxis\":\"y\"},{\"hoverinfo\":\"text\",\"marker\":{\"color\":\"rgb(133,20,75)\"},\"mode\":\"lines\",\"type\":\"scatter\",\"x\":[1745.0,1745.0,1755.0,1755.0],\"xaxis\":\"x\",\"y\":[0.0,0.46241195921671313,0.46241195921671313,0.0],\"yaxis\":\"y\"},{\"hoverinfo\":\"text\",\"marker\":{\"color\":\"rgb(133,20,75)\"},\"mode\":\"lines\",\"type\":\"scatter\",\"x\":[1735.0,1735.0,1750.0,1750.0],\"xaxis\":\"x\",\"y\":[0.0,0.7072449298263318,0.7072449298263318,0.46241195921671313],\"yaxis\":\"y\"},{\"hoverinfo\":\"text\",\"marker\":{\"color\":\"rgb(133,20,75)\"},\"mode\":\"lines\",\"type\":\"scatter\",\"x\":[1725.0,1725.0,1742.5,1742.5],\"xaxis\":\"x\",\"y\":[0.0,0.9811448889459967,0.9811448889459967,0.7072449298263318],\"yaxis\":\"y\"},{\"hoverinfo\":\"text\",\"marker\":{\"color\":\"rgb(133,20,75)\"},\"mode\":\"lines\",\"type\":\"scatter\",\"x\":[1715.0,1715.0,1733.75,1733.75],\"xaxis\":\"x\",\"y\":[0.0,1.0372847053842713,1.0372847053842713,0.9811448889459967],\"yaxis\":\"y\"},{\"hoverinfo\":\"text\",\"marker\":{\"color\":\"rgb(133,20,75)\"},\"mode\":\"lines\",\"type\":\"scatter\",\"x\":[1775.0,1775.0,1785.0,1785.0],\"xaxis\":\"x\",\"y\":[0.0,0.675842053144635,0.675842053144635,0.0],\"yaxis\":\"y\"},{\"hoverinfo\":\"text\",\"marker\":{\"color\":\"rgb(133,20,75)\"},\"mode\":\"lines\",\"type\":\"scatter\",\"x\":[1765.0,1765.0,1780.0,1780.0],\"xaxis\":\"x\",\"y\":[0.0,0.7052434135660876,0.7052434135660876,0.675842053144635],\"yaxis\":\"y\"},{\"hoverinfo\":\"text\",\"marker\":{\"color\":\"rgb(133,20,75)\"},\"mode\":\"lines\",\"type\":\"scatter\",\"x\":[1825.0,1825.0,1835.0,1835.0],\"xaxis\":\"x\",\"y\":[0.0,0.5793110404025077,0.5793110404025077,0.0],\"yaxis\":\"y\"},{\"hoverinfo\":\"text\",\"marker\":{\"color\":\"rgb(133,20,75)\"},\"mode\":\"lines\",\"type\":\"scatter\",\"x\":[1815.0,1815.0,1830.0,1830.0],\"xaxis\":\"x\",\"y\":[0.0,0.7252152359002728,0.7252152359002728,0.5793110404025077],\"yaxis\":\"y\"},{\"hoverinfo\":\"text\",\"marker\":{\"color\":\"rgb(133,20,75)\"},\"mode\":\"lines\",\"type\":\"scatter\",\"x\":[1805.0,1805.0,1822.5,1822.5],\"xaxis\":\"x\",\"y\":[0.0,0.9077741506980866,0.9077741506980866,0.7252152359002728],\"yaxis\":\"y\"},{\"hoverinfo\":\"text\",\"marker\":{\"color\":\"rgb(133,20,75)\"},\"mode\":\"lines\",\"type\":\"scatter\",\"x\":[1795.0,1795.0,1813.75,1813.75],\"xaxis\":\"x\",\"y\":[0.0,1.0302402760430887,1.0302402760430887,0.9077741506980866],\"yaxis\":\"y\"},{\"hoverinfo\":\"text\",\"marker\":{\"color\":\"rgb(133,20,75)\"},\"mode\":\"lines\",\"type\":\"scatter\",\"x\":[1772.5,1772.5,1804.375,1804.375],\"xaxis\":\"x\",\"y\":[0.7052434135660876,1.136209208744486,1.136209208744486,1.0302402760430887],\"yaxis\":\"y\"},{\"hoverinfo\":\"text\",\"marker\":{\"color\":\"rgb(133,20,75)\"},\"mode\":\"lines\",\"type\":\"scatter\",\"x\":[1724.375,1724.375,1788.4375,1788.4375],\"xaxis\":\"x\",\"y\":[1.0372847053842713,1.439237783350233,1.439237783350233,1.136209208744486],\"yaxis\":\"y\"},{\"hoverinfo\":\"text\",\"marker\":{\"color\":\"rgb(133,20,75)\"},\"mode\":\"lines\",\"type\":\"scatter\",\"x\":[1700.0,1700.0,1756.40625,1756.40625],\"xaxis\":\"x\",\"y\":[1.2194136954483168,1.5910522385178207,1.5910522385178207,1.439237783350233],\"yaxis\":\"y\"},{\"hoverinfo\":\"text\",\"marker\":{\"color\":\"rgb(133,20,75)\"},\"mode\":\"lines\",\"type\":\"scatter\",\"x\":[1617.8125,1617.8125,1728.203125,1728.203125],\"xaxis\":\"x\",\"y\":[1.4725231832229908,1.8974199584107434,1.8974199584107434,1.5910522385178207],\"yaxis\":\"y\"},{\"hoverinfo\":\"text\",\"marker\":{\"color\":\"rgb(133,20,75)\"},\"mode\":\"lines\",\"type\":\"scatter\",\"x\":[1570.0,1570.0,1673.0078125,1673.0078125],\"xaxis\":\"x\",\"y\":[1.5134973498930375,2.110193112521661,2.110193112521661,1.8974199584107434],\"yaxis\":\"y\"},{\"hoverinfo\":\"text\",\"marker\":{\"color\":\"rgb(133,20,75)\"},\"mode\":\"lines\",\"type\":\"scatter\",\"x\":[1524.375,1524.375,1621.50390625,1621.50390625],\"xaxis\":\"x\",\"y\":[1.8578059976279966,2.3582422748797565,2.3582422748797565,2.110193112521661],\"yaxis\":\"y\"},{\"hoverinfo\":\"text\",\"marker\":{\"color\":\"rgb(133,20,75)\"},\"mode\":\"lines\",\"type\":\"scatter\",\"x\":[1865.0,1865.0,1875.0,1875.0],\"xaxis\":\"x\",\"y\":[0.0,0.5455947935076166,0.5455947935076166,0.0],\"yaxis\":\"y\"},{\"hoverinfo\":\"text\",\"marker\":{\"color\":\"rgb(133,20,75)\"},\"mode\":\"lines\",\"type\":\"scatter\",\"x\":[1855.0,1855.0,1870.0,1870.0],\"xaxis\":\"x\",\"y\":[0.0,1.140007546955612,1.140007546955612,0.5455947935076166],\"yaxis\":\"y\"},{\"hoverinfo\":\"text\",\"marker\":{\"color\":\"rgb(133,20,75)\"},\"mode\":\"lines\",\"type\":\"scatter\",\"x\":[1845.0,1845.0,1862.5,1862.5],\"xaxis\":\"x\",\"y\":[0.0,1.536561711271489,1.536561711271489,1.140007546955612],\"yaxis\":\"y\"},{\"hoverinfo\":\"text\",\"marker\":{\"color\":\"rgb(133,20,75)\"},\"mode\":\"lines\",\"type\":\"scatter\",\"x\":[1885.0,1885.0,1895.0,1895.0],\"xaxis\":\"x\",\"y\":[0.0,0.998932617792837,0.998932617792837,0.0],\"yaxis\":\"y\"},{\"hoverinfo\":\"text\",\"marker\":{\"color\":\"rgb(133,20,75)\"},\"mode\":\"lines\",\"type\":\"scatter\",\"x\":[1925.0,1925.0,1935.0,1935.0],\"xaxis\":\"x\",\"y\":[0.0,0.6962311741830545,0.6962311741830545,0.0],\"yaxis\":\"y\"},{\"hoverinfo\":\"text\",\"marker\":{\"color\":\"rgb(133,20,75)\"},\"mode\":\"lines\",\"type\":\"scatter\",\"x\":[1915.0,1915.0,1930.0,1930.0],\"xaxis\":\"x\",\"y\":[0.0,0.8562301894151102,0.8562301894151102,0.6962311741830545],\"yaxis\":\"y\"},{\"hoverinfo\":\"text\",\"marker\":{\"color\":\"rgb(133,20,75)\"},\"mode\":\"lines\",\"type\":\"scatter\",\"x\":[1905.0,1905.0,1922.5,1922.5],\"xaxis\":\"x\",\"y\":[0.0,1.249087543232558,1.249087543232558,0.8562301894151102],\"yaxis\":\"y\"},{\"hoverinfo\":\"text\",\"marker\":{\"color\":\"rgb(133,20,75)\"},\"mode\":\"lines\",\"type\":\"scatter\",\"x\":[1890.0,1890.0,1913.75,1913.75],\"xaxis\":\"x\",\"y\":[0.998932617792837,2.0885090324661126,2.0885090324661126,1.249087543232558],\"yaxis\":\"y\"},{\"hoverinfo\":\"text\",\"marker\":{\"color\":\"rgb(133,20,75)\"},\"mode\":\"lines\",\"type\":\"scatter\",\"x\":[1853.75,1853.75,1901.875,1901.875],\"xaxis\":\"x\",\"y\":[1.536561711271489,2.4570403300798604,2.4570403300798604,2.0885090324661126],\"yaxis\":\"y\"},{\"hoverinfo\":\"text\",\"marker\":{\"color\":\"rgb(133,20,75)\"},\"mode\":\"lines\",\"type\":\"scatter\",\"x\":[1572.939453125,1572.939453125,1877.8125,1877.8125],\"xaxis\":\"x\",\"y\":[2.3582422748797565,3.299486446976151,3.299486446976151,2.4570403300798604],\"yaxis\":\"y\"},{\"hoverinfo\":\"text\",\"marker\":{\"color\":\"rgb(133,20,75)\"},\"mode\":\"lines\",\"type\":\"scatter\",\"x\":[1291.5625,1291.5625,1725.3759765625,1725.3759765625],\"xaxis\":\"x\",\"y\":[2.9514277556055313,3.3950603989386128,3.3950603989386128,3.299486446976151],\"yaxis\":\"y\"},{\"hoverinfo\":\"text\",\"marker\":{\"color\":\"rgb(133,20,75)\"},\"mode\":\"lines\",\"type\":\"scatter\",\"x\":[1945.0,1945.0,1955.0,1955.0],\"xaxis\":\"x\",\"y\":[0.0,2.1739034111464273,2.1739034111464273,0.0],\"yaxis\":\"y\"},{\"hoverinfo\":\"text\",\"marker\":{\"color\":\"rgb(133,20,75)\"},\"mode\":\"lines\",\"type\":\"scatter\",\"x\":[1975.0,1975.0,1985.0,1985.0],\"xaxis\":\"x\",\"y\":[0.0,2.2323136611519097,2.2323136611519097,0.0],\"yaxis\":\"y\"},{\"hoverinfo\":\"text\",\"marker\":{\"color\":\"rgb(133,20,75)\"},\"mode\":\"lines\",\"type\":\"scatter\",\"x\":[1965.0,1965.0,1980.0,1980.0],\"xaxis\":\"x\",\"y\":[0.0,2.6791155207511923,2.6791155207511923,2.2323136611519097],\"yaxis\":\"y\"},{\"hoverinfo\":\"text\",\"marker\":{\"color\":\"rgb(133,20,75)\"},\"mode\":\"lines\",\"type\":\"scatter\",\"x\":[1950.0,1950.0,1972.5,1972.5],\"xaxis\":\"x\",\"y\":[2.1739034111464273,3.5562236244409573,3.5562236244409573,2.6791155207511923],\"yaxis\":\"y\"},{\"hoverinfo\":\"text\",\"marker\":{\"color\":\"rgb(133,20,75)\"},\"mode\":\"lines\",\"type\":\"scatter\",\"x\":[1508.46923828125,1508.46923828125,1961.25,1961.25],\"xaxis\":\"x\",\"y\":[3.3950603989386128,4.3813266897175644,4.3813266897175644,3.5562236244409573],\"yaxis\":\"y\"},{\"hoverinfo\":\"text\",\"marker\":{\"color\":\"rgb(0,116,217)\"},\"mode\":\"lines\",\"type\":\"scatter\",\"x\":[814.41650390625,814.41650390625,1734.859619140625,1734.859619140625],\"xaxis\":\"x\",\"y\":[4.328349859458111,5.8238059049147735,5.8238059049147735,4.3813266897175644],\"yaxis\":\"y\"},{\"hoverinfo\":\"text\",\"marker\":{\"color\":\"rgb(0,116,217)\"},\"mode\":\"lines\",\"type\":\"scatter\",\"x\":[234.6990966796875,234.6990966796875,1274.6380615234375,1274.6380615234375],\"xaxis\":\"x\",\"y\":[4.861010239056859,7.120874163821361,7.120874163821361,5.8238059049147735],\"yaxis\":\"y\"},{\"hoverinfo\":\"text\",\"marker\":{\"color\":\"rgb(0,116,217)\"},\"mode\":\"lines\",\"type\":\"scatter\",\"x\":[31.875,31.875,754.6685791015625,754.6685791015625],\"xaxis\":\"x\",\"y\":[5.000906843594925,7.472739900262246,7.472739900262246,7.120874163821361],\"yaxis\":\"y\"}],                        {\"autosize\":false,\"height\":null,\"hovermode\":\"closest\",\"showlegend\":false,\"template\":{\"data\":{\"bar\":[{\"error_x\":{\"color\":\"#2a3f5f\"},\"error_y\":{\"color\":\"#2a3f5f\"},\"marker\":{\"line\":{\"color\":\"#E5ECF6\",\"width\":0.5},\"pattern\":{\"fillmode\":\"overlay\",\"size\":10,\"solidity\":0.2}},\"type\":\"bar\"}],\"barpolar\":[{\"marker\":{\"line\":{\"color\":\"#E5ECF6\",\"width\":0.5},\"pattern\":{\"fillmode\":\"overlay\",\"size\":10,\"solidity\":0.2}},\"type\":\"barpolar\"}],\"carpet\":[{\"aaxis\":{\"endlinecolor\":\"#2a3f5f\",\"gridcolor\":\"white\",\"linecolor\":\"white\",\"minorgridcolor\":\"white\",\"startlinecolor\":\"#2a3f5f\"},\"baxis\":{\"endlinecolor\":\"#2a3f5f\",\"gridcolor\":\"white\",\"linecolor\":\"white\",\"minorgridcolor\":\"white\",\"startlinecolor\":\"#2a3f5f\"},\"type\":\"carpet\"}],\"choropleth\":[{\"colorbar\":{\"outlinewidth\":0,\"ticks\":\"\"},\"type\":\"choropleth\"}],\"contour\":[{\"colorbar\":{\"outlinewidth\":0,\"ticks\":\"\"},\"colorscale\":[[0.0,\"#0d0887\"],[0.1111111111111111,\"#46039f\"],[0.2222222222222222,\"#7201a8\"],[0.3333333333333333,\"#9c179e\"],[0.4444444444444444,\"#bd3786\"],[0.5555555555555556,\"#d8576b\"],[0.6666666666666666,\"#ed7953\"],[0.7777777777777778,\"#fb9f3a\"],[0.8888888888888888,\"#fdca26\"],[1.0,\"#f0f921\"]],\"type\":\"contour\"}],\"contourcarpet\":[{\"colorbar\":{\"outlinewidth\":0,\"ticks\":\"\"},\"type\":\"contourcarpet\"}],\"heatmap\":[{\"colorbar\":{\"outlinewidth\":0,\"ticks\":\"\"},\"colorscale\":[[0.0,\"#0d0887\"],[0.1111111111111111,\"#46039f\"],[0.2222222222222222,\"#7201a8\"],[0.3333333333333333,\"#9c179e\"],[0.4444444444444444,\"#bd3786\"],[0.5555555555555556,\"#d8576b\"],[0.6666666666666666,\"#ed7953\"],[0.7777777777777778,\"#fb9f3a\"],[0.8888888888888888,\"#fdca26\"],[1.0,\"#f0f921\"]],\"type\":\"heatmap\"}],\"heatmapgl\":[{\"colorbar\":{\"outlinewidth\":0,\"ticks\":\"\"},\"colorscale\":[[0.0,\"#0d0887\"],[0.1111111111111111,\"#46039f\"],[0.2222222222222222,\"#7201a8\"],[0.3333333333333333,\"#9c179e\"],[0.4444444444444444,\"#bd3786\"],[0.5555555555555556,\"#d8576b\"],[0.6666666666666666,\"#ed7953\"],[0.7777777777777778,\"#fb9f3a\"],[0.8888888888888888,\"#fdca26\"],[1.0,\"#f0f921\"]],\"type\":\"heatmapgl\"}],\"histogram\":[{\"marker\":{\"pattern\":{\"fillmode\":\"overlay\",\"size\":10,\"solidity\":0.2}},\"type\":\"histogram\"}],\"histogram2d\":[{\"colorbar\":{\"outlinewidth\":0,\"ticks\":\"\"},\"colorscale\":[[0.0,\"#0d0887\"],[0.1111111111111111,\"#46039f\"],[0.2222222222222222,\"#7201a8\"],[0.3333333333333333,\"#9c179e\"],[0.4444444444444444,\"#bd3786\"],[0.5555555555555556,\"#d8576b\"],[0.6666666666666666,\"#ed7953\"],[0.7777777777777778,\"#fb9f3a\"],[0.8888888888888888,\"#fdca26\"],[1.0,\"#f0f921\"]],\"type\":\"histogram2d\"}],\"histogram2dcontour\":[{\"colorbar\":{\"outlinewidth\":0,\"ticks\":\"\"},\"colorscale\":[[0.0,\"#0d0887\"],[0.1111111111111111,\"#46039f\"],[0.2222222222222222,\"#7201a8\"],[0.3333333333333333,\"#9c179e\"],[0.4444444444444444,\"#bd3786\"],[0.5555555555555556,\"#d8576b\"],[0.6666666666666666,\"#ed7953\"],[0.7777777777777778,\"#fb9f3a\"],[0.8888888888888888,\"#fdca26\"],[1.0,\"#f0f921\"]],\"type\":\"histogram2dcontour\"}],\"mesh3d\":[{\"colorbar\":{\"outlinewidth\":0,\"ticks\":\"\"},\"type\":\"mesh3d\"}],\"parcoords\":[{\"line\":{\"colorbar\":{\"outlinewidth\":0,\"ticks\":\"\"}},\"type\":\"parcoords\"}],\"pie\":[{\"automargin\":true,\"type\":\"pie\"}],\"scatter\":[{\"marker\":{\"colorbar\":{\"outlinewidth\":0,\"ticks\":\"\"}},\"type\":\"scatter\"}],\"scatter3d\":[{\"line\":{\"colorbar\":{\"outlinewidth\":0,\"ticks\":\"\"}},\"marker\":{\"colorbar\":{\"outlinewidth\":0,\"ticks\":\"\"}},\"type\":\"scatter3d\"}],\"scattercarpet\":[{\"marker\":{\"colorbar\":{\"outlinewidth\":0,\"ticks\":\"\"}},\"type\":\"scattercarpet\"}],\"scattergeo\":[{\"marker\":{\"colorbar\":{\"outlinewidth\":0,\"ticks\":\"\"}},\"type\":\"scattergeo\"}],\"scattergl\":[{\"marker\":{\"colorbar\":{\"outlinewidth\":0,\"ticks\":\"\"}},\"type\":\"scattergl\"}],\"scattermapbox\":[{\"marker\":{\"colorbar\":{\"outlinewidth\":0,\"ticks\":\"\"}},\"type\":\"scattermapbox\"}],\"scatterpolar\":[{\"marker\":{\"colorbar\":{\"outlinewidth\":0,\"ticks\":\"\"}},\"type\":\"scatterpolar\"}],\"scatterpolargl\":[{\"marker\":{\"colorbar\":{\"outlinewidth\":0,\"ticks\":\"\"}},\"type\":\"scatterpolargl\"}],\"scatterternary\":[{\"marker\":{\"colorbar\":{\"outlinewidth\":0,\"ticks\":\"\"}},\"type\":\"scatterternary\"}],\"surface\":[{\"colorbar\":{\"outlinewidth\":0,\"ticks\":\"\"},\"colorscale\":[[0.0,\"#0d0887\"],[0.1111111111111111,\"#46039f\"],[0.2222222222222222,\"#7201a8\"],[0.3333333333333333,\"#9c179e\"],[0.4444444444444444,\"#bd3786\"],[0.5555555555555556,\"#d8576b\"],[0.6666666666666666,\"#ed7953\"],[0.7777777777777778,\"#fb9f3a\"],[0.8888888888888888,\"#fdca26\"],[1.0,\"#f0f921\"]],\"type\":\"surface\"}],\"table\":[{\"cells\":{\"fill\":{\"color\":\"#EBF0F8\"},\"line\":{\"color\":\"white\"}},\"header\":{\"fill\":{\"color\":\"#C8D4E3\"},\"line\":{\"color\":\"white\"}},\"type\":\"table\"}]},\"layout\":{\"annotationdefaults\":{\"arrowcolor\":\"#2a3f5f\",\"arrowhead\":0,\"arrowwidth\":1},\"autotypenumbers\":\"strict\",\"coloraxis\":{\"colorbar\":{\"outlinewidth\":0,\"ticks\":\"\"}},\"colorscale\":{\"diverging\":[[0,\"#8e0152\"],[0.1,\"#c51b7d\"],[0.2,\"#de77ae\"],[0.3,\"#f1b6da\"],[0.4,\"#fde0ef\"],[0.5,\"#f7f7f7\"],[0.6,\"#e6f5d0\"],[0.7,\"#b8e186\"],[0.8,\"#7fbc41\"],[0.9,\"#4d9221\"],[1,\"#276419\"]],\"sequential\":[[0.0,\"#0d0887\"],[0.1111111111111111,\"#46039f\"],[0.2222222222222222,\"#7201a8\"],[0.3333333333333333,\"#9c179e\"],[0.4444444444444444,\"#bd3786\"],[0.5555555555555556,\"#d8576b\"],[0.6666666666666666,\"#ed7953\"],[0.7777777777777778,\"#fb9f3a\"],[0.8888888888888888,\"#fdca26\"],[1.0,\"#f0f921\"]],\"sequentialminus\":[[0.0,\"#0d0887\"],[0.1111111111111111,\"#46039f\"],[0.2222222222222222,\"#7201a8\"],[0.3333333333333333,\"#9c179e\"],[0.4444444444444444,\"#bd3786\"],[0.5555555555555556,\"#d8576b\"],[0.6666666666666666,\"#ed7953\"],[0.7777777777777778,\"#fb9f3a\"],[0.8888888888888888,\"#fdca26\"],[1.0,\"#f0f921\"]]},\"colorway\":[\"#636efa\",\"#EF553B\",\"#00cc96\",\"#ab63fa\",\"#FFA15A\",\"#19d3f3\",\"#FF6692\",\"#B6E880\",\"#FF97FF\",\"#FECB52\"],\"font\":{\"color\":\"#2a3f5f\"},\"geo\":{\"bgcolor\":\"white\",\"lakecolor\":\"white\",\"landcolor\":\"#E5ECF6\",\"showlakes\":true,\"showland\":true,\"subunitcolor\":\"white\"},\"hoverlabel\":{\"align\":\"left\"},\"hovermode\":\"closest\",\"mapbox\":{\"style\":\"light\"},\"paper_bgcolor\":\"white\",\"plot_bgcolor\":\"#E5ECF6\",\"polar\":{\"angularaxis\":{\"gridcolor\":\"white\",\"linecolor\":\"white\",\"ticks\":\"\"},\"bgcolor\":\"#E5ECF6\",\"radialaxis\":{\"gridcolor\":\"white\",\"linecolor\":\"white\",\"ticks\":\"\"}},\"scene\":{\"xaxis\":{\"backgroundcolor\":\"#E5ECF6\",\"gridcolor\":\"white\",\"gridwidth\":2,\"linecolor\":\"white\",\"showbackground\":true,\"ticks\":\"\",\"zerolinecolor\":\"white\"},\"yaxis\":{\"backgroundcolor\":\"#E5ECF6\",\"gridcolor\":\"white\",\"gridwidth\":2,\"linecolor\":\"white\",\"showbackground\":true,\"ticks\":\"\",\"zerolinecolor\":\"white\"},\"zaxis\":{\"backgroundcolor\":\"#E5ECF6\",\"gridcolor\":\"white\",\"gridwidth\":2,\"linecolor\":\"white\",\"showbackground\":true,\"ticks\":\"\",\"zerolinecolor\":\"white\"}},\"shapedefaults\":{\"line\":{\"color\":\"#2a3f5f\"}},\"ternary\":{\"aaxis\":{\"gridcolor\":\"white\",\"linecolor\":\"white\",\"ticks\":\"\"},\"baxis\":{\"gridcolor\":\"white\",\"linecolor\":\"white\",\"ticks\":\"\"},\"bgcolor\":\"#E5ECF6\",\"caxis\":{\"gridcolor\":\"white\",\"linecolor\":\"white\",\"ticks\":\"\"}},\"title\":{\"x\":0.05},\"xaxis\":{\"automargin\":true,\"gridcolor\":\"white\",\"linecolor\":\"white\",\"ticks\":\"\",\"title\":{\"standoff\":15},\"zerolinecolor\":\"white\",\"zerolinewidth\":2},\"yaxis\":{\"automargin\":true,\"gridcolor\":\"white\",\"linecolor\":\"white\",\"ticks\":\"\",\"title\":{\"standoff\":15},\"zerolinecolor\":\"white\",\"zerolinewidth\":2}}},\"width\":null,\"xaxis\":{\"mirror\":\"allticks\",\"rangemode\":\"tozero\",\"showgrid\":false,\"showline\":true,\"showticklabels\":true,\"tickmode\":\"array\",\"ticks\":\"outside\",\"ticktext\":[\"Taiwan\",\"Israel\",\"United States\",\"Federal Republic of Germany\",\"German Democratic Republic\",\"Yemen People's Republic\",\"Czechoslovakia\",\"Yemen Arab Republic\",\"Switzerland\",\"Tonga\",\"Kiribati\",\"Timor-Leste\",\"Tuvalu\",\"Nauru\",\"Palau\",\"Marshall Islands\",\"Micronesia (Federated States of)\",\"Montenegro\",\"South Sudan\",\"Japan\",\"Ireland\",\"Austria\",\"Finland\",\"Spain\",\"Italy\",\"Portugal\",\"France\",\"United Kingdom\",\"Sweden\",\"New Zealand\",\"Iceland\",\"Denmark\",\"Norway\",\"Netherlands\",\"Belgium\",\"Luxembourg\",\"Australia\",\"Canada\",\"South Africa\",\"Namibia\",\"North Korea\",\"Yemen\",\"Eritrea\",\"Turkmenistan\",\"Azerbaijan\",\"Kazakhstan\",\"Uzbekistan\",\"Kyrgyzstan\",\"Tajikistan\",\"Bosnia & Herzegovina\",\"Liechtenstein\",\"South Korea\",\"Germany\",\"Latvia\",\"Estonia\",\"Lithuania\",\"Monaco\",\"Georgia\",\"Andorra\",\"Croatia\",\"North Macedonia\",\"Czechia\",\"Slovakia\",\"San Marino\",\"Armenia\",\"Moldova\",\"Slovenia\",\"Seychelles\",\"Zimbabwe\",\"Samoa\",\"Solomon Islands\",\"St. Lucia\",\"Vanuatu\",\"Dominica\",\"Belize\",\"Antigua & Barbuda\",\"St. Vincent & Grenadines\",\"Brunei\",\"St. Kitts & Nevis\",\"Equatorial Guinea\",\"Botswana\",\"Eswatini\",\"Fiji\",\"China\",\"Bhutan\",\"Oman\",\"Qatar\",\"Bahrain\",\"United Arab Emirates\",\"Gambia\",\"Malta\",\"Mauritius\",\"Singapore\",\"Zambia\",\"Barbados\",\"Guyana\",\"Lesotho\",\"S\\u00e3o Tom\\u00e9 & Pr\\u00edncipe\",\"Guinea-Bissau\",\"Angola\",\"Djibouti\",\"Vietnam\",\"Bahamas\",\"Grenada\",\"Papua New Guinea\",\"Comoros\",\"Bangladesh\",\"Suriname\",\"Cape Verde\",\"Mozambique\",\"Malawi\",\"Maldives\",\"Niger\",\"Burundi\",\"Mauritania\",\"Rwanda\",\"Kenya\",\"Kuwait\",\"Jamaica\",\"Trinidad & Tobago\",\"Algeria\",\"Uganda\",\"Cameroon\",\"Cyprus\",\"Chad\",\"Guinea\",\"Nigeria\",\"Mali\",\"Togo\",\"Congo - Kinshasa\",\"C\\u00f4te d\\u2019Ivoire\",\"Mongolia\",\"Gabon\",\"Burkina Faso\",\"Senegal\",\"Benin\",\"Madagascar\",\"Congo - Brazzaville\",\"Sierra Leone\",\"Tanzania\",\"Cambodia\",\"Laos\",\"Ghana\",\"Malaysia\",\"Nepal\",\"Sri Lanka\",\"Tunisia\",\"Sudan\",\"Libya\",\"Jordan\",\"Morocco\",\"Syria\",\"Indonesia\",\"Myanmar (Burma)\",\"India\",\"Pakistan\",\"Argentina\",\"Dominican Republic\",\"Guatemala\",\"Haiti\",\"Bolivia\",\"Brazil\",\"Uruguay\",\"Chile\",\"El Salvador\",\"Costa Rica\",\"Honduras\",\"Nicaragua\",\"Paraguay\",\"Cuba\",\"Panama\",\"Ethiopia\",\"Lebanon\",\"Afghanistan\",\"Egypt\",\"Saudi Arabia\",\"Iran\",\"Mexico\",\"Philippines\",\"Thailand\",\"Peru\",\"Colombia\",\"Ecuador\",\"Venezuela\",\"Albania\",\"Bulgaria\",\"Hungary\",\"Romania\",\"Greece\",\"Turkey\",\"Belarus\",\"Ukraine\",\"Poland\",\"Russia\",\"Central African Republic\",\"Somalia\",\"Yugoslavia\",\"Iraq\",\"Liberia\"],\"tickvals\":[5.0,15.0,25.0,35.0,45.0,55.0,65.0,75.0,85.0,95.0,105.0,115.0,125.0,135.0,145.0,155.0,165.0,175.0,185.0,195.0,205.0,215.0,225.0,235.0,245.0,255.0,265.0,275.0,285.0,295.0,305.0,315.0,325.0,335.0,345.0,355.0,365.0,375.0,385.0,395.0,405.0,415.0,425.0,435.0,445.0,455.0,465.0,475.0,485.0,495.0,505.0,515.0,525.0,535.0,545.0,555.0,565.0,575.0,585.0,595.0,605.0,615.0,625.0,635.0,645.0,655.0,665.0,675.0,685.0,695.0,705.0,715.0,725.0,735.0,745.0,755.0,765.0,775.0,785.0,795.0,805.0,815.0,825.0,835.0,845.0,855.0,865.0,875.0,885.0,895.0,905.0,915.0,925.0,935.0,945.0,955.0,965.0,975.0,985.0,995.0,1005.0,1015.0,1025.0,1035.0,1045.0,1055.0,1065.0,1075.0,1085.0,1095.0,1105.0,1115.0,1125.0,1135.0,1145.0,1155.0,1165.0,1175.0,1185.0,1195.0,1205.0,1215.0,1225.0,1235.0,1245.0,1255.0,1265.0,1275.0,1285.0,1295.0,1305.0,1315.0,1325.0,1335.0,1345.0,1355.0,1365.0,1375.0,1385.0,1395.0,1405.0,1415.0,1425.0,1435.0,1445.0,1455.0,1465.0,1475.0,1485.0,1495.0,1505.0,1515.0,1525.0,1535.0,1545.0,1555.0,1565.0,1575.0,1585.0,1595.0,1605.0,1615.0,1625.0,1635.0,1645.0,1655.0,1665.0,1675.0,1685.0,1695.0,1705.0,1715.0,1725.0,1735.0,1745.0,1755.0,1765.0,1775.0,1785.0,1795.0,1805.0,1815.0,1825.0,1835.0,1845.0,1855.0,1865.0,1875.0,1885.0,1895.0,1905.0,1915.0,1925.0,1935.0,1945.0,1955.0,1965.0,1975.0,1985.0],\"type\":\"linear\",\"zeroline\":false},\"yaxis\":{\"mirror\":\"allticks\",\"rangemode\":\"tozero\",\"showgrid\":false,\"showline\":true,\"showticklabels\":true,\"ticks\":\"outside\",\"type\":\"linear\",\"zeroline\":false}},                        {\"responsive\": true}                    ).then(function(){\n",
       "                            \n",
       "var gd = document.getElementById('115b0e46-e44c-4d3b-9972-dd1b8fe52924');\n",
       "var x = new MutationObserver(function (mutations, observer) {{\n",
       "        var display = window.getComputedStyle(gd).display;\n",
       "        if (!display || display === 'none') {{\n",
       "            console.log([gd, 'removed!']);\n",
       "            Plotly.purge(gd);\n",
       "            observer.disconnect();\n",
       "        }}\n",
       "}});\n",
       "\n",
       "// Listen for the removal of the full notebook cells\n",
       "var notebookContainer = gd.closest('#notebook-container');\n",
       "if (notebookContainer) {{\n",
       "    x.observe(notebookContainer, {childList: true});\n",
       "}}\n",
       "\n",
       "// Listen for the clearing of the current output cell\n",
       "var outputEl = gd.closest('.output');\n",
       "if (outputEl) {{\n",
       "    x.observe(outputEl, {childList: true});\n",
       "}}\n",
       "\n",
       "                        })                };                });            </script>        </div>"
      ]
     },
     "metadata": {},
     "output_type": "display_data"
    }
   ],
   "source": [
    "fig = create_dendrogram(unvotes_percent_wide_array, labels=unvotes_percent_wide.columns)\n",
    "fig.show()"
   ]
  },
  {
   "cell_type": "code",
   "execution_count": null,
   "metadata": {},
   "outputs": [],
   "source": []
  }
 ],
 "metadata": {
  "kernelspec": {
   "display_name": "Python 3",
   "language": "python",
   "name": "python3"
  },
  "language_info": {
   "codemirror_mode": {
    "name": "ipython",
    "version": 3
   },
   "file_extension": ".py",
   "mimetype": "text/x-python",
   "name": "python",
   "nbconvert_exporter": "python",
   "pygments_lexer": "ipython3",
   "version": "3.8.5"
  }
 },
 "nbformat": 4,
 "nbformat_minor": 5
}
